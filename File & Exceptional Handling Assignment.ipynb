{
 "cells": [
  {
   "cell_type": "markdown",
   "id": "017aa832-c4f3-45e1-9fc8-4b5bf37f5313",
   "metadata": {},
   "source": [
    "#### Q1. Discuss the scenarios where multithreading is preferable to multiprocessing and scenarios where multiprocessing is a better choice.\n",
    "\n",
    "##### Multithreading is preferable when:\n",
    "1. Tasks are I/O bound (waiting for file, network, or user input).\n",
    "2. Tasks share common memory and data structures.\n",
    "3. Lightweight concurrency is required (threads are cheaper than processes).\n",
    "4. Example: Web scraping, real-time chat servers, file reading/writing.\n",
    "\n",
    "##### Multiprocessing is preferable when:\n",
    "1. Tasks are CPU bound (require heavy computation).\n",
    "2. Each task needs to run independently (separate memory space).\n",
    "3. You want to fully utilize multi-core CPUs.\n",
    "4. Example: Matrix multiplication, image processing, data analysis.\n",
    "\n"
   ]
  },
  {
   "cell_type": "markdown",
   "id": "55bb6bfc-e9ae-450a-9bac-893ab2116351",
   "metadata": {},
   "source": [
    "#### Q2. Describe what a process pool is and how it helps in managing multiple processes efficiently.\n",
    "\n",
    "A **process pool** is a collection of worker processes managed by a pool object.\n",
    "- Instead of creating/destroying new processes every time, tasks are distributed among pre-created processes.\n",
    "- Helps in efficient CPU utilization and reduces process creation overhead.\n",
    "\n",
    "Example: `multiprocessing.Pool` in Python.\n"
   ]
  },
  {
   "cell_type": "markdown",
   "id": "06beebfb-c356-462c-9588-1413a3c447d4",
   "metadata": {},
   "source": [
    "#### Q3. Explain what multiprocessing is and why it is used in Python programs.\n",
    "\n",
    "Multiprocessing is running multiple processes simultaneously, each with its own Python interpreter and memory space.\n",
    "- Bypasses Python's Global Interpreter Lock (GIL).\n",
    "- Useful for CPU-bound tasks like numerical computation, simulations, and machine learning training.\n"
   ]
  },
  {
   "cell_type": "markdown",
   "id": "fae78f43-4c45-48c7-aa5b-38183bf3819e",
   "metadata": {},
   "source": [
    "#### Q4. Write a Python program using multithreading where one thread adds numbers to a list, and another thread removes numbers from the list. Implement a mechanism to avoid race conditions using threading Lock.\n"
   ]
  },
  {
   "cell_type": "code",
   "execution_count": 1,
   "id": "e55f1116-b3e6-40fb-8316-a5f5319c5064",
   "metadata": {},
   "outputs": [
    {
     "name": "stdout",
     "output_type": "stream",
     "text": [
      "Added 1\n",
      "Removed 1\n",
      "Added 2\n",
      "Removed 2\n",
      "Added 3\n",
      "Removed 3\n",
      "Added 4\n",
      "Added 5\n",
      "Removed 4\n",
      "Removed 5\n",
      "Final List: []\n"
     ]
    }
   ],
   "source": [
    "import threading\n",
    "import time\n",
    "\n",
    "numbers = []\n",
    "lock = threading.Lock()\n",
    "\n",
    "def add_numbers():\n",
    "    for i in range(1, 6):\n",
    "        with lock:\n",
    "            numbers.append(i)\n",
    "            print(f\"Added {i}\")\n",
    "        time.sleep(0.5)\n",
    "\n",
    "def remove_numbers():\n",
    "    for _ in range(5):\n",
    "        with lock:\n",
    "            if numbers:\n",
    "                val = numbers.pop(0)\n",
    "                print(f\"Removed {val}\")\n",
    "        time.sleep(0.7)\n",
    "\n",
    "t1 = threading.Thread(target=add_numbers)\n",
    "t2 = threading.Thread(target=remove_numbers)\n",
    "\n",
    "t1.start()\n",
    "t2.start()\n",
    "\n",
    "t1.join()\n",
    "t2.join()\n",
    "\n",
    "print(\"Final List:\", numbers)\n"
   ]
  },
  {
   "cell_type": "markdown",
   "id": "59dfb978-f8a6-47c9-9aba-ee9bd683737f",
   "metadata": {},
   "source": [
    "#### Q5. Describe the methods and tools available in Python for safely sharing data between threads and processes.\n",
    "\n",
    "##### Between Threads:\n",
    "- `threading.Lock`: Prevents race conditions.\n",
    "- `threading.RLock`: Re-entrant lock.\n",
    "- `queue.Queue`: Thread-safe queue.\n",
    "\n",
    "##### Between Processes:\n",
    "- `multiprocessing.Queue`: For passing messages/data between processes.\n",
    "- `multiprocessing.Pipe`: Two-way communication.\n",
    "- `multiprocessing.Manager`: Provides shared objects like list, dict.\n",
    "\n"
   ]
  },
  {
   "cell_type": "markdown",
   "id": "f5a522df-88eb-43fb-9ecd-f5ae5b4268d2",
   "metadata": {},
   "source": [
    "#### Q6. Discuss why it's crucial to handle exceptions in concurrent programs and the techniques available for doing so.\n",
    "\n",
    "- Exceptions in threads/processes may not be visible to the main program.\n",
    "- Crucial to handle exceptions to avoid program crashes.\n",
    "\n",
    "##### Techniques:\n",
    "1. Wrap worker code in `try-except`.\n",
    "2. Use `concurrent.futures` which propagates exceptions back to the caller.\n",
    "3. Logging errors for debugging.\n",
    "\n"
   ]
  },
  {
   "cell_type": "markdown",
   "id": "02c3ce4f-747b-475a-ab46-67c3a778e392",
   "metadata": {},
   "source": [
    "#### Q7. Create a program that uses a thread pool to calculate the factorial of numbers from 1 to 10 concurrently. Use concurrent.futures.ThreadPoolExecutor to manage the threads.\n"
   ]
  },
  {
   "cell_type": "code",
   "execution_count": 2,
   "id": "8d10515a-bfdd-4adf-8cd3-b3275e03338f",
   "metadata": {},
   "outputs": [
    {
     "name": "stdout",
     "output_type": "stream",
     "text": [
      "Factorial of 1 = 1\n",
      "Factorial of 2 = 2\n",
      "Factorial of 3 = 6\n",
      "Factorial of 4 = 24\n",
      "Factorial of 5 = 120\n",
      "Factorial of 6 = 720\n",
      "Factorial of 7 = 5040\n",
      "Factorial of 8 = 40320\n",
      "Factorial of 9 = 362880\n",
      "Factorial of 10 = 3628800\n"
     ]
    }
   ],
   "source": [
    "import math\n",
    "from concurrent.futures import ThreadPoolExecutor\n",
    "\n",
    "def factorial(n):\n",
    "    return n, math.factorial(n)\n",
    "\n",
    "with ThreadPoolExecutor(max_workers=5) as executor:\n",
    "    results = list(executor.map(factorial, range(1, 11)))\n",
    "\n",
    "for n, fact in results:\n",
    "    print(f\"Factorial of {n} = {fact}\")\n"
   ]
  },
  {
   "cell_type": "markdown",
   "id": "02fb0246-e050-4c12-afa3-7c5b0fa8e931",
   "metadata": {},
   "source": [
    "#### Q8. Create a Python program that uses multiprocessing.Pool to compute the square of numbers from 1 to 10 in parallel. Measure the time taken to perform this computation using a pool of different sizes (e.g., 2, 4, 8 processes)."
   ]
  },
  {
   "cell_type": "code",
   "execution_count": null,
   "id": "76dfe69d-1c2a-4dae-a6ba-7d1d9ce9ae09",
   "metadata": {},
   "outputs": [],
   "source": [
    "import multiprocessing\n",
    "import time\n",
    "\n",
    "def square(n):\n",
    "    return n, n*n\n",
    "\n",
    "for pool_size in [2, 4, 8]:\n",
    "    start = time.time()\n",
    "    with multiprocessing.Pool(processes=pool_size) as pool:\n",
    "        results = pool.map(square, range(1, 11))\n",
    "    end = time.time()\n",
    "\n",
    "    print(f\"\\nPool size = {pool_size}\")\n",
    "    for n, sq in results:\n",
    "        print(f\"{n}^2 = {sq}\")\n",
    "    print(f\"Time taken with pool size {pool_size}: {end - start:.4f} sec\")\n"
   ]
  }
 ],
 "metadata": {
  "kernelspec": {
   "display_name": "Python [conda env:base] *",
   "language": "python",
   "name": "conda-base-py"
  },
  "language_info": {
   "codemirror_mode": {
    "name": "ipython",
    "version": 3
   },
   "file_extension": ".py",
   "mimetype": "text/x-python",
   "name": "python",
   "nbconvert_exporter": "python",
   "pygments_lexer": "ipython3",
   "version": "3.13.5"
  }
 },
 "nbformat": 4,
 "nbformat_minor": 5
}
