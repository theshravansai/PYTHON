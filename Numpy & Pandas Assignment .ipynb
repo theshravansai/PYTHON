{
 "cells": [
  {
   "cell_type": "markdown",
   "id": "9d73211e-5c2a-472d-a79e-29621671a48c",
   "metadata": {},
   "source": [
    "# Numpy & Pandas Assignment"
   ]
  },
  {
   "cell_type": "markdown",
   "id": "6e0380ef-879a-4f18-a8f7-2f6de026ebdc",
   "metadata": {},
   "source": [
    "### Q1. Create a NumPy array 'arr' of integers from 0 to 5 and print its data type."
   ]
  },
  {
   "cell_type": "code",
   "execution_count": null,
   "id": "499d26e2-5138-446a-97c0-ac0d13a24193",
   "metadata": {},
   "outputs": [],
   "source": [
    "import numpy as np\n",
    "import pandas as pd\n",
    "import sys\n",
    "from numpy.linalg import det, inv\n"
   ]
  },
  {
   "cell_type": "code",
   "execution_count": 2,
   "id": "ce59271c-777a-46a7-88e7-749aaf94f5f7",
   "metadata": {},
   "outputs": [
    {
     "name": "stdout",
     "output_type": "stream",
     "text": [
      "[0 1 2 3 4 5] int64\n"
     ]
    }
   ],
   "source": [
    "arr = np.arange(6)\n",
    "print(arr, arr.dtype)\n"
   ]
  },
  {
   "cell_type": "markdown",
   "id": "e5f5c403-4a33-42e8-8d1a-cb2fd128550f",
   "metadata": {},
   "source": [
    "### Q2. Given a NumPy array 'arr', check if its data type is float64."
   ]
  },
  {
   "cell_type": "code",
   "execution_count": 3,
   "id": "f3c84078-fa18-427b-809c-f47f06dcbfd7",
   "metadata": {},
   "outputs": [
    {
     "name": "stdout",
     "output_type": "stream",
     "text": [
      "True\n"
     ]
    }
   ],
   "source": [
    "arr = np.array([1.1, 2.2, 3.3], dtype=np.float64)\n",
    "is_float64 = arr.dtype == np.float64\n",
    "print(is_float64)\n"
   ]
  },
  {
   "cell_type": "markdown",
   "id": "b0988ac7-242b-498b-821e-ce8cd3f73251",
   "metadata": {},
   "source": [
    "### Q3. Create a NumPy array 'arr' with a data type of complex128 containing three complex numbers."
   ]
  },
  {
   "cell_type": "code",
   "execution_count": 5,
   "id": "b5fa04dc-f197-44b6-afcf-b5dcb4725013",
   "metadata": {},
   "outputs": [
    {
     "name": "stdout",
     "output_type": "stream",
     "text": [
      "[1.+2.j 3.+4.j 5.+6.j]\n"
     ]
    }
   ],
   "source": [
    "arr = np.array([1+2j, 3+4j, 5+6j], dtype=np.complex128)\n",
    "print(arr)\n"
   ]
  },
  {
   "cell_type": "markdown",
   "id": "4816c2b7-6307-40db-8f60-911e4fa1a98e",
   "metadata": {},
   "source": [
    "### Q4. Convert an existing NumPy array 'arr' of integers to float32 data type."
   ]
  },
  {
   "cell_type": "code",
   "execution_count": 6,
   "id": "27b0288e-8b52-4eb4-9a27-019bc9180653",
   "metadata": {},
   "outputs": [
    {
     "name": "stdout",
     "output_type": "stream",
     "text": [
      "[1. 2. 3. 4.] float32\n"
     ]
    }
   ],
   "source": [
    "arr = np.array([1, 2, 3, 4])\n",
    "arr = arr.astype(np.float32)\n",
    "print(arr, arr.dtype)\n"
   ]
  },
  {
   "cell_type": "markdown",
   "id": "fe81a63e-1f5b-48fd-b1a2-81ec4c0ae410",
   "metadata": {},
   "source": [
    "### Q5. Given a NumPy array 'arr' with float64 data type, convert it to float32."
   ]
  },
  {
   "cell_type": "code",
   "execution_count": 7,
   "id": "2d3e8d5d-ef71-43ae-a78e-5674322d0fdb",
   "metadata": {},
   "outputs": [
    {
     "name": "stdout",
     "output_type": "stream",
     "text": [
      "[1.1 2.2 3.3] float32\n"
     ]
    }
   ],
   "source": [
    "arr = np.array([1.1, 2.2, 3.3], dtype=np.float64)\n",
    "arr = arr.astype(np.float32)\n",
    "print(arr, arr.dtype)\n"
   ]
  },
  {
   "cell_type": "markdown",
   "id": "1d660983-5097-4dd7-82f8-71d8d91765cb",
   "metadata": {},
   "source": [
    "### Q6. Write a function array_attributes that takes a NumPy array as input and returns its shape, size, and data type."
   ]
  },
  {
   "cell_type": "code",
   "execution_count": 8,
   "id": "e47699d8-b369-490e-b0d7-64ffa93d01cd",
   "metadata": {},
   "outputs": [
    {
     "name": "stdout",
     "output_type": "stream",
     "text": [
      "((2, 2), 4, dtype('int64'))\n"
     ]
    }
   ],
   "source": [
    "def array_attributes(arr):\n",
    "    return arr.shape, arr.size, arr.dtype\n",
    "\n",
    "print(array_attributes(np.array([[1, 2], [3, 4]])))\n"
   ]
  },
  {
   "cell_type": "markdown",
   "id": "856e340a-037c-409a-a785-2eb6cd1af23b",
   "metadata": {},
   "source": [
    "### Q7. Create a function array_dimension that takes a NumPy array as input and returns its dimensionality."
   ]
  },
  {
   "cell_type": "code",
   "execution_count": 9,
   "id": "3ad446ce-0987-429a-bc49-e08c39540235",
   "metadata": {},
   "outputs": [
    {
     "name": "stdout",
     "output_type": "stream",
     "text": [
      "2\n"
     ]
    }
   ],
   "source": [
    "def array_dimension(arr):\n",
    "    return arr.ndim\n",
    "\n",
    "print(array_dimension(np.array([[1, 2], [3, 4]])))\n"
   ]
  },
  {
   "cell_type": "markdown",
   "id": "1d10c55a-b0d9-4059-a64c-6a83cf44dc06",
   "metadata": {},
   "source": [
    "### Q8. Design a function item_size_info that takes a NumPy array as input and returns the item size and the total size in bytes."
   ]
  },
  {
   "cell_type": "code",
   "execution_count": 10,
   "id": "8ce13575-b533-49f6-96df-e487ef5b605a",
   "metadata": {},
   "outputs": [
    {
     "name": "stdout",
     "output_type": "stream",
     "text": [
      "(4, 12)\n"
     ]
    }
   ],
   "source": [
    "def item_size_info(arr):\n",
    "    return arr.itemsize, arr.nbytes\n",
    "\n",
    "print(item_size_info(np.array([1, 2, 3], dtype=np.int32)))\n"
   ]
  },
  {
   "cell_type": "markdown",
   "id": "d61dcc4c-18e9-4977-b8ca-da4890d11007",
   "metadata": {},
   "source": [
    "### Q9. Create a function array_strides that takes a NumPy array as input and returns the strides of the array."
   ]
  },
  {
   "cell_type": "code",
   "execution_count": 11,
   "id": "12714f10-6b9f-4f65-a99c-f480f4d86722",
   "metadata": {},
   "outputs": [
    {
     "name": "stdout",
     "output_type": "stream",
     "text": [
      "(8,)\n"
     ]
    }
   ],
   "source": [
    "def array_strides(arr):\n",
    "    return arr.strides\n",
    "\n",
    "arr = np.array([1.5, 2.6, 3.7])\n",
    "print(array_strides(arr))\n"
   ]
  },
  {
   "cell_type": "markdown",
   "id": "a2138045-fb40-435a-be8b-a42faec4158a",
   "metadata": {},
   "source": [
    "### Q10. Design a function shape_stride_relationship that takes a NumPy array as input and returns the shape and strides of the array."
   ]
  },
  {
   "cell_type": "code",
   "execution_count": 12,
   "id": "13d2714f-9a7c-4d85-881f-9923dc6c25e3",
   "metadata": {},
   "outputs": [
    {
     "name": "stdout",
     "output_type": "stream",
     "text": [
      "((2, 3), (24, 8))\n"
     ]
    }
   ],
   "source": [
    "def shape_stride_relationship(arr):\n",
    "    return arr.shape, arr.strides\n",
    "\n",
    "print(shape_stride_relationship(np.array([[1, 2, 3], [4, 5, 6]])))\n"
   ]
  },
  {
   "cell_type": "markdown",
   "id": "6f15022d-6b03-4a8f-ba5f-d2dd59dffd9e",
   "metadata": {},
   "source": [
    "### Q11. Create a function create_zeros_array that takes an integer n as input and returns a NumPy array of zeros with n elements."
   ]
  },
  {
   "cell_type": "code",
   "execution_count": 13,
   "id": "d105d856-9423-4eb0-b3a9-88eaddcc416a",
   "metadata": {},
   "outputs": [
    {
     "name": "stdout",
     "output_type": "stream",
     "text": [
      "[0. 0. 0. 0. 0.]\n"
     ]
    }
   ],
   "source": [
    "def create_zeros_array(n):\n",
    "    return np.zeros(n)\n",
    "\n",
    "print(create_zeros_array(5))\n"
   ]
  },
  {
   "cell_type": "markdown",
   "id": "c8493311-eb43-4ac6-890b-10fb68551e39",
   "metadata": {},
   "source": [
    "### Q12. Write a function create_ones_matrix that takes integers rows and cols as inputs and generates a 2D NumPy array filled with ones of size rows x cols."
   ]
  },
  {
   "cell_type": "code",
   "execution_count": 14,
   "id": "5f2b3089-6403-4db7-a92b-a90cd8469347",
   "metadata": {},
   "outputs": [
    {
     "name": "stdout",
     "output_type": "stream",
     "text": [
      "[[1. 1. 1. 1.]\n",
      " [1. 1. 1. 1.]\n",
      " [1. 1. 1. 1.]]\n"
     ]
    }
   ],
   "source": [
    "def create_ones_matrix(rows, cols):\n",
    "    return np.ones((rows, cols))\n",
    "\n",
    "print(create_ones_matrix(3, 4))\n"
   ]
  },
  {
   "cell_type": "markdown",
   "id": "2a839df6-75c3-493c-9540-1641eec9ef76",
   "metadata": {},
   "source": [
    "### Q13. Write a function generate_range_array that takes three integers start, stop, and step as arguments and creates a NumPy array with that range."
   ]
  },
  {
   "cell_type": "code",
   "execution_count": 15,
   "id": "bc2ec48a-de24-492e-a124-92b9bbaeb3a8",
   "metadata": {},
   "outputs": [
    {
     "name": "stdout",
     "output_type": "stream",
     "text": [
      "[1 3 5 7 9]\n"
     ]
    }
   ],
   "source": [
    "def generate_range_array(start, stop, step):\n",
    "    return np.arange(start, stop, step)\n",
    "\n",
    "print(generate_range_array(1, 10, 2))\n"
   ]
  },
  {
   "cell_type": "markdown",
   "id": "d43d0183-a470-459c-9cdf-5c7bc62aef5e",
   "metadata": {},
   "source": [
    "### Q14. Design a function generate_linear_space that takes two floats start, stop, and an integer num as arguments and generates a NumPy array with num equally spaced values."
   ]
  },
  {
   "cell_type": "code",
   "execution_count": 16,
   "id": "dfe2d45c-707e-4606-a04c-a6d6b89fc1a3",
   "metadata": {},
   "outputs": [
    {
     "name": "stdout",
     "output_type": "stream",
     "text": [
      "[0.   0.25 0.5  0.75 1.  ]\n"
     ]
    }
   ],
   "source": [
    "def generate_linear_space(start, stop, num):\n",
    "    return np.linspace(start, stop, num)\n",
    "\n",
    "print(generate_linear_space(0, 1, 5))\n"
   ]
  },
  {
   "cell_type": "markdown",
   "id": "35b66782-2580-48a7-9762-0a60652a55ea",
   "metadata": {},
   "source": [
    "### Q15. Create a function create_identity_matrix that takes an integer n as input and generates a square identity matrix."
   ]
  },
  {
   "cell_type": "code",
   "execution_count": 17,
   "id": "2c49a815-6339-4872-94c1-6cc5767cbcf2",
   "metadata": {},
   "outputs": [
    {
     "name": "stdout",
     "output_type": "stream",
     "text": [
      "[[1. 0. 0. 0.]\n",
      " [0. 1. 0. 0.]\n",
      " [0. 0. 1. 0.]\n",
      " [0. 0. 0. 1.]]\n"
     ]
    }
   ],
   "source": [
    "def create_identity_matrix(n):\n",
    "    return np.eye(n)\n",
    "\n",
    "print(create_identity_matrix(4))\n"
   ]
  },
  {
   "cell_type": "markdown",
   "id": "5de0fcbb-8c38-4ab6-ba33-65dbcb84e224",
   "metadata": {},
   "source": [
    "### Q16. Write a function that takes a Python list and converts it into a NumPy array."
   ]
  },
  {
   "cell_type": "code",
   "execution_count": 18,
   "id": "75a1aefd-8c34-461a-bfbf-27e249e5e187",
   "metadata": {},
   "outputs": [
    {
     "name": "stdout",
     "output_type": "stream",
     "text": [
      "[1 2 3 4]\n"
     ]
    }
   ],
   "source": [
    "def list_to_array(lst):\n",
    "    return np.array(lst)\n",
    "\n",
    "print(list_to_array([1, 2, 3, 4]))\n"
   ]
  },
  {
   "cell_type": "markdown",
   "id": "2dad86a4-5d70-405a-acba-d6f594726356",
   "metadata": {},
   "source": [
    "### Q17. Create a NumPy array and demonstrate the use of numpy.view to create a new array object with the same data."
   ]
  },
  {
   "cell_type": "code",
   "execution_count": 19,
   "id": "502413e7-ab9b-49ed-9d6a-ecb6be19de63",
   "metadata": {},
   "outputs": [
    {
     "name": "stdout",
     "output_type": "stream",
     "text": [
      "Original: [99  2  3  4]\n",
      "View: [99  2  3  4]\n"
     ]
    }
   ],
   "source": [
    "arr = np.array([1, 2, 3, 4])\n",
    "view_arr = arr.view()\n",
    "view_arr[0] = 99\n",
    "print(\"Original:\", arr)\n",
    "print(\"View:\", view_arr)\n"
   ]
  },
  {
   "cell_type": "markdown",
   "id": "0225f93a-e630-4388-8cca-6fe6f26b84ba",
   "metadata": {},
   "source": [
    "### Q18. Write a function that takes two NumPy arrays and concatenates them along a specified axis."
   ]
  },
  {
   "cell_type": "code",
   "execution_count": 20,
   "id": "be59e4e2-f63c-4287-8640-d8e6d86b6709",
   "metadata": {},
   "outputs": [
    {
     "name": "stdout",
     "output_type": "stream",
     "text": [
      "18: [[1 2]\n",
      " [3 4]]\n"
     ]
    }
   ],
   "source": [
    "def concatenate_arrays(a, b, axis=0):\n",
    "    return np.concatenate((a, b), axis=axis)\n",
    "\n",
    "# Example:\n",
    "a18 = np.array([[1,2]])\n",
    "b18 = np.array([[3,4]])\n",
    "print(\"18:\", concatenate_arrays(a18, b18, axis=0))\n"
   ]
  },
  {
   "cell_type": "markdown",
   "id": "f18f2320-fda7-48d5-acf0-397f88fa23a3",
   "metadata": {},
   "source": [
    "### Q19. Create two NumPy arrays with different shapes and concatenate them horizontally using numpy.concatenate."
   ]
  },
  {
   "cell_type": "code",
   "execution_count": 21,
   "id": "e3af6516-c44a-45d7-8fe9-767923558f47",
   "metadata": {},
   "outputs": [
    {
     "name": "stdout",
     "output_type": "stream",
     "text": [
      "19:\n",
      " [[1 2 5]\n",
      " [3 4 6]]\n"
     ]
    }
   ],
   "source": [
    "# Create two arrays with same number of rows but different columns and concatenate horizontally\n",
    "A19 = np.array([[1,2],[3,4]])\n",
    "B19 = np.array([[5],[6]])\n",
    "horiz19 = np.concatenate((A19, B19), axis=1)\n",
    "print(\"19:\\n\", horiz19)\n"
   ]
  },
  {
   "cell_type": "markdown",
   "id": "d6d523b0-be94-457f-9b74-b620d99a361b",
   "metadata": {},
   "source": [
    "### Q20. Write a function that vertically stacks multiple NumPy arrays given as a list."
   ]
  },
  {
   "cell_type": "code",
   "execution_count": 22,
   "id": "820a6e27-9673-4f41-80c1-e26ed5921254",
   "metadata": {},
   "outputs": [
    {
     "name": "stdout",
     "output_type": "stream",
     "text": [
      "20:\n",
      " [[1 2]\n",
      " [3 4]\n",
      " [5 6]]\n"
     ]
    }
   ],
   "source": [
    "def vertical_stack_list(arr_list):\n",
    "    return np.vstack(arr_list)\n",
    "\n",
    "print(\"20:\\n\", vertical_stack_list([np.array([1,2]), np.array([3,4]), np.array([5,6])]))\n"
   ]
  },
  {
   "cell_type": "markdown",
   "id": "0aacd44e-843e-41d9-a44e-68c0d6e79000",
   "metadata": {},
   "source": [
    "### Q21. Write a Python function using NumPy to create an array of integers within a specified range (inclusive) with a given step size."
   ]
  },
  {
   "cell_type": "code",
   "execution_count": 23,
   "id": "05ce5d7b-1bf0-428e-a804-5ad02fe102a4",
   "metadata": {},
   "outputs": [
    {
     "name": "stdout",
     "output_type": "stream",
     "text": [
      "21: [1 3 5 7 9]\n"
     ]
    }
   ],
   "source": [
    "def inclusive_range(start, stop, step=1):\n",
    "    return np.arange(start, stop+1, step)\n",
    "\n",
    "print(\"21:\", inclusive_range(1, 10, 2))\n"
   ]
  },
  {
   "cell_type": "markdown",
   "id": "e899ca62-f89c-4528-aabb-9d21ff2a7cdf",
   "metadata": {},
   "source": [
    "### Q22. Write a Python function using NumPy to generate an array of 10 equally spaced values between 0 and 1 (inclusive)."
   ]
  },
  {
   "cell_type": "code",
   "execution_count": 24,
   "id": "02c3024a-b91b-41b4-85cd-ffe2d77f3083",
   "metadata": {},
   "outputs": [
    {
     "name": "stdout",
     "output_type": "stream",
     "text": [
      "22: [0.         0.11111111 0.22222222 0.33333333 0.44444444 0.55555556\n",
      " 0.66666667 0.77777778 0.88888889 1.        ]\n"
     ]
    }
   ],
   "source": [
    "def ten_linspace():\n",
    "    return np.linspace(0, 1, 10)\n",
    "\n",
    "print(\"22:\", ten_linspace())\n"
   ]
  },
  {
   "cell_type": "markdown",
   "id": "61089280-f68b-4a22-951e-e96bfb1d2b76",
   "metadata": {},
   "source": [
    "### Q23. Write a Python function using NumPy to create an array of 5 logarithmically spaced values between 1 and 1000 (inclusive)."
   ]
  },
  {
   "cell_type": "code",
   "execution_count": 25,
   "id": "7940d059-6aa4-471e-91f3-404bd5b1e01d",
   "metadata": {},
   "outputs": [
    {
     "name": "stdout",
     "output_type": "stream",
     "text": [
      "23: [   1.            5.62341325   31.6227766   177.827941   1000.        ]\n"
     ]
    }
   ],
   "source": [
    "def five_logspace_1_1000():\n",
    "    return np.logspace(np.log10(1), np.log10(1000), num=5)\n",
    "\n",
    "print(\"23:\", five_logspace_1_1000())\n"
   ]
  },
  {
   "cell_type": "markdown",
   "id": "af9f4334-e708-47f4-b06f-5e24ac7506ee",
   "metadata": {},
   "source": [
    "### Q24. Create a Pandas DataFrame using a NumPy array that contains 5 rows and 3 columns, where the values are random integers between 1 and 100."
   ]
  },
  {
   "cell_type": "code",
   "execution_count": 26,
   "id": "65e6e036-1d80-496d-b920-555b726dd8da",
   "metadata": {},
   "outputs": [
    {
     "name": "stdout",
     "output_type": "stream",
     "text": [
      "24:\n",
      "    Col1  Col2  Col3\n",
      "0    15    78    88\n",
      "1    42    51    35\n",
      "2    13     4    52\n",
      "3    71    44     4\n",
      "4    84    56     9\n"
     ]
    }
   ],
   "source": [
    "arr24 = np.random.randint(1, 101, size=(5,3))\n",
    "df24 = pd.DataFrame(arr24, columns=[\"Col1\",\"Col2\",\"Col3\"])\n",
    "print(\"24:\\n\", df24)\n"
   ]
  },
  {
   "cell_type": "markdown",
   "id": "b1838e7c-d6bf-47cf-9347-bce101ac92de",
   "metadata": {},
   "source": [
    "### Q25. Write a function that takes a Pandas DataFrame and replaces all negative values in a specific column with zeros. Use NumPy operations within the DataFrame."
   ]
  },
  {
   "cell_type": "code",
   "execution_count": 27,
   "id": "32518f88-17fd-47de-84b3-35cc13d7adcc",
   "metadata": {},
   "outputs": [
    {
     "name": "stdout",
     "output_type": "stream",
     "text": [
      "25 before:\n",
      "     A\n",
      "0  -5\n",
      "1   2\n",
      "2  -3\n",
      "3  10\n",
      "25 after:\n",
      "     A\n",
      "0   0\n",
      "1   2\n",
      "2   0\n",
      "3  10\n"
     ]
    }
   ],
   "source": [
    "def replace_negatives(df, column):\n",
    "    df[column] = np.where(df[column] < 0, 0, df[column])\n",
    "    return df\n",
    "\n",
    "# Example:\n",
    "df25 = pd.DataFrame({\"A\":[-5,2,-3,10]})\n",
    "print(\"25 before:\\n\", df25)\n",
    "print(\"25 after:\\n\", replace_negatives(df25.copy(), \"A\"))\n"
   ]
  },
  {
   "cell_type": "markdown",
   "id": "16cb2e72-6f34-4511-9307-f1c7c9c9d278",
   "metadata": {},
   "source": [
    "### Q26. Access the 3rd element from the given NumPy array."
   ]
  },
  {
   "cell_type": "code",
   "execution_count": 28,
   "id": "d98ff34d-adca-4efe-be83-0d3adf28605b",
   "metadata": {},
   "outputs": [
    {
     "name": "stdout",
     "output_type": "stream",
     "text": [
      "26: 30\n"
     ]
    }
   ],
   "source": [
    "arr26 = np.array([10,20,30,40,50])\n",
    "third_element = arr26[2]   # index 2\n",
    "print(\"26:\", third_element)\n"
   ]
  },
  {
   "cell_type": "markdown",
   "id": "0ce926fe-d105-4be4-89a3-2d5206437cb8",
   "metadata": {},
   "source": [
    "### Q27. Retrieve the element at index (1, 2) from the 2D NumPy array."
   ]
  },
  {
   "cell_type": "code",
   "execution_count": 29,
   "id": "df5abba3-7993-4993-b4ce-6d13994f7c2d",
   "metadata": {},
   "outputs": [
    {
     "name": "stdout",
     "output_type": "stream",
     "text": [
      "27: 6\n"
     ]
    }
   ],
   "source": [
    "arr27 = np.array([[1,2,3],[4,5,6]])\n",
    "element_1_2 = arr27[1,2]\n",
    "print(\"27:\", element_1_2)\n"
   ]
  },
  {
   "cell_type": "markdown",
   "id": "61937b81-25e2-4fef-b86c-69bbaa43c2b5",
   "metadata": {},
   "source": [
    "### Q28. Using boolean indexing, extract elements greater than 5 from the given NumPy array."
   ]
  },
  {
   "cell_type": "code",
   "execution_count": 30,
   "id": "25724459-bded-4f16-90fc-5c8e9135f0cb",
   "metadata": {},
   "outputs": [
    {
     "name": "stdout",
     "output_type": "stream",
     "text": [
      "28: [ 8 10  7]\n"
     ]
    }
   ],
   "source": [
    "arr28 = np.array([3,8,2,10,5,7])\n",
    "greater_than_5 = arr28[arr28 > 5]\n",
    "print(\"28:\", greater_than_5)\n"
   ]
  },
  {
   "cell_type": "markdown",
   "id": "706fc7fc-3832-4d35-a9ef-b832ff93c200",
   "metadata": {},
   "source": [
    "### Q29. Perform basic slicing to extract elements from index 2 to 5 (inclusive) from the given NumPy array."
   ]
  },
  {
   "cell_type": "code",
   "execution_count": 31,
   "id": "dda3da5a-7273-4a00-9e64-01be8196f017",
   "metadata": {},
   "outputs": [
    {
     "name": "stdout",
     "output_type": "stream",
     "text": [
      "29: [3 4 5 6]\n"
     ]
    }
   ],
   "source": [
    "arr29 = np.array([1,2,3,4,5,6,7,8,9])\n",
    "slice_2_to_5 = arr29[2:6]   # stops before 6 -> includes indices 2,3,4,5\n",
    "print(\"29:\", slice_2_to_5)\n"
   ]
  },
  {
   "cell_type": "markdown",
   "id": "32a0554f-a6d7-463b-9443-7e13f5126233",
   "metadata": {},
   "source": [
    "### Q30. Slice the 2D NumPy array to extract the sub-array [[2, 3], [5, 6]] from the given array."
   ]
  },
  {
   "cell_type": "code",
   "execution_count": 32,
   "id": "deb907fb-143d-4fbe-9d20-12c9280df9ba",
   "metadata": {},
   "outputs": [
    {
     "name": "stdout",
     "output_type": "stream",
     "text": [
      "30:\n",
      " [[2 3]\n",
      " [5 6]]\n"
     ]
    }
   ],
   "source": [
    "arr2d_30 = np.array([[1,2,3],[4,5,6],[7,8,9]])\n",
    "sub30 = arr2d_30[0:2, 1:3]   # rows 0-1, cols 1-2\n",
    "print(\"30:\\n\", sub30)\n"
   ]
  },
  {
   "cell_type": "markdown",
   "id": "99115861-da31-4636-a3d9-621d7b218827",
   "metadata": {},
   "source": [
    "### Q31. Write a NumPy function to extract elements in specific order from a given 2D array based on indices provided in another array."
   ]
  },
  {
   "cell_type": "code",
   "execution_count": 33,
   "id": "ab357b09-294a-40b1-9063-fb0d787cc2e3",
   "metadata": {},
   "outputs": [
    {
     "name": "stdout",
     "output_type": "stream",
     "text": [
      "31: [12 17 13]\n"
     ]
    }
   ],
   "source": [
    "def extract_ordered(arr2d, index_pairs):\n",
    "    # index_pairs is an array-like of shape (k,2) with (row, col) pairs\n",
    "    idx = np.array(index_pairs)\n",
    "    return arr2d[idx[:,0], idx[:,1]]\n",
    "\n",
    "# Example:\n",
    "arr31 = np.array([[10,11,12],[13,14,15],[16,17,18]])\n",
    "indices31 = [[0,2],[2,1],[1,0]]\n",
    "print(\"31:\", extract_ordered(arr31, indices31))\n"
   ]
  },
  {
   "cell_type": "markdown",
   "id": "726275c3-378e-4953-be04-d956162a1fd9",
   "metadata": {},
   "source": [
    "### Q32. Create a NumPy function that filters elements greater than a threshold from a given 1D array using boolean indexing."
   ]
  },
  {
   "cell_type": "code",
   "execution_count": 34,
   "id": "44a9126d-2b51-4807-a727-8173730c6765",
   "metadata": {},
   "outputs": [
    {
     "name": "stdout",
     "output_type": "stream",
     "text": [
      "32: [ 7 10]\n"
     ]
    }
   ],
   "source": [
    "def filter_greater_than(arr, threshold):\n",
    "    return arr[arr > threshold]\n",
    "\n",
    "print(\"32:\", filter_greater_than(np.array([1,7,5,10,3]), 5))\n"
   ]
  },
  {
   "cell_type": "markdown",
   "id": "858373ed-1924-4f43-9cde-ca78250472b8",
   "metadata": {},
   "source": [
    "### Q33. Develop a NumPy function that extracts specific elements from a 3D array using indices provided in three separate arrays for each dimension."
   ]
  },
  {
   "cell_type": "code",
   "execution_count": 35,
   "id": "f222d6e4-a6a0-4ad2-a4cf-bb2f1f664a16",
   "metadata": {},
   "outputs": [
    {
     "name": "stdout",
     "output_type": "stream",
     "text": [
      "33: [ 6 13 23]\n"
     ]
    }
   ],
   "source": [
    "def extract_3d(a3d, i_idx, j_idx, k_idx):\n",
    "    # i_idx, j_idx, k_idx must be arrays of same shape\n",
    "    return a3d[i_idx, j_idx, k_idx]\n",
    "\n",
    "# Example:\n",
    "a33 = np.arange(2*3*4).reshape(2,3,4)\n",
    "i33 = np.array([0,1,1])\n",
    "j33 = np.array([1,0,2])\n",
    "k33 = np.array([2,1,3])\n",
    "print(\"33:\", extract_3d(a33, i33, j33, k33))\n"
   ]
  },
  {
   "cell_type": "markdown",
   "id": "1bfc0cfc-ea70-4293-827c-ec1daf5f5e3c",
   "metadata": {},
   "source": [
    "### Q34. Write a NumPy function that returns elements from an array where both two conditions are satisfied using boolean indexing."
   ]
  },
  {
   "cell_type": "code",
   "execution_count": 36,
   "id": "1bd07101-cd9f-4150-9909-4b6ab612056e",
   "metadata": {},
   "outputs": [
    {
     "name": "stdout",
     "output_type": "stream",
     "text": [
      "34: [4 6 8]\n"
     ]
    }
   ],
   "source": [
    "def elements_where_two_conditions(arr, cond1, cond2):\n",
    "    # cond1 and cond2 are callables returning boolean mask vectors\n",
    "    return arr[np.logical_and(cond1(arr), cond2(arr))]\n",
    "\n",
    "arr34 = np.array([1,2,3,4,5,6,7,8,9])\n",
    "print(\"34:\", elements_where_two_conditions(arr34, lambda x: x>2, lambda x: x%2==0))\n"
   ]
  },
  {
   "cell_type": "markdown",
   "id": "5834249f-5b73-49bf-9c98-292eb6b787f3",
   "metadata": {},
   "source": [
    "### Q35. Create a NumPy function that extracts elements from a 2D array using row and column indices provided in separate arrays."
   ]
  },
  {
   "cell_type": "code",
   "execution_count": 37,
   "id": "27f9cc56-ff5c-4ab0-9726-0212698992ff",
   "metadata": {},
   "outputs": [
    {
     "name": "stdout",
     "output_type": "stream",
     "text": [
      "35: [3 5 7]\n"
     ]
    }
   ],
   "source": [
    "def extract_by_row_col(arr2d, rows, cols):\n",
    "    rows = np.array(rows)\n",
    "    cols = np.array(cols)\n",
    "    return arr2d[rows, cols]\n",
    "\n",
    "a35 = np.array([[1,2,3],[4,5,6],[7,8,9]])\n",
    "rows35 = [0,1,2]\n",
    "cols35 = [2,1,0]\n",
    "print(\"35:\", extract_by_row_col(a35, rows35, cols35))\n"
   ]
  },
  {
   "cell_type": "markdown",
   "id": "419a6790-6bd2-4d19-a3ee-176197273aff",
   "metadata": {},
   "source": [
    "### Q36. Given an array arr of shape (3,3), add a scalar value of 5 to each element using NumPy broadcasting."
   ]
  },
  {
   "cell_type": "code",
   "execution_count": 38,
   "id": "b376550d-369f-4419-87e1-aaf2ee1dd4df",
   "metadata": {},
   "outputs": [
    {
     "name": "stdout",
     "output_type": "stream",
     "text": [
      "36:\n",
      " [[ 6  7  8]\n",
      " [ 9 10 11]\n",
      " [12 13 14]]\n"
     ]
    }
   ],
   "source": [
    "arr36 = np.array([[1,2,3],[4,5,6],[7,8,9]])\n",
    "result36 = arr36 + 5\n",
    "print(\"36:\\n\", result36)\n"
   ]
  },
  {
   "cell_type": "markdown",
   "id": "6958c3f5-5779-47e9-80b6-c94801417e05",
   "metadata": {},
   "source": [
    "### Q37. Consider two arrays arr1 of shape (1, 3) and arr2 of shape (3, 4). Multiply each row of arr2 by the corresponding element in arr1 using NumPy broadcasting."
   ]
  },
  {
   "cell_type": "code",
   "execution_count": 39,
   "id": "f57df195-13cc-4f1f-9c89-290b880a3d20",
   "metadata": {},
   "outputs": [
    {
     "name": "stdout",
     "output_type": "stream",
     "text": [
      "37:\n",
      " [[ 20  22  24  26]\n",
      " [ 60  63  66  69]\n",
      " [120 124 128 132]]\n"
     ]
    }
   ],
   "source": [
    "arr1 = np.array([[2,3,4]])  # shape (1,3)\n",
    "arr2 = np.array([[10,11,12,13],\n",
    "                 [20,21,22,23],\n",
    "                 [30,31,32,33]])  # shape (3,4)\n",
    "# multiply arr2 row i by arr1 element i\n",
    "factors = arr1.reshape(-1)       # shape (3,)\n",
    "result37 = arr2 * factors[:, None]  # broadcast to (3,4)\n",
    "print(\"37:\\n\", result37)\n"
   ]
  },
  {
   "cell_type": "markdown",
   "id": "95ff8781-e035-4621-887e-c755d1fd20a5",
   "metadata": {},
   "source": [
    "### Q38. Given a 1D array arr1 of shape (1, 4) and a 2D array arr2 of shape (4, 3), add arr1 to each row of arr2 using NumPy broadcasting."
   ]
  },
  {
   "cell_type": "code",
   "execution_count": 40,
   "id": "e79eb0c4-490a-4cea-b522-672256d6c1d0",
   "metadata": {},
   "outputs": [
    {
     "name": "stdout",
     "output_type": "stream",
     "text": [
      "38:\n",
      " [[ 1  2  3]\n",
      " [ 5  6  7]\n",
      " [ 9 10 11]\n",
      " [13 14 15]]\n"
     ]
    }
   ],
   "source": [
    "arr1 = np.array([[1,2,3,4]])    # (1,4)\n",
    "arr2 = np.arange(12).reshape(4,3)  # (4,3)\n",
    "# To add arr1 to each row we must align shapes; transpose arr1 to (4,1) then broadcast\n",
    "result38 = arr2 + arr1.T\n",
    "print(\"38:\\n\", result38)\n"
   ]
  },
  {
   "cell_type": "markdown",
   "id": "b7569fec-4879-40df-93d4-87f7143326ec",
   "metadata": {},
   "source": [
    "### Q39. Consider two arrays arr1 of shape (3, 1) and arr2 of shape (1, 3). Add these arrays using NumPy broadcasting."
   ]
  },
  {
   "cell_type": "code",
   "execution_count": 41,
   "id": "ca669168-5b91-4398-b001-0e6b1634f393",
   "metadata": {},
   "outputs": [
    {
     "name": "stdout",
     "output_type": "stream",
     "text": [
      "39:\n",
      " [[11 21 31]\n",
      " [12 22 32]\n",
      " [13 23 33]]\n"
     ]
    }
   ],
   "source": [
    "arr1 = np.array([[1],[2],[3]])   # (3,1)\n",
    "arr2 = np.array([[10,20,30]])    # (1,3)\n",
    "print(\"39:\\n\", arr1 + arr2)      # result shape (3,3)\n"
   ]
  },
  {
   "cell_type": "markdown",
   "id": "94e13551-1173-4cde-9e36-f08376915052",
   "metadata": {},
   "source": [
    "### Q40. Given arrays arr1 of shape (2, 3) and arr2 of shape (2, 2), perform multiplication using NumPy broadcasting. Handle the shape incompatibility."
   ]
  },
  {
   "cell_type": "code",
   "execution_count": 42,
   "id": "7e6f919f-ff62-4e1c-a0ca-a8ab6776c5c9",
   "metadata": {},
   "outputs": [
    {
     "name": "stdout",
     "output_type": "stream",
     "text": [
      "40: Error: incompatible shapes (2, 3) and (2, 2) for broadcasting\n"
     ]
    }
   ],
   "source": [
    "def safe_broadcast_multiply(a, b):\n",
    "    try:\n",
    "        return a * b\n",
    "    except ValueError as e:\n",
    "        return f\"Error: incompatible shapes {a.shape} and {b.shape} for broadcasting\"\n",
    "\n",
    "a40 = np.ones((2,3))\n",
    "b40 = np.ones((2,2))\n",
    "print(\"40:\", safe_broadcast_multiply(a40, b40))\n"
   ]
  },
  {
   "cell_type": "markdown",
   "id": "ce918a7e-fc7b-4dec-a5d4-eca92ab526f8",
   "metadata": {},
   "source": [
    "### Q41. Calculate column-wise mean for the given array."
   ]
  },
  {
   "cell_type": "code",
   "execution_count": 43,
   "id": "e8c975cc-24f4-4d68-816f-85a6fc3ec0e2",
   "metadata": {},
   "outputs": [
    {
     "name": "stdout",
     "output_type": "stream",
     "text": [
      "41: [2.5 3.5 4.5]\n"
     ]
    }
   ],
   "source": [
    "arr41 = np.array([[1,2,3],[4,5,6]])\n",
    "col_mean41 = arr41.mean(axis=0)\n",
    "print(\"41:\", col_mean41)\n"
   ]
  },
  {
   "cell_type": "markdown",
   "id": "b2a6bb3f-229e-4490-8f8c-5c585dc0cbd5",
   "metadata": {},
   "source": [
    "### 42. Find maximum value in each row of the given array."
   ]
  },
  {
   "cell_type": "code",
   "execution_count": 44,
   "id": "ee66725e-d158-4fba-a67e-6aa2c453ba9f",
   "metadata": {},
   "outputs": [
    {
     "name": "stdout",
     "output_type": "stream",
     "text": [
      "42: [3 6]\n"
     ]
    }
   ],
   "source": [
    "arr42 = np.array([[1,2,3],[4,5,6]])\n",
    "row_max42 = arr42.max(axis=1)\n",
    "print(\"42:\", row_max42)\n"
   ]
  },
  {
   "cell_type": "markdown",
   "id": "717c7f7a-7c15-4d88-bc28-1e60d1cf7f54",
   "metadata": {},
   "source": [
    "### Q43. For the given array, find indices of maximum value in each column."
   ]
  },
  {
   "cell_type": "code",
   "execution_count": 45,
   "id": "335af751-4425-4439-95f5-7315c407205c",
   "metadata": {},
   "outputs": [
    {
     "name": "stdout",
     "output_type": "stream",
     "text": [
      "43: [1 1 1]\n"
     ]
    }
   ],
   "source": [
    "arr43 = np.array([[1,2,3],[4,5,6]])\n",
    "argmax_cols43 = arr43.argmax(axis=0)\n",
    "print(\"43:\", argmax_cols43)\n"
   ]
  },
  {
   "cell_type": "markdown",
   "id": "575e9b7b-504f-48e0-9d78-497672415ef2",
   "metadata": {},
   "source": [
    "### Q44. For the given array, apply custom function to calculate moving sum along rows."
   ]
  },
  {
   "cell_type": "code",
   "execution_count": 46,
   "id": "fa269cfa-2fc9-4f45-875f-184caa7ec049",
   "metadata": {},
   "outputs": [
    {
     "name": "stdout",
     "output_type": "stream",
     "text": [
      "44:\n",
      " [[ 1.  3.  5.  7.]\n",
      " [ 5. 11. 13. 15.]]\n"
     ]
    }
   ],
   "source": [
    "def moving_sum(a, window=2):\n",
    "    # compute moving (sliding) sum along each row, produce array with same shape,\n",
    "    # using np.convolve per row with 'valid' then pad to original length for demonstration\n",
    "    out = np.zeros_like(a, dtype=float)\n",
    "    for i in range(a.shape[0]):\n",
    "        row = a[i].astype(float)\n",
    "        conv = np.convolve(row, np.ones(window), mode='same')\n",
    "        out[i] = conv\n",
    "    return out\n",
    "\n",
    "arr44 = np.array([[1,2,3,4],[5,6,7,8]])\n",
    "print(\"44:\\n\", moving_sum(arr44, window=2))\n"
   ]
  },
  {
   "cell_type": "markdown",
   "id": "a6edc6fc-35a0-4229-8df2-195bebf1e56a",
   "metadata": {},
   "source": [
    "### Q45. In the given array, check if all elements in each column are even."
   ]
  },
  {
   "cell_type": "code",
   "execution_count": 47,
   "id": "118d9caf-bb4d-4584-9e13-8227f40d7149",
   "metadata": {},
   "outputs": [
    {
     "name": "stdout",
     "output_type": "stream",
     "text": [
      "45: [False False False]\n"
     ]
    }
   ],
   "source": [
    "arr45 = np.array([[2,4,6],[3,5,7]])\n",
    "all_even_per_col45 = np.all(arr45 % 2 == 0, axis=0)\n",
    "print(\"45:\", all_even_per_col45)\n"
   ]
  },
  {
   "cell_type": "markdown",
   "id": "9c4350db-d4e3-4288-a474-051b9c33c16e",
   "metadata": {},
   "source": [
    "### Q46. Given a NumPy array arr, reshape it into a matrix of dimensions m rows and n columns. Return the reshaped matrix."
   ]
  },
  {
   "cell_type": "code",
   "execution_count": 48,
   "id": "bc63cc4c-3ce6-4e36-a379-da1a9eff5f82",
   "metadata": {},
   "outputs": [
    {
     "name": "stdout",
     "output_type": "stream",
     "text": [
      "46: [[ 0  1  2  3]\n",
      " [ 4  5  6  7]\n",
      " [ 8  9 10 11]]\n"
     ]
    }
   ],
   "source": [
    "def reshape_to(arr, m, n):\n",
    "    return arr.reshape(m, n)\n",
    "\n",
    "print(\"46:\", reshape_to(np.arange(12), 3, 4))\n"
   ]
  },
  {
   "cell_type": "markdown",
   "id": "3f9ffdc3-a102-4607-a617-69ece1b17b3e",
   "metadata": {},
   "source": [
    "### Q47. Create a function that takes a matrix as input and returns the flattened array."
   ]
  },
  {
   "cell_type": "code",
   "execution_count": 49,
   "id": "2dfa7121-d5c5-4cbe-bab1-ba1a1412701a",
   "metadata": {},
   "outputs": [
    {
     "name": "stdout",
     "output_type": "stream",
     "text": [
      "47: [1 2 3 4 5 6]\n"
     ]
    }
   ],
   "source": [
    "def flatten_matrix(mat):\n",
    "    return mat.ravel()\n",
    "\n",
    "print(\"47:\", flatten_matrix(np.array([[1,2,3],[4,5,6]])))\n"
   ]
  },
  {
   "cell_type": "markdown",
   "id": "42923789-fe00-4ec3-9564-fd76ee623992",
   "metadata": {},
   "source": [
    "### Q48. Write a function that concatenates two given arrays along a specified axis."
   ]
  },
  {
   "cell_type": "code",
   "execution_count": 50,
   "id": "b39afcb5-6f0b-4d54-a6ff-d9e2521f62c4",
   "metadata": {},
   "outputs": [
    {
     "name": "stdout",
     "output_type": "stream",
     "text": [
      "48: [[1 2 3 4]]\n"
     ]
    }
   ],
   "source": [
    "def concat_two(a, b, axis=0):\n",
    "    return np.concatenate((a, b), axis=axis)\n",
    "\n",
    "print(\"48:\", concat_two(np.array([[1,2]]), np.array([[3,4]]), axis=1))\n"
   ]
  },
  {
   "cell_type": "markdown",
   "id": "4de6ebab-1f1a-462d-a1bf-a1933034c813",
   "metadata": {},
   "source": [
    "### Q49. Create a function that splits an array into multiple sub-arrays along a specified axis."
   ]
  },
  {
   "cell_type": "code",
   "execution_count": 51,
   "id": "08e57db8-8f3c-4714-b4fb-e22ea5fcb6e7",
   "metadata": {},
   "outputs": [
    {
     "name": "stdout",
     "output_type": "stream",
     "text": [
      "49: [array([0, 1]), array([2, 3]), array([4, 5]), array([6, 7])]\n"
     ]
    }
   ],
   "source": [
    "def split_array(a, sections_or_indices, axis=0):\n",
    "    return np.split(a, sections_or_indices, axis=axis)\n",
    "\n",
    "print(\"49:\", split_array(np.arange(8), 4))  # split into 4 equal subarrays\n"
   ]
  },
  {
   "cell_type": "markdown",
   "id": "363e27d1-b00b-435b-ac9e-ef85c85fa677",
   "metadata": {},
   "source": [
    "### Q50. Write a function that inserts and then deletes elements from a given array at specified indices."
   ]
  },
  {
   "cell_type": "code",
   "execution_count": 52,
   "id": "14da1f02-451b-42cf-a5f4-a90d6c7836ab",
   "metadata": {},
   "outputs": [
    {
     "name": "stdout",
     "output_type": "stream",
     "text": [
      "50 inserted: [ 1  2 10  3  4 11  5] after delete: [ 1 10  4 11  5]\n"
     ]
    }
   ],
   "source": [
    "def insert_then_delete(arr, insert_idx, insert_vals, delete_idx):\n",
    "    arr_inserted = np.insert(arr, insert_idx, insert_vals)\n",
    "    arr_deleted = np.delete(arr_inserted, delete_idx)\n",
    "    return arr_inserted, arr_deleted\n",
    "\n",
    "orig50 = np.array([1,2,3,4,5])\n",
    "ins50, del50 = insert_then_delete(orig50, [2,4], [10,11], [1,3])\n",
    "print(\"50 inserted:\", ins50, \"after delete:\", del50)\n"
   ]
  },
  {
   "cell_type": "markdown",
   "id": "61438f6e-c7a1-40e8-a0bf-8aae478920da",
   "metadata": {},
   "source": [
    "### Q51. Create a NumPy array arr1 with random integers and another array arr2 with integers from 1 to 10. Perform element-wise addition between arr1 and arr2."
   ]
  },
  {
   "cell_type": "code",
   "execution_count": 53,
   "id": "8ba69d69-8af2-4724-9c17-08dfc5e92eea",
   "metadata": {},
   "outputs": [
    {
     "name": "stdout",
     "output_type": "stream",
     "text": [
      "51: [50 21 41 20 38 52 54 17 27 51]\n"
     ]
    }
   ],
   "source": [
    "arr51_1 = np.random.randint(1, 50, size=10)\n",
    "arr51_2 = np.arange(1, 11)\n",
    "print(\"51:\", arr51_1 + arr51_2)\n"
   ]
  },
  {
   "cell_type": "markdown",
   "id": "e654d891-669b-45da-af22-d81b8b7fb295",
   "metadata": {},
   "source": [
    "### Q52. Generate a NumPy array arr1 with sequential integers from 10 to 1 and another array arr2 with integers from 1 to 10. Subtract arr2 from arr1 element-wise."
   ]
  },
  {
   "cell_type": "code",
   "execution_count": 54,
   "id": "111d3ac1-8845-409e-9d5b-01aa7de22d21",
   "metadata": {},
   "outputs": [
    {
     "name": "stdout",
     "output_type": "stream",
     "text": [
      "52: [ 9  7  5  3  1 -1 -3 -5 -7 -9]\n"
     ]
    }
   ],
   "source": [
    "arr52_1 = np.arange(10, 0, -1)\n",
    "arr52_2 = np.arange(1, 11)\n",
    "print(\"52:\", arr52_1 - arr52_2)\n",
    "\n"
   ]
  },
  {
   "cell_type": "markdown",
   "id": "5c53aada-f43c-408d-b081-07d01290b451",
   "metadata": {},
   "source": [
    "### Q53. Create a NumPy array arr1 with random integers and another array arr2 with integers from 1 to 5. Perform element-wise multiplication between arr1 and arr2."
   ]
  },
  {
   "cell_type": "code",
   "execution_count": 55,
   "id": "f04ca632-bf38-4361-a3a6-8993c9bf7e56",
   "metadata": {},
   "outputs": [
    {
     "name": "stdout",
     "output_type": "stream",
     "text": [
      "53: [ 8 12  3 20 30]\n"
     ]
    }
   ],
   "source": [
    "arr53_1 = np.random.randint(1, 10, size=5)\n",
    "arr53_2 = np.arange(1, 6)\n",
    "print(\"53:\", arr53_1 * arr53_2)\n"
   ]
  },
  {
   "cell_type": "markdown",
   "id": "0c67d491-a7cb-47a1-8e26-dc0edfdc7f66",
   "metadata": {},
   "source": [
    "### Q54. Generate a NumPy array arr1 with even integers from 2 to 10 and another array arr2 with integers from 1 to 5. Perform element-wise division of arr1 by arr2."
   ]
  },
  {
   "cell_type": "code",
   "execution_count": 56,
   "id": "2f88e6ae-b9c9-45d0-971d-fd4662ba2792",
   "metadata": {},
   "outputs": [
    {
     "name": "stdout",
     "output_type": "stream",
     "text": [
      "54: [2. 2. 2. 2. 2.]\n"
     ]
    }
   ],
   "source": [
    "arr54_1 = np.arange(2, 12, 2)  # [2,4,6,8,10]\n",
    "arr54_2 = np.arange(1, 6)      # [1,2,3,4,5]\n",
    "print(\"54:\", arr54_1 / arr54_2)\n"
   ]
  },
  {
   "cell_type": "markdown",
   "id": "0a09f3ef-f9b7-4c3b-ba9c-f23987c1c88b",
   "metadata": {},
   "source": [
    "### Q55. Create a NumPy array arr1 with integers from 1 to 5 and another array arr2 with the same numbers reversed. Calculate the exponentiation of arr1 raised to the power of arr2 element-wise."
   ]
  },
  {
   "cell_type": "code",
   "execution_count": 57,
   "id": "c33e1cf0-681c-4a32-9e57-933569567f08",
   "metadata": {},
   "outputs": [
    {
     "name": "stdout",
     "output_type": "stream",
     "text": [
      "55: [ 1 16 27 16  5]\n"
     ]
    }
   ],
   "source": [
    "arr55_1 = np.arange(1,6)\n",
    "arr55_2 = arr55_1[::-1]\n",
    "print(\"55:\", arr55_1 ** arr55_2)\n"
   ]
  },
  {
   "cell_type": "markdown",
   "id": "dd4429dc-a395-43aa-81b7-1c25b36c47a0",
   "metadata": {},
   "source": [
    "### Q56. Write a function that counts the occurrences of a specific substring within a NumPy array of strings."
   ]
  },
  {
   "cell_type": "code",
   "execution_count": 58,
   "id": "dbb7e4a2-6031-477a-8970-c0a8ea1ece7a",
   "metadata": {},
   "outputs": [
    {
     "name": "stdout",
     "output_type": "stream",
     "text": [
      "56 count 'hello': 3\n"
     ]
    }
   ],
   "source": [
    "def count_substring_in_array(arr_str, substring):\n",
    "    return np.char.count(arr_str, substring).sum()\n",
    "\n",
    "arr56 = np.array(['hello', 'world', 'hello', 'numpy', 'hello'])\n",
    "print(\"56 count 'hello':\", count_substring_in_array(arr56, 'hello'))\n"
   ]
  },
  {
   "cell_type": "markdown",
   "id": "d93fbe53-1d41-491a-895a-31f6aaaa23f6",
   "metadata": {},
   "source": [
    "### Q57. Write a function that extracts uppercase characters from a NumPy array of strings."
   ]
  },
  {
   "cell_type": "code",
   "execution_count": 59,
   "id": "4b4ba0f8-b164-475c-93bd-92a3fa58e526",
   "metadata": {},
   "outputs": [
    {
     "name": "stdout",
     "output_type": "stream",
     "text": [
      "57: ['H' 'W' 'OAI' 'GPT']\n"
     ]
    }
   ],
   "source": [
    "def extract_uppercase_chars(arr_str):\n",
    "    return np.array([''.join([ch for ch in s if ch.isupper()]) for s in arr_str])\n",
    "\n",
    "arr57 = np.array(['Hello','World','OpenAI','GPT'])\n",
    "print(\"57:\", extract_uppercase_chars(arr57))\n"
   ]
  },
  {
   "cell_type": "markdown",
   "id": "77581eb7-5a78-4cf0-a92d-c7d66a923728",
   "metadata": {},
   "source": [
    "### Q58. Write a function that replaces occurrences of a substring in a NumPy array of strings with a new string."
   ]
  },
  {
   "cell_type": "code",
   "execution_count": 60,
   "id": "3abebf0e-a304-4349-8bea-972bee14c05f",
   "metadata": {},
   "outputs": [
    {
     "name": "stdout",
     "output_type": "stream",
     "text": [
      "58: ['hi world' 'hi numpy']\n"
     ]
    }
   ],
   "source": [
    "def replace_substring(arr_str, old, new):\n",
    "    return np.char.replace(arr_str, old, new)\n",
    "\n",
    "arr58 = np.array(['hello world', 'hello numpy'])\n",
    "print(\"58:\", replace_substring(arr58, 'hello', 'hi'))\n"
   ]
  },
  {
   "cell_type": "markdown",
   "id": "6700d87a-8be6-45f1-9748-1e86c19efe7c",
   "metadata": {},
   "source": [
    "### Q59. Write a function that concatenates strings in a NumPy array element-wise."
   ]
  },
  {
   "cell_type": "code",
   "execution_count": 61,
   "id": "cec64d25-4909-40a1-8349-4459249e8450",
   "metadata": {},
   "outputs": [
    {
     "name": "stdout",
     "output_type": "stream",
     "text": [
      "59: ['Hello World' 'Good Morning']\n"
     ]
    }
   ],
   "source": [
    "def concat_elementwise(a, b):\n",
    "    return np.char.add(a, b)\n",
    "\n",
    "a59 = np.array(['Hello ', 'Good '])\n",
    "b59 = np.array(['World', 'Morning'])\n",
    "print(\"59:\", concat_elementwise(a59, b59))\n"
   ]
  },
  {
   "cell_type": "markdown",
   "id": "1c056ec2-4e12-4898-a190-d188cdf289ad",
   "metadata": {},
   "source": [
    "### Q60. Write a function that finds the length of the longest string in a NumPy array."
   ]
  },
  {
   "cell_type": "code",
   "execution_count": 62,
   "id": "e1590b40-ad08-460b-8606-d712afef6bad",
   "metadata": {},
   "outputs": [
    {
     "name": "stdout",
     "output_type": "stream",
     "text": [
      "60: 9\n"
     ]
    }
   ],
   "source": [
    "def longest_string_len(arr_str):\n",
    "    lengths = np.vectorize(len)(arr_str)\n",
    "    return lengths.max()\n",
    "\n",
    "arr60 = np.array(['apple','banana','grape','pineapple'])\n",
    "print(\"60:\", longest_string_len(arr60))\n"
   ]
  },
  {
   "cell_type": "markdown",
   "id": "0c527c17-60c9-4c20-9a9f-50625b72c01d",
   "metadata": {},
   "source": [
    "### Q61. Create a dataset of 100 random integers between 1 and 1000. Compute the mean, median, variance, and standard deviation of the dataset using NumPy's functions."
   ]
  },
  {
   "cell_type": "code",
   "execution_count": 63,
   "id": "b70cc4ad-7e85-4b5d-8d55-cafd21fc6890",
   "metadata": {},
   "outputs": [
    {
     "name": "stdout",
     "output_type": "stream",
     "text": [
      "61 mean, median, var, std: 511.37 548.0 105919.01309999998 325.4520135135132\n"
     ]
    }
   ],
   "source": [
    "data61 = np.random.randint(1, 1001, size=100)\n",
    "mean61 = data61.mean()\n",
    "median61 = np.median(data61)\n",
    "var61 = data61.var()\n",
    "std61 = data61.std()\n",
    "print(\"61 mean, median, var, std:\", mean61, median61, var61, std61)\n"
   ]
  },
  {
   "cell_type": "markdown",
   "id": "a8ecc327-ef57-4dc8-ab20-259fac6f8f89",
   "metadata": {},
   "source": [
    "### Q62. Generate an array of 50 random numbers between 1 and 100. Find the 25th and 75th percentiles of the dataset."
   ]
  },
  {
   "cell_type": "code",
   "execution_count": 64,
   "id": "87a78234-784b-4a4d-9ec4-e0aff76531df",
   "metadata": {},
   "outputs": [
    {
     "name": "stdout",
     "output_type": "stream",
     "text": [
      "62 25th, 75th: [19.92505171 74.70755826]\n"
     ]
    }
   ],
   "source": [
    "data62 = np.random.uniform(1, 100, size=50)\n",
    "p25_75 = np.percentile(data62, [25, 75])\n",
    "print(\"62 25th, 75th:\", p25_75)\n"
   ]
  },
  {
   "cell_type": "markdown",
   "id": "d3566efa-8238-4813-b09c-effe230e214c",
   "metadata": {},
   "source": [
    "### Q63. Create two arrays representing two sets of variables. Compute the correlation coefficient between these arrays using NumPy's corrcoef function."
   ]
  },
  {
   "cell_type": "code",
   "execution_count": 65,
   "id": "7805b442-892e-4d3e-9615-c9acb39a2383",
   "metadata": {},
   "outputs": [
    {
     "name": "stdout",
     "output_type": "stream",
     "text": [
      "63 corrcoef: 0.9299109909584696\n"
     ]
    }
   ],
   "source": [
    "x63 = np.random.randn(50)\n",
    "y63 = 0.5 * x63 + 0.2 * np.random.randn(50)\n",
    "corr63 = np.corrcoef(x63, y63)[0,1]\n",
    "print(\"63 corrcoef:\", corr63)\n"
   ]
  },
  {
   "cell_type": "markdown",
   "id": "082e88b9-9430-4a67-9c32-9ca3215564eb",
   "metadata": {},
   "source": [
    "### Q64. Create two matrices and perform matrix multiplication using NumPy's dot function."
   ]
  },
  {
   "cell_type": "code",
   "execution_count": 66,
   "id": "a55dd32a-f9b2-4978-bb2a-689bb8f34f8c",
   "metadata": {},
   "outputs": [
    {
     "name": "stdout",
     "output_type": "stream",
     "text": [
      "64 dot:\n",
      " [[ 58  64]\n",
      " [139 154]]\n"
     ]
    }
   ],
   "source": [
    "A64 = np.array([[1,2,3],[4,5,6]])\n",
    "B64 = np.array([[7,8],[9,10],[11,12]])\n",
    "print(\"64 dot:\\n\", np.dot(A64, B64))\n"
   ]
  },
  {
   "cell_type": "markdown",
   "id": "9a6347a6-aa3f-4c84-b5ce-d76ecff0231b",
   "metadata": {},
   "source": [
    "### Q65. Create an array of 50 integers between 10 and 1000. Calculate the 10th, 50th (median), and 90th percentiles along with the first and third quartiles."
   ]
  },
  {
   "cell_type": "code",
   "execution_count": 67,
   "id": "643a643a-5f52-40a7-8838-975100834f46",
   "metadata": {},
   "outputs": [
    {
     "name": "stdout",
     "output_type": "stream",
     "text": [
      "65 p10,p50,p90,q1,q3: 113.30000000000001 475.5 911.1 257.75 765.5\n"
     ]
    }
   ],
   "source": [
    "data65 = np.random.randint(10, 1001, size=50)\n",
    "p10, p50, p90 = np.percentile(data65, [10,50,90])\n",
    "q1, q3 = np.percentile(data65, [25,75])\n",
    "print(\"65 p10,p50,p90,q1,q3:\", p10, p50, p90, q1, q3)\n"
   ]
  },
  {
   "cell_type": "markdown",
   "id": "8953c3f4-8674-42a9-a28d-cef5433b9e14",
   "metadata": {},
   "source": [
    "### Q66. Create a NumPy array of integers and find the index of a specific element."
   ]
  },
  {
   "cell_type": "code",
   "execution_count": 68,
   "id": "908ca34b-b1d6-45b3-98d7-fdd387f22eb9",
   "metadata": {},
   "outputs": [
    {
     "name": "stdout",
     "output_type": "stream",
     "text": [
      "66 index of 7: 2\n"
     ]
    }
   ],
   "source": [
    "arr66 = np.array([5,3,7,1,9])\n",
    "def find_index(arr, value):\n",
    "    idx = np.where(arr == value)[0]\n",
    "    return int(idx[0]) if idx.size else -1\n",
    "\n",
    "print(\"66 index of 7:\", find_index(arr66, 7))\n"
   ]
  },
  {
   "cell_type": "markdown",
   "id": "e4425382-5f2b-4721-87ad-237c0b5f2830",
   "metadata": {},
   "source": [
    "### Q67. Generate a random NumPy array and sort it in ascending order."
   ]
  },
  {
   "cell_type": "code",
   "execution_count": 69,
   "id": "48b79936-20d0-45fa-ba8d-4ac20ccdb55d",
   "metadata": {},
   "outputs": [
    {
     "name": "stdout",
     "output_type": "stream",
     "text": [
      "67 sorted: [ 4 31 44 45 53 67 75 81 93 94]\n"
     ]
    }
   ],
   "source": [
    "arr67 = np.random.randint(0, 100, size=10)\n",
    "arr67_sorted = np.sort(arr67)\n",
    "print(\"67 sorted:\", arr67_sorted)\n"
   ]
  },
  {
   "cell_type": "markdown",
   "id": "f065a7bd-7b4b-4a4b-9c2e-3b5383752731",
   "metadata": {},
   "source": [
    "### Q68. Filter elements >20 in the given NumPy array."
   ]
  },
  {
   "cell_type": "code",
   "execution_count": 70,
   "id": "3108fe72-864e-448d-81e3-df04d9c284c3",
   "metadata": {},
   "outputs": [
    {
     "name": "stdout",
     "output_type": "stream",
     "text": [
      "68 filtered >20: [30 40 50]\n"
     ]
    }
   ],
   "source": [
    "arr68 = np.array([10,20,30,40,50])\n",
    "print(\"68 filtered >20:\", arr68[arr68 > 20])\n"
   ]
  },
  {
   "cell_type": "markdown",
   "id": "f8a31a82-c57f-4f87-87e2-c5c9387b76d3",
   "metadata": {},
   "source": [
    "### Q69. Filter elements which are divisible by 3 from a given NumPy array."
   ]
  },
  {
   "cell_type": "code",
   "execution_count": 71,
   "id": "dc1a5585-a4e3-4c49-a1be-654eb7a6a30d",
   "metadata": {},
   "outputs": [
    {
     "name": "stdout",
     "output_type": "stream",
     "text": [
      "69 divisible by 3: [3 6 9]\n"
     ]
    }
   ],
   "source": [
    "arr69 = np.array([1,2,3,4,5,6,9])\n",
    "print(\"69 divisible by 3:\", arr69[arr69 % 3 == 0])\n"
   ]
  },
  {
   "cell_type": "markdown",
   "id": "d237fd0e-d23b-41bc-9ae2-ab7ac013848a",
   "metadata": {},
   "source": [
    "### Q70. Filter elements which are ≥ 20 and ≤ 40 from a given NumPy array."
   ]
  },
  {
   "cell_type": "code",
   "execution_count": 73,
   "id": "650d43a5-0a97-41cb-9867-c08c3f1c690b",
   "metadata": {},
   "outputs": [
    {
     "name": "stdout",
     "output_type": "stream",
     "text": [
      "70 between 20 and 40: [20 25 30 40]\n"
     ]
    }
   ],
   "source": [
    "arr70 = np.array([10,20,25,30,45,40])\n",
    "print(\"70 between 20 and 40:\", arr70[(arr70 >= 20) & (arr70 <= 40)])\n"
   ]
  },
  {
   "cell_type": "markdown",
   "id": "a97d3a9e-46d1-4cf9-97d9-7022476b753e",
   "metadata": {},
   "source": [
    "### Q71. For the given NumPy array, check its byte order using the dtype attribute byteorder."
   ]
  },
  {
   "cell_type": "code",
   "execution_count": 74,
   "id": "94eb3e75-a056-499e-a324-c6da16445340",
   "metadata": {},
   "outputs": [
    {
     "name": "stdout",
     "output_type": "stream",
     "text": [
      "71 byteorder: =\n"
     ]
    }
   ],
   "source": [
    "arr71 = np.array([1,2,3])\n",
    "print(\"71 byteorder:\", arr71.dtype.byteorder)\n",
    "# '=' means native, '<' little-endian, '>' big-endian, '|' not applicable\n"
   ]
  },
  {
   "cell_type": "markdown",
   "id": "af2d7921-5b85-4102-98a0-d34063e5d2ab",
   "metadata": {},
   "source": [
    "### Q72. For the given NumPy array, perform byte swapping in place using byteswap()."
   ]
  },
  {
   "cell_type": "code",
   "execution_count": 75,
   "id": "c6ce51cd-82dd-43b6-82fc-06bfa4821c46",
   "metadata": {},
   "outputs": [
    {
     "name": "stdout",
     "output_type": "stream",
     "text": [
      "72 byteswapped (in-place): [16777216    65536      256]\n"
     ]
    }
   ],
   "source": [
    "arr72 = np.array([1,256,65536], dtype=np.int32)\n",
    "arr72.byteswap(inplace=True)\n",
    "print(\"72 byteswapped (in-place):\", arr72)\n"
   ]
  },
  {
   "cell_type": "markdown",
   "id": "eb883e16-033d-44c3-a53f-d4dd446e5181",
   "metadata": {},
   "source": [
    "### Q73. For the given NumPy array, swap its byte order without modifying the original array using newbyteorder()."
   ]
  },
  {
   "cell_type": "code",
   "execution_count": 92,
   "id": "e6a786c5-d249-4a78-a76a-3d0b2683d586",
   "metadata": {},
   "outputs": [
    {
     "name": "stdout",
     "output_type": "stream",
     "text": [
      "73 original: [1 2 3] Swapped view: [16777216 33554432 50331648]\n"
     ]
    }
   ],
   "source": [
    "import numpy as np\n",
    "\n",
    "arr73 = np.array([1, 2, 3], dtype=np.int32)\n",
    "arr73_swapped = arr73.view(arr73.dtype.newbyteorder())\n",
    "print(\"73 original:\", arr73, \"Swapped view:\", arr73_swapped)"
   ]
  },
  {
   "cell_type": "markdown",
   "id": "0f11309c-a88d-4fa6-8950-ace81fa7a51c",
   "metadata": {},
   "source": [
    "### Q74. For the given NumPy array and swap its byte order conditionally based on system endianness using newbyteorder()."
   ]
  },
  {
   "cell_type": "code",
   "execution_count": 91,
   "id": "d7f8b079-23f6-482b-bff3-cca9efa6410c",
   "metadata": {},
   "outputs": [
    {
     "name": "stdout",
     "output_type": "stream",
     "text": [
      "74 conditional swap: [16777216 33554432 50331648]\n"
     ]
    }
   ],
   "source": [
    "import numpy as np\n",
    "import sys\n",
    "\n",
    "def conditional_swap(a):\n",
    "    if sys.byteorder == 'little':\n",
    "        return a.view(a.dtype.newbyteorder('>'))\n",
    "    else:\n",
    "        return a.view(a.dtype.newbyteorder('<'))\n",
    "\n",
    "print(\"74 conditional swap:\", conditional_swap(np.array([1, 2, 3], dtype=np.int32)))"
   ]
  },
  {
   "cell_type": "markdown",
   "id": "1c9df2da-68d3-4d41-b383-e02f9259bfa3",
   "metadata": {},
   "source": [
    "### Q75. For the given NumPy array, check if byte swapping is necessary for the current system using dtype attribute byteorder."
   ]
  },
  {
   "cell_type": "code",
   "execution_count": 79,
   "id": "5ec1abf8-68fb-4eda-a51a-160ee864902f",
   "metadata": {},
   "outputs": [
    {
     "name": "stdout",
     "output_type": "stream",
     "text": [
      "75 needs swap?: True\n"
     ]
    }
   ],
   "source": [
    "def needs_swap(a):\n",
    "    bo = a.dtype.byteorder\n",
    "    if bo == '=' or bo == '|':  # native or not-applicable\n",
    "        return False\n",
    "    # If dtype indicates opposite endianness of system, swap needed\n",
    "    return (sys.byteorder == 'little' and bo == '>') or (sys.byteorder == 'big' and bo == '<')\n",
    "\n",
    "arr75 = np.array([1,2,3], dtype=np.dtype('>i4'))  # big-endian dtype\n",
    "print(\"75 needs swap?:\", needs_swap(arr75))\n"
   ]
  },
  {
   "cell_type": "markdown",
   "id": "bd232922-ab3f-4608-bba2-9635d92de7d9",
   "metadata": {},
   "source": [
    "### Q76. Create a NumPy array arr1 with values from 1 to 10. Create a copy of arr1 named copy_arr and modify an element in copy_arr. Check if modifying copy_arr affects arr1."
   ]
  },
  {
   "cell_type": "code",
   "execution_count": 80,
   "id": "bbe3f741-25a1-4e0c-99bf-e920a09fbf56",
   "metadata": {},
   "outputs": [
    {
     "name": "stdout",
     "output_type": "stream",
     "text": [
      "76 original starts: [1 2 3] copy starts: [999   2   3]\n"
     ]
    }
   ],
   "source": [
    "arr76 = np.arange(1,11)\n",
    "copy_arr76 = arr76.copy()\n",
    "copy_arr76[0] = 999\n",
    "print(\"76 original starts:\", arr76[:3], \"copy starts:\", copy_arr76[:3])\n",
    "# original unaffected\n"
   ]
  },
  {
   "cell_type": "markdown",
   "id": "d6193921-7142-443b-8b41-23a43b0a9337",
   "metadata": {},
   "source": [
    "### Q77. Create a 2D NumPy array matrix of shape (3, 3) with random integers. Extract a slice view_slice from the matrix. Modify an element in view_slice and observe if it changes the original matrix."
   ]
  },
  {
   "cell_type": "code",
   "execution_count": 81,
   "id": "e28eaa6b-5029-4171-8143-6f5b8f7e6025",
   "metadata": {},
   "outputs": [
    {
     "name": "stdout",
     "output_type": "stream",
     "text": [
      "77 original after modifying view:\n",
      " [[-999    4    5]\n",
      " [   7    9    8]\n",
      " [   7    8    6]]\n"
     ]
    }
   ],
   "source": [
    "matrix77 = np.random.randint(0, 10, (3,3))\n",
    "view_slice77 = matrix77[0:2, 0:2]   # this is a view\n",
    "view_slice77[0,0] = -999\n",
    "print(\"77 original after modifying view:\\n\", matrix77)\n"
   ]
  },
  {
   "cell_type": "markdown",
   "id": "ccb05836-3e8c-438f-9e44-cea56c8001f0",
   "metadata": {},
   "source": [
    "### Q78. Create a NumPy array array_a of shape (4, 3) with sequential integers from 1 to 12. Extract a slice view_b from array_a and broadcast the addition of 5 to view_b. Check if it alters the original array_a."
   ]
  },
  {
   "cell_type": "code",
   "execution_count": 82,
   "id": "f82a1d6a-a52b-49b1-bb2a-b7582739cb7f",
   "metadata": {},
   "outputs": [
    {
     "name": "stdout",
     "output_type": "stream",
     "text": [
      "78 original after broadcasting to view:\n",
      " [[ 1  2  3]\n",
      " [ 9 10  6]\n",
      " [12 13  9]\n",
      " [10 11 12]]\n"
     ]
    }
   ],
   "source": [
    "array78 = np.arange(1,13).reshape(4,3)\n",
    "view_b78 = array78[1:3, 0:2]   # view\n",
    "view_b78 += 5                  # in-place broadcast\n",
    "print(\"78 original after broadcasting to view:\\n\", array78)\n"
   ]
  },
  {
   "cell_type": "markdown",
   "id": "a924a097-e350-4300-9ec0-3d032bcf0101",
   "metadata": {},
   "source": [
    "### Q79. Create a NumPy array orig_array of shape (2, 4) with values from 1 to 8. Create a reshaped view reshaped_view of shape (4, 2) from orig_array. Modify an element in reshaped_view and check if it reflects changes in the original orig_array."
   ]
  },
  {
   "cell_type": "code",
   "execution_count": 83,
   "id": "03d8473f-c991-468a-9683-fae3d0f33e97",
   "metadata": {},
   "outputs": [
    {
     "name": "stdout",
     "output_type": "stream",
     "text": [
      "79 original after reshaped view modification:\n",
      " [[-777    2    3    4]\n",
      " [   5    6    7    8]]\n"
     ]
    }
   ],
   "source": [
    "orig79 = np.arange(1,9).reshape(2,4)\n",
    "reshaped_view79 = orig79.reshape(4,2)\n",
    "reshaped_view79[0,0] = -777\n",
    "print(\"79 original after reshaped view modification:\\n\", orig79)\n"
   ]
  },
  {
   "cell_type": "markdown",
   "id": "b597bb23-e642-4c61-bb19-f25af1fa1c24",
   "metadata": {},
   "source": [
    "### Q80. Create a NumPy array data of shape (3, 4) with random integers. Extract a copy data_copy of elements greater than 5. Modify an element in data_copy and verify if it affects the original data."
   ]
  },
  {
   "cell_type": "code",
   "execution_count": 84,
   "id": "7a685003-75cb-48cf-9867-3f5eb2a2f525",
   "metadata": {},
   "outputs": [
    {
     "name": "stdout",
     "output_type": "stream",
     "text": [
      "80 original (unchanged):\n",
      " [[1 3 8 6]\n",
      " [4 7 4 7]\n",
      " [8 3 5 7]]\n"
     ]
    }
   ],
   "source": [
    "data80 = np.random.randint(0, 10, (3,4))\n",
    "data_copy80 = data80[data80 > 5].copy()  # explicit copy\n",
    "if data_copy80.size:\n",
    "    data_copy80[0] = -999\n",
    "print(\"80 original (unchanged):\\n\", data80)\n"
   ]
  },
  {
   "cell_type": "markdown",
   "id": "f1de3d62-c8c6-4d36-a75a-0c1d1e577751",
   "metadata": {},
   "source": [
    "### Q81. Create two matrices A and B of identical shape containing integers and perform addition and subtraction operations between them."
   ]
  },
  {
   "cell_type": "code",
   "execution_count": 85,
   "id": "b80d31d1-5eb1-4531-8d0c-9cb4845dc414",
   "metadata": {},
   "outputs": [
    {
     "name": "stdout",
     "output_type": "stream",
     "text": [
      "81 add:\n",
      " [[ 6  8]\n",
      " [10 12]]\n",
      "81 subtract:\n",
      " [[-4 -4]\n",
      " [-4 -4]]\n"
     ]
    }
   ],
   "source": [
    "A81 = np.array([[1,2],[3,4]])\n",
    "B81 = np.array([[5,6],[7,8]])\n",
    "print(\"81 add:\\n\", A81 + B81)\n",
    "print(\"81 subtract:\\n\", A81 - B81)\n"
   ]
  },
  {
   "cell_type": "markdown",
   "id": "5264ec11-26cf-4384-af06-c967645db55a",
   "metadata": {},
   "source": [
    "### Q82. Generate two matrices C (3x2) and D (2x4) and perform matrix multiplication."
   ]
  },
  {
   "cell_type": "code",
   "execution_count": 86,
   "id": "3d08c79e-7086-47cd-84f6-0cb2003e3863",
   "metadata": {},
   "outputs": [
    {
     "name": "stdout",
     "output_type": "stream",
     "text": [
      "82 product:\n",
      " [[ 29  32  35  38]\n",
      " [ 65  72  79  86]\n",
      " [101 112 123 134]]\n"
     ]
    }
   ],
   "source": [
    "C82 = np.arange(1,7).reshape(3,2)\n",
    "D82 = np.arange(7,15).reshape(2,4)\n",
    "print(\"82 product:\\n\", np.dot(C82, D82))\n"
   ]
  },
  {
   "cell_type": "markdown",
   "id": "5aa8f5d4-83f0-41a5-93b0-1eb913ecbf6a",
   "metadata": {},
   "source": [
    "### Q83. Create a matrix E and find its transpose."
   ]
  },
  {
   "cell_type": "code",
   "execution_count": 87,
   "id": "97c04dca-4c4d-49d9-b98c-d8809a8ac139",
   "metadata": {},
   "outputs": [
    {
     "name": "stdout",
     "output_type": "stream",
     "text": [
      "83 transpose:\n",
      " [[1 4]\n",
      " [2 5]\n",
      " [3 6]]\n"
     ]
    }
   ],
   "source": [
    "E83 = np.array([[1,2,3],[4,5,6]])\n",
    "print(\"83 transpose:\\n\", E83.T)\n"
   ]
  },
  {
   "cell_type": "markdown",
   "id": "c163e174-a35e-48e1-8468-b261d0b41564",
   "metadata": {},
   "source": [
    "### Q 84. Generate a square matrix F and compute its determinant."
   ]
  },
  {
   "cell_type": "code",
   "execution_count": 88,
   "id": "bc0f507a-6979-4a28-bcaa-eb1a4638d44e",
   "metadata": {},
   "outputs": [
    {
     "name": "stdout",
     "output_type": "stream",
     "text": [
      "84 determinant: 10.000000000000002\n"
     ]
    }
   ],
   "source": [
    "F84 = np.array([[4.0, 7.0],[2.0,6.0]])\n",
    "print(\"84 determinant:\", det(F84))\n"
   ]
  },
  {
   "cell_type": "markdown",
   "id": "600bac45-7e0d-4a7a-ab56-69b3eafd0f28",
   "metadata": {},
   "source": [
    "### Q85. Create a square matrix G and find its inverse."
   ]
  },
  {
   "cell_type": "code",
   "execution_count": 89,
   "id": "1b863316-0828-40d5-bb58-acd17e34885c",
   "metadata": {},
   "outputs": [
    {
     "name": "stdout",
     "output_type": "stream",
     "text": [
      "85 inverse:\n",
      " [[-2.   1. ]\n",
      " [ 1.5 -0.5]]\n"
     ]
    }
   ],
   "source": [
    "G85 = np.array([[1.0,2.0],[3.0,4.0]])\n",
    "print(\"85 inverse:\\n\", inv(G85))\n"
   ]
  },
  {
   "cell_type": "code",
   "execution_count": null,
   "id": "a8f22dbb-1176-49e2-b031-c29ca0a588d4",
   "metadata": {},
   "outputs": [],
   "source": []
  }
 ],
 "metadata": {
  "kernelspec": {
   "display_name": "Python [conda env:base] *",
   "language": "python",
   "name": "conda-base-py"
  },
  "language_info": {
   "codemirror_mode": {
    "name": "ipython",
    "version": 3
   },
   "file_extension": ".py",
   "mimetype": "text/x-python",
   "name": "python",
   "nbconvert_exporter": "python",
   "pygments_lexer": "ipython3",
   "version": "3.13.5"
  }
 },
 "nbformat": 4,
 "nbformat_minor": 5
}
