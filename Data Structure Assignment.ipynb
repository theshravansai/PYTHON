{
 "cells": [
  {
   "cell_type": "markdown",
   "id": "4c8936a9-4b63-432c-9d83-4bf462959b62",
   "metadata": {},
   "source": [
    "# Data Sturucture Assignment "
   ]
  },
  {
   "cell_type": "markdown",
   "id": "009f4677-66e4-4de6-979f-d4678362e747",
   "metadata": {},
   "source": [
    " ### 1. Write a code to reverse a string."
   ]
  },
  {
   "cell_type": "code",
   "execution_count": 1,
   "id": "1be62965-ed10-4b6b-99bc-9a0b5d20b80e",
   "metadata": {},
   "outputs": [
    {
     "name": "stdout",
     "output_type": "stream",
     "text": [
      "education\n",
      "noitacude\n"
     ]
    }
   ],
   "source": [
    "a = \"education\"\n",
    "reversed_string = a[::-1]\n",
    "print(a)                  # education\n",
    "print(reversed_string)    #niotacude"
   ]
  },
  {
   "cell_type": "markdown",
   "id": "eba855bd-5485-45d7-b679-22d7cbfb4a44",
   "metadata": {},
   "source": [
    "### 2. Write a code to count the number of vowels in a string."
   ]
  },
  {
   "cell_type": "code",
   "execution_count": 2,
   "id": "9258a4e6-7b80-40c8-8acd-ef47a1a81097",
   "metadata": {},
   "outputs": [
    {
     "name": "stdout",
     "output_type": "stream",
     "text": [
      "5\n"
     ]
    }
   ],
   "source": [
    "s = \"education\"\n",
    "vowels = \"aeiouAEIOU\"\n",
    "count = sum(1 for char in s if char in vowels)\n",
    "print(count)"
   ]
  },
  {
   "cell_type": "markdown",
   "id": "a8981b5d-6577-454f-a798-a910c140b71a",
   "metadata": {},
   "source": [
    "## 3. Write a code to check if a given string is a palindrome or not."
   ]
  },
  {
   "cell_type": "code",
   "execution_count": 3,
   "id": "9f31853b-12b0-46b5-9a4c-1fc3f2773609",
   "metadata": {},
   "outputs": [
    {
     "name": "stdout",
     "output_type": "stream",
     "text": [
      "Palindrome hai\n"
     ]
    }
   ],
   "source": [
    "s = \"madam\"\n",
    "if s == s[::-1]:\n",
    "    print(\"Palindrome hai\")\n",
    "else:\n",
    "    print(\"Palindrome nahi hai\")\n"
   ]
  },
  {
   "cell_type": "markdown",
   "id": "4f21f8d0-3576-44b2-bccf-665f30a91938",
   "metadata": {},
   "source": [
    " ### 4.Write a code to check if two given strings are anagrams of each other ."
   ]
  },
  {
   "cell_type": "code",
   "execution_count": 4,
   "id": "a2cd0df9-f1e7-417f-bc44-9908e94418eb",
   "metadata": {},
   "outputs": [
    {
     "name": "stdout",
     "output_type": "stream",
     "text": [
      "Anagram hai\n"
     ]
    }
   ],
   "source": [
    "s1 = \"listen\"\n",
    "\n",
    "s2 = \"silent\"\n",
    "if sorted(s1) == sorted(s2):\n",
    "    print(\"Anagram hai\")\n",
    "else:\n",
    "    print(\"Anagram nahi hai\")"
   ]
  },
  {
   "cell_type": "markdown",
   "id": "9b9eb048-289a-43b9-894e-4521450e0aa3",
   "metadata": {},
   "source": [
    "### 5.Write a code find all occurrences of given substring within another string."
   ]
  },
  {
   "cell_type": "code",
   "execution_count": 5,
   "id": "7f7c1e9a-bb64-48b1-a115-cd993c7c50bd",
   "metadata": {},
   "outputs": [
    {
     "name": "stdout",
     "output_type": "stream",
     "text": [
      "Mila at index: 5\n"
     ]
    }
   ],
   "source": [
    "text = \"good hello nice\"\n",
    "sub = \"hello\"\n",
    "index = 0\n",
    "while index < len(text):\n",
    "    index = text.find(sub, index)\n",
    "    if index == -1:\n",
    "        break\n",
    "    print(\"Mila at index:\", index)\n",
    "    index += 1"
   ]
  },
  {
   "cell_type": "markdown",
   "id": "d1e2eb1e-8905-454a-88e9-cf7c7ef58126",
   "metadata": {},
   "source": [
    "### 6.Write a code to perform basic string compression using the counts of repeated characters."
   ]
  },
  {
   "cell_type": "code",
   "execution_count": 6,
   "id": "817437a0-ecb2-4aee-949d-237a43a67501",
   "metadata": {},
   "outputs": [
    {
     "name": "stdout",
     "output_type": "stream",
     "text": [
      "a3b2c3\n"
     ]
    }
   ],
   "source": [
    "s = \"aaabbccc\"\n",
    "compressed = \"\"\n",
    "i = 0\n",
    "while i < len(s):\n",
    "    count = 1\n",
    "    while i + 1 < len(s) and s[i] == s[i+1]:\n",
    "        count += 1\n",
    "        i += 1\n",
    "    compressed += s[i] + str(count)\n",
    "    i += 1\n",
    "print(compressed)"
   ]
  },
  {
   "cell_type": "markdown",
   "id": "43474314-427b-4402-b0b9-31d1853b6ee4",
   "metadata": {},
   "source": [
    "### 7.Write a code to determine if a string has all unique characters."
   ]
  },
  {
   "cell_type": "code",
   "execution_count": 7,
   "id": "96637bf6-29b5-495a-a89c-f1eae3bb3cb7",
   "metadata": {},
   "outputs": [
    {
     "name": "stdout",
     "output_type": "stream",
     "text": [
      "Sab characters unique hain\n"
     ]
    }
   ],
   "source": [
    "name = \"fruit\"\n",
    "if len(set(name)) == len(name):\n",
    "    print(\"Sab characters unique hain\")\n",
    "else:\n",
    "    print(\"Kuch characters repeat ho rahe hain\")\n"
   ]
  },
  {
   "cell_type": "markdown",
   "id": "ca07a513-63c9-43b0-9f98-ceee5cf4b166",
   "metadata": {},
   "source": [
    "### 8.Write a code to convert a given string to uppercase or lowercase."
   ]
  },
  {
   "cell_type": "code",
   "execution_count": 8,
   "id": "50f00cf0-e1af-4e04-b5b6-3644c6cd2937",
   "metadata": {},
   "outputs": [
    {
     "name": "stdout",
     "output_type": "stream",
     "text": [
      "MANGO\n",
      "mango\n"
     ]
    }
   ],
   "source": [
    "Fruit = \"Mango\"\n",
    "print(Fruit.upper())\n",
    "print(Fruit.lower())"
   ]
  },
  {
   "cell_type": "markdown",
   "id": "63aa1c8d-7d58-42e1-82d4-ab69c3621c0e",
   "metadata": {},
   "source": [
    "### 9.Write a code to count the number of words in a string."
   ]
  },
  {
   "cell_type": "code",
   "execution_count": 9,
   "id": "6eeb7556-67f9-4d4d-9c2e-1451d42e9aee",
   "metadata": {},
   "outputs": [
    {
     "name": "stdout",
     "output_type": "stream",
     "text": [
      "Words: 5\n"
     ]
    }
   ],
   "source": [
    "s = \"This is my first assignment\"\n",
    "words = s.split()\n",
    "print(\"Words:\", len(words))"
   ]
  },
  {
   "cell_type": "markdown",
   "id": "029164df-69b4-4ca9-9aeb-a43a0b230f53",
   "metadata": {},
   "source": [
    " ### 10.Write a code to concatenate two strings without using the + operator."
   ]
  },
  {
   "cell_type": "code",
   "execution_count": 10,
   "id": "de025bfc-d137-473f-9b68-4f09a4a41dd4",
   "metadata": {},
   "outputs": [
    {
     "name": "stdout",
     "output_type": "stream",
     "text": [
      "Hello World\n"
     ]
    }
   ],
   "source": [
    "s1 = \"Hello \"\n",
    "s2 = \"World\"\n",
    "result = \"{}{}\".format(s1, s2)\n",
    "print(result)\n"
   ]
  },
  {
   "cell_type": "markdown",
   "id": "9552eaa7-bad8-42da-8394-480dcaa76c2d",
   "metadata": {},
   "source": [
    " ### 11.Write a code to remove all occurrences of a specific element from a list."
   ]
  },
  {
   "cell_type": "code",
   "execution_count": 11,
   "id": "9606a579-0a2c-4716-8842-080ebafaf75b",
   "metadata": {},
   "outputs": [
    {
     "name": "stdout",
     "output_type": "stream",
     "text": [
      "[1, 3, 4]\n"
     ]
    }
   ],
   "source": [
    "lst = [1, 2, 3, 2, 4, 2]\n",
    "x = 2\n",
    "new_list = [i for i in lst if i != x]\n",
    "print(new_list)"
   ]
  },
  {
   "cell_type": "markdown",
   "id": "1631b1d8-db55-421c-bdd6-c10c75659137",
   "metadata": {},
   "source": [
    "### 12.Implement a code to find the second largest number in a given list of integers."
   ]
  },
  {
   "cell_type": "code",
   "execution_count": 12,
   "id": "c160773f-ad4e-4a37-8b4d-bbd9c69e42fd",
   "metadata": {},
   "outputs": [
    {
     "name": "stdout",
     "output_type": "stream",
     "text": [
      "Second Largest: 45\n"
     ]
    }
   ],
   "source": [
    "num = [10, 20, 4, 45, 99]\n",
    "num = list(set(num))\n",
    "num.sort()\n",
    "print(\"Second Largest:\", num[-2])"
   ]
  },
  {
   "cell_type": "markdown",
   "id": "1a060163-d8e2-4145-9374-0a2568893f57",
   "metadata": {},
   "source": [
    "### 13.Create a code to count the occurrences of each element in a list and returna dictionary with elements as keys and their counts as values."
   ]
  },
  {
   "cell_type": "code",
   "execution_count": 13,
   "id": "94a55886-fab6-4158-a01f-ad4ca86b6611",
   "metadata": {},
   "outputs": [
    {
     "name": "stdout",
     "output_type": "stream",
     "text": [
      "{1: 2, 2: 2, 3: 1}\n"
     ]
    }
   ],
   "source": [
    "lst = [1, 2, 2, 3, 1]\n",
    "count_dict = {}\n",
    "for i in lst:\n",
    "    count_dict[i] = count_dict.get(i, 0) + 1\n",
    "print(count_dict)\n"
   ]
  },
  {
   "cell_type": "markdown",
   "id": "57bb937f-1497-427d-ad1f-e4e6648b697a",
   "metadata": {},
   "source": [
    "### 14.Write a code to reverse a list in -place without using any built-in reverse functions."
   ]
  },
  {
   "cell_type": "code",
   "execution_count": 14,
   "id": "96fcff75-adfd-4e81-b341-8c3a77cfc2dd",
   "metadata": {},
   "outputs": [
    {
     "name": "stdout",
     "output_type": "stream",
     "text": [
      "[4, 3, 2, 1]\n"
     ]
    }
   ],
   "source": [
    "lst = [1, 2, 3, 4]\n",
    "for i in range(len(lst)//2):\n",
    "    lst[i], lst[-i-1] = lst[-i-1], lst[i]\n",
    "print(lst)\n"
   ]
  },
  {
   "cell_type": "markdown",
   "id": "5468b31f-bc20-4b90-be01-147b2c8ecf06",
   "metadata": {},
   "source": [
    "### 15.Implement a code to find and remove duplicates from list while preserving the original order of elements."
   ]
  },
  {
   "cell_type": "code",
   "execution_count": 15,
   "id": "99b0211f-4010-46d2-8c32-8a19cd425fc7",
   "metadata": {},
   "outputs": [
    {
     "name": "stdout",
     "output_type": "stream",
     "text": [
      "[1, 2, 3]\n"
     ]
    }
   ],
   "source": [
    "lst = [1, 2, 2, 3, 1]\n",
    "seen = set()\n",
    "result = []\n",
    "for i in lst:\n",
    "    if i not in seen:\n",
    "        seen.add(i)\n",
    "        result.append(i)\n",
    "print(result)\n"
   ]
  },
  {
   "cell_type": "markdown",
   "id": "048c9199-d857-44f6-96d3-d899e8a103bf",
   "metadata": {},
   "source": [
    " ### 16.Create a code to check if a given list is sorted (either in ascending order or descending order) or not."
   ]
  },
  {
   "cell_type": "code",
   "execution_count": 16,
   "id": "97fdf72b-0443-47ab-96f8-91fdf716f6ea",
   "metadata": {},
   "outputs": [
    {
     "name": "stdout",
     "output_type": "stream",
     "text": [
      "Sorted hai\n"
     ]
    }
   ],
   "source": [
    "lst = [1, 2, 3, 4]\n",
    "if lst == sorted(lst) or lst == sorted(lst, reverse=True):\n",
    "    print(\"Sorted hai\")\n",
    "else:\n",
    "    print(\"Sorted nahi hai\")"
   ]
  },
  {
   "cell_type": "markdown",
   "id": "72f1c4b8-0726-45a1-a1e9-503442ff00a9",
   "metadata": {},
   "source": [
    "### 17.Write a code to merge two shorted lists into a single sorted list."
   ]
  },
  {
   "cell_type": "code",
   "execution_count": 17,
   "id": "95376f31-06bb-4aef-9578-192e48250318",
   "metadata": {},
   "outputs": [
    {
     "name": "stdout",
     "output_type": "stream",
     "text": [
      "[1, 2, 3, 4, 5, 6]\n"
     ]
    }
   ],
   "source": [
    "a = [1, 3, 5]\n",
    "b = [2, 4, 6]\n",
    "merged = sorted(a + b)\n",
    "print(merged)"
   ]
  },
  {
   "cell_type": "markdown",
   "id": "5a3d9d80-0630-4494-bccc-8f2edd46fee7",
   "metadata": {},
   "source": [
    "### 18.Implement a code to find the intersection of two given lists."
   ]
  },
  {
   "cell_type": "code",
   "execution_count": 18,
   "id": "a544de1d-8aac-43f7-8f0b-d7f6345bae69",
   "metadata": {},
   "outputs": [
    {
     "name": "stdout",
     "output_type": "stream",
     "text": [
      "[2, 3]\n"
     ]
    }
   ],
   "source": [
    "a = [1, 2, 3]\n",
    "b = [2, 3, 4]\n",
    "print(list(set(a) & set(b)))"
   ]
  },
  {
   "cell_type": "markdown",
   "id": "b76fb441-ef92-455b-8848-81ddbf875560",
   "metadata": {},
   "source": [
    "### 19.Create a code to find the union of two lists without duplicates."
   ]
  },
  {
   "cell_type": "code",
   "execution_count": 19,
   "id": "ec37db06-a78b-4cb1-bfcf-2beb735c181c",
   "metadata": {},
   "outputs": [
    {
     "name": "stdout",
     "output_type": "stream",
     "text": [
      "[1, 2, 3, 4]\n"
     ]
    }
   ],
   "source": [
    "a = [1, 2, 3]\n",
    "b = [2, 3, 4]\n",
    "print(list(set(a + b)))\n"
   ]
  },
  {
   "cell_type": "markdown",
   "id": "4031189d-e619-42d1-a22b-6e2029d4db50",
   "metadata": {},
   "source": [
    "### 20.Write a code to shuffle a given list randomly without using any built-in shuffle functions."
   ]
  },
  {
   "cell_type": "code",
   "execution_count": 20,
   "id": "bd1f19f2-2125-4134-a1a8-52d6061bb2d7",
   "metadata": {},
   "outputs": [
    {
     "name": "stdout",
     "output_type": "stream",
     "text": [
      "[5, 1, 2, 3, 4]\n"
     ]
    }
   ],
   "source": [
    "import random\n",
    "lst = [1, 2, 3, 4, 5]\n",
    "for i in range(len(lst)-1, 0, -1):\n",
    "    j = random.randint(0, i)\n",
    "    lst[i], lst[j] = lst[j], lst[i]\n",
    "print(lst)\n"
   ]
  },
  {
   "cell_type": "markdown",
   "id": "5b1afced-5885-47d4-b868-852901e1246c",
   "metadata": {},
   "source": [
    "### 21.Write a code that takes two tuples as input and returns a new tuple containing elements that are common to both input tuples."
   ]
  },
  {
   "cell_type": "code",
   "execution_count": 21,
   "id": "7d4c6f57-cd9c-411d-b063-1d7a86cdda73",
   "metadata": {},
   "outputs": [
    {
     "name": "stdout",
     "output_type": "stream",
     "text": [
      "(3, 4)\n"
     ]
    }
   ],
   "source": [
    "t1 = (1, 2, 3, 4)\n",
    "t2 = (3, 4, 5, 6)\n",
    "result = tuple(set(t1) & set(t2))\n",
    "print(result)"
   ]
  },
  {
   "cell_type": "markdown",
   "id": "b2795301-36e1-4ad1-9bdd-bc8684e6b400",
   "metadata": {},
   "source": [
    " ### 22.Create a code that prompts the user to enter two sets of integers separated by commas.Then ,print the intersection of these two sets."
   ]
  },
  {
   "cell_type": "code",
   "execution_count": 22,
   "id": "7deb2760-a01e-4782-9d08-52fdbb2e9091",
   "metadata": {},
   "outputs": [
    {
     "name": "stdin",
     "output_type": "stream",
     "text": [
      "Enter first set (comma separated):  5\n",
      "Enter second set (comma separated):  6\n"
     ]
    },
    {
     "name": "stdout",
     "output_type": "stream",
     "text": [
      "Intersection: set()\n"
     ]
    }
   ],
   "source": [
    " a = set(map(int, input(\"Enter first set (comma separated): \").split(',')))\n",
    "b = set(map(int, input(\"Enter second set (comma separated): \").split(',')))\n",
    "print(\"Intersection:\", a & b)"
   ]
  },
  {
   "cell_type": "markdown",
   "id": "421cdbd2-b2e2-4319-ae58-6ddf5a6e05f6",
   "metadata": {},
   "source": [
    "### 23.Write a code to concatenate two tuples.The function should take two tuples as input and return a new tuple containing elements from both input tuples."
   ]
  },
  {
   "cell_type": "code",
   "execution_count": 23,
   "id": "80a81f99-672c-4474-af84-2b29697c5dc8",
   "metadata": {},
   "outputs": [
    {
     "name": "stdout",
     "output_type": "stream",
     "text": [
      "(1, 2, 3, 4)\n"
     ]
    }
   ],
   "source": [
    "t1 = (1, 2)\n",
    "t2 = (3, 4)\n",
    "print(t1 + t2)"
   ]
  },
  {
   "cell_type": "markdown",
   "id": "d69b2e8c-e44c-4cbf-bd96-6fb79f3585ae",
   "metadata": {},
   "source": [
    "### 24.Developma code that prompts the user to input two sets of strings.Then,print the elements that are present in the first set but not in the second set."
   ]
  },
  {
   "cell_type": "code",
   "execution_count": 24,
   "id": "c9794aa7-5128-45cd-a2ed-85f7bdd11a99",
   "metadata": {},
   "outputs": [
    {
     "name": "stdin",
     "output_type": "stream",
     "text": [
      "Enter first set of strings:  \"Apple\"\n",
      "Enter second set of strings:  \"Banana\"\n"
     ]
    },
    {
     "name": "stdout",
     "output_type": "stream",
     "text": [
      "Only in first set: {'\"Apple\"'}\n"
     ]
    }
   ],
   "source": [
    "a = set(input(\"Enter first set of strings: \").split())\n",
    "b = set(input(\"Enter second set of strings: \").split())\n",
    "print(\"Only in first set:\", a - b)\n"
   ]
  },
  {
   "cell_type": "markdown",
   "id": "530e5310-ab38-4922-8ca6-5d7c69ed9de3",
   "metadata": {},
   "source": [
    "### 25.Create a code that takes a tuple and two integers as input.The function should return a new tuple containing elements from the original tuple within the specified range of indices ."
   ]
  },
  {
   "cell_type": "code",
   "execution_count": 25,
   "id": "3d63b2a3-8763-4cd0-ad97-bb1f4d8011ce",
   "metadata": {},
   "outputs": [
    {
     "name": "stdout",
     "output_type": "stream",
     "text": [
      "(20, 30, 40)\n"
     ]
    }
   ],
   "source": [
    "def slice_tuple(t, start, end):\n",
    "    return t[start:end]\n",
    "t = (10, 20, 30, 40, 50)\n",
    "print(slice_tuple(t, 1, 4))  # Output: (20, 30, 40)"
   ]
  },
  {
   "cell_type": "markdown",
   "id": "47e0ca53-05bf-454f-a983-4fed551c4618",
   "metadata": {},
   "source": [
    "### 26.Write a code that prompts the user to input two sets of characters.Then,print the union of these two sets."
   ]
  },
  {
   "cell_type": "code",
   "execution_count": 26,
   "id": "318afc15-3801-4297-a42c-b12363f0e249",
   "metadata": {},
   "outputs": [
    {
     "name": "stdin",
     "output_type": "stream",
     "text": [
      "Enter first set of characters:  8\n",
      "Enter second set of characters:  9\n"
     ]
    },
    {
     "name": "stdout",
     "output_type": "stream",
     "text": [
      "Union: {'9', '8'}\n"
     ]
    }
   ],
   "source": [
    "a = set(input(\"Enter first set of characters: \"))\n",
    "b = set(input(\"Enter second set of characters: \"))\n",
    "print(\"Union:\", a | b)"
   ]
  },
  {
   "cell_type": "markdown",
   "id": "cecd7e39-7600-4a93-93fb-ebcd0d393540",
   "metadata": {},
   "source": [
    "### 27.Develop a code that takes a tuple of integers as input.The function should return the maximum and minimum values from the tuple using tuple unpacking."
   ]
  },
  {
   "cell_type": "code",
   "execution_count": 27,
   "id": "f7329645-c6a1-47ff-990c-1a603910a8e6",
   "metadata": {},
   "outputs": [
    {
     "name": "stdout",
     "output_type": "stream",
     "text": [
      "(9, 1)\n"
     ]
    }
   ],
   "source": [
    "def find_max_min(*nums):\n",
    "    return max(nums), min(nums)\n",
    "\n",
    "t = (5, 2, 9, 1)\n",
    "print(find_max_min(*t))"
   ]
  },
  {
   "cell_type": "markdown",
   "id": "72e6ffa4-cacf-4546-84d4-2815fe6b6e0b",
   "metadata": {},
   "source": [
    " ### 28.Create a code that defines two sets of integers.Then,print the union,intersection,and diffeence of these two sets."
   ]
  },
  {
   "cell_type": "code",
   "execution_count": 28,
   "id": "accbeacf-2515-4d4b-9989-ec0b5b23b92f",
   "metadata": {},
   "outputs": [
    {
     "name": "stdout",
     "output_type": "stream",
     "text": [
      "Union: {1, 2, 3, 4}\n",
      "Intersection: {2, 3}\n",
      "Difference (a-b): {1}\n"
     ]
    }
   ],
   "source": [
    "a = {1, 2, 3}\n",
    "b = {2, 3, 4}\n",
    "\n",
    "print(\"Union:\", a | b)\n",
    "print(\"Intersection:\", a & b)\n",
    "print(\"Difference (a-b):\", a - b)\n"
   ]
  },
  {
   "cell_type": "markdown",
   "id": "cd97bd7a-fc48-4e9c-91db-6d87fade31b7",
   "metadata": {},
   "source": [
    "### 29.Write a code that takes a tuple and an element as input .The function should return the count of occurrences of the given element inthe tuple."
   ]
  },
  {
   "cell_type": "code",
   "execution_count": 29,
   "id": "c9989dab-3e89-46cc-9d16-e7dbbc6215e3",
   "metadata": {},
   "outputs": [
    {
     "name": "stdout",
     "output_type": "stream",
     "text": [
      "3\n"
     ]
    }
   ],
   "source": [
    "def count_element(t, x):\n",
    "    return t.count(x)\n",
    "\n",
    "t = (1, 2, 2, 3, 2)\n",
    "print(count_element(t, 2))"
   ]
  },
  {
   "cell_type": "markdown",
   "id": "004a3122-c783-423d-ad18-a446c0160b8b",
   "metadata": {},
   "source": [
    " ### 30.Develop a code that prompts the user to input two sets of strings.Then ,print the symmetric difference of these two sets."
   ]
  },
  {
   "cell_type": "code",
   "execution_count": 30,
   "id": "eb20756c-5541-4090-ae1e-d79ca0bb9f92",
   "metadata": {},
   "outputs": [
    {
     "name": "stdin",
     "output_type": "stream",
     "text": [
      "Enter first set of strings:  \"Name\"\n",
      "Enter second set of strings:  \"Ram\"\n"
     ]
    },
    {
     "name": "stdout",
     "output_type": "stream",
     "text": [
      "Symmetric Difference: {'\"Name\"', '\"Ram\"'}\n"
     ]
    }
   ],
   "source": [
    "a = set(input(\"Enter first set of strings: \").split())\n",
    "b = set(input(\"Enter second set of strings: \").split())\n",
    "print(\"Symmetric Difference:\", a ^ b)\n"
   ]
  },
  {
   "cell_type": "markdown",
   "id": "eea151c6-f3ae-4900-a5a9-55b141a66bcf",
   "metadata": {},
   "source": [
    "### 31.Write a code that takes a list of words as input and returns a dictionary where the keys are unique words and the values are the frequencies of those words in the input list."
   ]
  },
  {
   "cell_type": "code",
   "execution_count": 31,
   "id": "14a35613-201e-47eb-9ab6-969aa5090f15",
   "metadata": {},
   "outputs": [
    {
     "name": "stdout",
     "output_type": "stream",
     "text": [
      "{'apple': 3, 'banana': 2, 'orange': 1}\n"
     ]
    }
   ],
   "source": [
    "words = [\"apple\", \"banana\", \"apple\", \"orange\", \"banana\", \"apple\"]\n",
    "freq = {}\n",
    "for word in words:\n",
    "    freq[word] = freq.get(word, 0) + 1\n",
    "print(freq)"
   ]
  },
  {
   "cell_type": "markdown",
   "id": "56e1338e-47dc-4fa8-bb9b-06e2b723b039",
   "metadata": {},
   "source": [
    " ### 32.Write a code that takes two dictionaries as input and merges them into a single dictionary .If there are common keys,the values should be added together."
   ]
  },
  {
   "cell_type": "code",
   "execution_count": 32,
   "id": "c7001c8f-fb06-4a7c-a3e8-7a84df96fafe",
   "metadata": {},
   "outputs": [
    {
     "name": "stdout",
     "output_type": "stream",
     "text": [
      "{'a': 1, 'b': 5, 'c': 4}\n"
     ]
    }
   ],
   "source": [
    "d1 = {\"a\": 1, \"b\": 2}\n",
    "d2 = {\"b\": 3, \"c\": 4}\n",
    "\n",
    "merged = d1.copy()\n",
    "for key, value in d2.items():\n",
    "    merged[key] = merged.get(key, 0) + value\n",
    "\n",
    "print(merged)\n"
   ]
  },
  {
   "cell_type": "markdown",
   "id": "1cdc6643-e84d-4ad7-b5ad-079fcc932ad1",
   "metadata": {},
   "source": [
    "### 33.Write a code to access a value in a nasted dictionary .The function should take the dictionary and a list of keys as input and return the corresponding value .If any of the keys as input and return the corresponding value.If any of the keys do not exits in the dictionary ,the function should return None."
   ]
  },
  {
   "cell_type": "code",
   "execution_count": 33,
   "id": "2bcbff41-13c9-4152-844b-dc17ba7a2b0b",
   "metadata": {},
   "outputs": [
    {
     "name": "stdout",
     "output_type": "stream",
     "text": [
      "5\n"
     ]
    }
   ],
   "source": [
    "def get_nested_value(d, keys):\n",
    "    for key in keys:\n",
    "        if key in d:\n",
    "            d = d[key]\n",
    "        else:\n",
    "            return None\n",
    "    return d\n",
    "\n",
    "data = {'a': {'b': {'c': 5}}}\n",
    "print(get_nested_value(data, ['a', 'b', 'c'])) "
   ]
  },
  {
   "cell_type": "markdown",
   "id": "47f16050-6e70-4199-bdef-fa6e2b4c45f6",
   "metadata": {},
   "source": [
    " ### 34.Write a code that takes a dictionary as input and returns a sorted version of it based  on the value .You can choose whethern to sort in ascending or descending  order."
   ]
  },
  {
   "cell_type": "code",
   "execution_count": 34,
   "id": "46b43861-97c1-4092-b457-8cc2309cb24b",
   "metadata": {},
   "outputs": [
    {
     "name": "stdout",
     "output_type": "stream",
     "text": [
      "{'b': 1, 'c': 2, 'a': 3}\n",
      "{'a': 3, 'c': 2, 'b': 1}\n"
     ]
    }
   ],
   "source": [
    "def sort_dict(d, ascending=True):\n",
    "    return dict(sorted(d.items(), key=lambda x: x[1], reverse=not ascending))\n",
    "\n",
    "data = {\"a\": 3, \"b\": 1, \"c\": 2}\n",
    "print(sort_dict(data))           # Ascending\n",
    "print(sort_dict(data, False))    # Descending\n"
   ]
  },
  {
   "cell_type": "markdown",
   "id": "12f90924-c994-4890-b20b-4d583cda7777",
   "metadata": {},
   "source": [
    "### 35.Write a code that inverts a dictionary,swapping keys and values.Ensure that the inverted dictionary correctly handle cases where multiple keys have the same value by storing the  keys as a list in the inverted dictionary."
   ]
  },
  {
   "cell_type": "code",
   "execution_count": 36,
   "id": "b2e8fce2-0412-4624-be59-bc57a8a70516",
   "metadata": {},
   "outputs": [
    {
     "name": "stdout",
     "output_type": "stream",
     "text": [
      "{1: ['a', 'c'], 2: ['b']}\n"
     ]
    }
   ],
   "source": [
    "def invert_dict(d):\n",
    "    inverted = {}\n",
    "    for key, value in d.items():\n",
    "        if value not in inverted:\n",
    "            inverted[value] = [key]\n",
    "        else:\n",
    "            inverted[value].append(key)\n",
    "    return inverted\n",
    "\n",
    "data = {\"a\": 1, \"b\": 2, \"c\": 1}\n",
    "print(invert_dict(data))\n"
   ]
  }
 ],
 "metadata": {
  "kernelspec": {
   "display_name": "Python [conda env:base] *",
   "language": "python",
   "name": "conda-base-py"
  },
  "language_info": {
   "codemirror_mode": {
    "name": "ipython",
    "version": 3
   },
   "file_extension": ".py",
   "mimetype": "text/x-python",
   "name": "python",
   "nbconvert_exporter": "python",
   "pygments_lexer": "ipython3",
   "version": "3.13.5"
  }
 },
 "nbformat": 4,
 "nbformat_minor": 5
}
