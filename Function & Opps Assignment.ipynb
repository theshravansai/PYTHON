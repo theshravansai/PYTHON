{
 "cells": [
  {
   "cell_type": "markdown",
   "metadata": {},
   "source": [
    "### Q1.Explain the importance of Functions."
   ]
  },
  {
   "cell_type": "markdown",
   "metadata": {},
   "source": [
    "\n",
    "'''\n",
    "1. Modularity\n",
    "2. Reusability\n",
    "3. Abstraction\n",
    "4. Encaplution\n",
    "5. Code organization\n",
    "'''"
   ]
  },
  {
   "cell_type": "markdown",
   "metadata": {},
   "source": [
    "### Q2  Write a basic function to greet students."
   ]
  },
  {
   "cell_type": "code",
   "execution_count": 44,
   "metadata": {},
   "outputs": [
    {
     "name": "stdout",
     "output_type": "stream",
     "text": [
      "Good Morning Students\n"
     ]
    }
   ],
   "source": [
    "\n",
    "def greet_student():\n",
    "    print(\"Good Morning Students\")\n",
    "\n",
    "greet_student()"
   ]
  },
  {
   "cell_type": "markdown",
   "metadata": {},
   "source": [
    "### Q3 What is the difference between print and return statements."
   ]
  },
  {
   "cell_type": "code",
   "execution_count": 3,
   "metadata": {},
   "outputs": [],
   "source": [
    "\n",
    "'''\n",
    "print->> used to display output to the console or terminal\n",
    "\n",
    "return-->> used to exit a function and return a value to its caller\n",
    "'''"
   ]
  },
  {
   "cell_type": "markdown",
   "metadata": {},
   "source": [
    "### Q4 What are *args and **kwargs ?"
   ]
  },
  {
   "cell_type": "code",
   "execution_count": 47,
   "metadata": {},
   "outputs": [
    {
     "name": "stdout",
     "output_type": "stream",
     "text": [
      "1\n",
      "2\n",
      "3\n",
      "name pwskills\n",
      "age 30\n"
     ]
    }
   ],
   "source": [
    "\n",
    "'''\n",
    "*args -->> it is used to pass a variable number of positional arguments to a function\n",
    "eg- '''\n",
    "def myFun(*args):\n",
    "    for arg in args:\n",
    "        print(arg)\n",
    "myFun(1,2,3)\n",
    "'''\n",
    "**kwards -->> it is used to pass a variable number of keyword arguments to a function\n",
    "eg-\n",
    "'''\n",
    "def myFun1(**kwargs):\n",
    "    for key,value in kwargs.items():\n",
    "        print(key,value)\n",
    "myFun1(name=\"pwskills\",age=30)"
   ]
  },
  {
   "cell_type": "markdown",
   "metadata": {},
   "source": [
    "### Q5 Explain the iterator function.\n",
    "\n",
    "An iterator is an object that enables traversal over elements within a collection or sequence, providing a mechanism to access them one at a time. It abstracts the underlying data structure, allowing for consistent iteration regardless of the collection type (e.g., arrays, lists, sets, maps).\n",
    "\n"
   ]
  },
  {
   "cell_type": "markdown",
   "metadata": {},
   "source": [
    "### Q6 Write a code that generates the squares of numbers from 1 to n using a generator.\n"
   ]
  },
  {
   "cell_type": "code",
   "execution_count": 6,
   "metadata": {},
   "outputs": [
    {
     "name": "stdout",
     "output_type": "stream",
     "text": [
      "Square of numbers from 1 to  5 are:\n",
      "1\n",
      "4\n",
      "9\n",
      "16\n",
      "25\n"
     ]
    }
   ],
   "source": [
    "\n",
    "def square_generator(n):\n",
    "    for i in range(1,n+1):\n",
    "        yield i*i\n",
    "\n",
    "n=int(input(\"Enter value of n:\"))\n",
    "squares=square_generator(n)\n",
    "print(\"Square of numbers from 1 to \",n, \"are:\")\n",
    "for i in squares:\n",
    "    print(i)"
   ]
  },
  {
   "cell_type": "markdown",
   "metadata": {},
   "source": [
    "### Q7 Write a code that generates palindromic numbers up to n using a generator."
   ]
  },
  {
   "cell_type": "code",
   "execution_count": 9,
   "metadata": {},
   "outputs": [
    {
     "name": "stdout",
     "output_type": "stream",
     "text": [
      "1 2 3 4 5 6 7 8 9 11 22 33 44 55 66 77 88 99 101 111 121 131 141 "
     ]
    }
   ],
   "source": [
    "\n",
    "def generate_palindrome(n):\n",
    "    for num in range(1,n+1):\n",
    "        if str(num)==str(num)[::-1]:\n",
    "            yield num\n",
    "\n",
    "n=int(input(\"Enter value of n:\"))\n",
    "for i in generate_palindrome(n):\n",
    "    print(i,end=\" \")\n"
   ]
  },
  {
   "cell_type": "markdown",
   "metadata": {},
   "source": [
    "### Q8  Write a code that generates even numbers from 2 to n using a generator."
   ]
  },
  {
   "cell_type": "code",
   "execution_count": 10,
   "metadata": {},
   "outputs": [
    {
     "name": "stdout",
     "output_type": "stream",
     "text": [
      "2 4 6 8 10 "
     ]
    }
   ],
   "source": [
    "\n",
    "def generate_even_numbers(n):\n",
    "    for num in range(2,n+1):\n",
    "        if num%2==0:\n",
    "            yield num\n",
    "\n",
    "n=int(input(\"Enter Value of n:\"))\n",
    "for i in generate_even_numbers(n):\n",
    "    print(i,end=\" \")"
   ]
  },
  {
   "cell_type": "markdown",
   "metadata": {},
   "source": [
    "### Q9 Write a code that generates powers of two up to n using a generator."
   ]
  },
  {
   "cell_type": "code",
   "execution_count": 11,
   "metadata": {},
   "outputs": [
    {
     "name": "stdout",
     "output_type": "stream",
     "text": [
      "1 2 4 8 16 32 "
     ]
    }
   ],
   "source": [
    "\n",
    "def generate_power_of_two(n):\n",
    "    for i in range(n):\n",
    "        yield 2**i\n",
    "\n",
    "n=int(input(\"Enter Value of n:\"))\n",
    "for i in generate_power_of_two(n):\n",
    "    print(i,end=\" \")"
   ]
  },
  {
   "cell_type": "markdown",
   "metadata": {},
   "source": [
    "### Q10 Write a code that generates prime numbers up to n using a generator."
   ]
  },
  {
   "cell_type": "code",
   "execution_count": 13,
   "metadata": {},
   "outputs": [
    {
     "name": "stdout",
     "output_type": "stream",
     "text": [
      "2 3 5 7 11 13 17 19 23 29 "
     ]
    }
   ],
   "source": [
    "\n",
    "def is_prime(num):\n",
    "    if num<=1:\n",
    "        return False\n",
    "    for i in range(2,int(num**0.5)+1):\n",
    "        if num%i==0:\n",
    "            return False\n",
    "    return True\n",
    "\n",
    "def generate_prime_numbers(n):\n",
    "    count=0\n",
    "    num=2\n",
    "    while count<n:\n",
    "        if is_prime(num):\n",
    "            yield num\n",
    "            count+=1\n",
    "        num+=1\n",
    "\n",
    "n=int(input(\"Enter Value of n:\"))\n",
    "for i in generate_prime_numbers(n):\n",
    "    print(i,end=\" \")"
   ]
  },
  {
   "cell_type": "markdown",
   "metadata": {},
   "source": [
    "### Q11 Write a code that uses a lambda function to calculate the sum of two numbers."
   ]
  },
  {
   "cell_type": "markdown",
   "metadata": {},
   "source": [
    "\n",
    "x=lambda a,b:a+b\n",
    "n1=int(input(\"Enter first num:\"))\n",
    "n2=int(input(\"Enter Second num:\"))\n",
    "print(\"Sum of \",n1, \" and \",n2, \" is \",x(n1,n2))"
   ]
  },
  {
   "cell_type": "markdown",
   "metadata": {},
   "source": [
    " ### Q12  Write a code that uses a lambda function to calculate the square of a given number."
   ]
  },
  {
   "cell_type": "code",
   "execution_count": 17,
   "metadata": {},
   "outputs": [
    {
     "name": "stdout",
     "output_type": "stream",
     "text": [
      "Square of  4 is 16\n"
     ]
    }
   ],
   "source": [
    "\n",
    "x=lambda a:a**2\n",
    "n=int(input(\"Enter value of n\"))\n",
    "print(\"Square of \",n,\"is\", x(n))"
   ]
  },
  {
   "cell_type": "markdown",
   "metadata": {},
   "source": [
    "### Q13 Write a code that uses a lambda function to check whether a given number is even or odd ."
   ]
  },
  {
   "cell_type": "code",
   "execution_count": 18,
   "metadata": {},
   "outputs": [
    {
     "name": "stdout",
     "output_type": "stream",
     "text": [
      "4 is Even\n"
     ]
    }
   ],
   "source": [
    "\n",
    "x=lambda a:\"Even\" if a%2==0 else \"Odd\"\n",
    "n=int(input(\"Enter value of n\"))\n",
    "print(n,\"is\",x(n))\n"
   ]
  },
  {
   "cell_type": "markdown",
   "metadata": {},
   "source": [
    "### Q15 Write a code that uses a lambda function to concatenate two strings."
   ]
  },
  {
   "cell_type": "code",
   "execution_count": 21,
   "metadata": {},
   "outputs": [
    {
     "name": "stdout",
     "output_type": "stream",
     "text": [
      "Concatenation of hii and 5 is hii 5\n"
     ]
    }
   ],
   "source": [
    "\n",
    "x=lambda a,b:a+\" \"+b\n",
    "str1=str(input(\"Enter First String\"))\n",
    "str2=str(input(\"Enter Second String\"))\n",
    "\n",
    "print(\"Concatenation of\",str1,\"and\",str2,\"is\",x(str1,str2))"
   ]
  },
  {
   "cell_type": "markdown",
   "metadata": {},
   "source": [
    "### Q16 Write a code that uses a lambda function to find the maximum of three given numbers ."
   ]
  },
  {
   "cell_type": "code",
   "execution_count": 27,
   "metadata": {},
   "outputs": [
    {
     "name": "stdout",
     "output_type": "stream",
     "text": [
      "Maximum of  2 76 99 is 99\n"
     ]
    }
   ],
   "source": [
    "\n",
    "x=lambda a,b,c: a if a>b and a>c else b if b>a and b>c else c\n",
    "n1=int(input(\"Enter value of n1\"))\n",
    "n2=int(input(\"Enter value of n2\"))\n",
    "n3=int(input(\"Enter value of n3\"))\n",
    "print(\"Maximum of \",n1,n2,n3,\"is\",x(n1,n2,n3))\n"
   ]
  },
  {
   "cell_type": "markdown",
   "metadata": {},
   "source": [
    "### Q17 Write a code that generates the squares of even numbers from a given list ."
   ]
  },
  {
   "cell_type": "code",
   "execution_count": 34,
   "metadata": {},
   "outputs": [
    {
     "name": "stdout",
     "output_type": "stream",
     "text": [
      "4 16 36 "
     ]
    }
   ],
   "source": [
    "\n",
    "def squares_of_elementInList_even(l):\n",
    "    for i in l:\n",
    "        if i%2==0:\n",
    "            print(i**2,end=\" \")\n",
    "l=[1,2,3,4,5,6]\n",
    "squares_of_elementInList_even(l)"
   ]
  },
  {
   "cell_type": "markdown",
   "metadata": {},
   "source": [
    "### Q18 Write a code that calculates the product of positive numbers from a given list."
   ]
  },
  {
   "cell_type": "code",
   "execution_count": 37,
   "metadata": {},
   "outputs": [
    {
     "data": {
      "text/plain": [
       "24"
      ]
     },
     "execution_count": 37,
     "metadata": {},
     "output_type": "execute_result"
    }
   ],
   "source": [
    "\n",
    "def product_of_positive(l):\n",
    "    pro=1\n",
    "    for i in l:\n",
    "        if i>0:\n",
    "            pro*=i\n",
    "    return pro\n",
    "l=[-1,2,3,-2,4,-5]\n",
    "product_of_positive(l)"
   ]
  },
  {
   "cell_type": "markdown",
   "metadata": {},
   "source": [
    "### Q 19  Write a code that doubles the values of odd numbers from a given list."
   ]
  },
  {
   "cell_type": "code",
   "execution_count": 39,
   "metadata": {},
   "outputs": [
    {
     "data": {
      "text/plain": [
       "[2, 2, 6, 4, 10, 6]"
      ]
     },
     "execution_count": 39,
     "metadata": {},
     "output_type": "execute_result"
    }
   ],
   "source": [
    "\n",
    "def doubles_odd_number(l):\n",
    "    lis=[]\n",
    "    for i in l:\n",
    "        if i%2==0:\n",
    "            lis.append(i)\n",
    "        else:\n",
    "            lis.append(i+i)\n",
    "    return lis\n",
    "\n",
    "l=[1,2,3,4,5,6]\n",
    "doubles_odd_number(l)"
   ]
  },
  {
   "cell_type": "markdown",
   "metadata": {},
   "source": [
    "### Q20 Write a code that calculates the sum of cubes of numbers from a given list."
   ]
  },
  {
   "cell_type": "code",
   "execution_count": 40,
   "metadata": {},
   "outputs": [
    {
     "data": {
      "text/plain": [
       "100"
      ]
     },
     "execution_count": 40,
     "metadata": {},
     "output_type": "execute_result"
    }
   ],
   "source": [
    "\n",
    "def sum_of_cubes(l):\n",
    "    sum=0\n",
    "    for i in l:\n",
    "        sum+=i**3\n",
    "    return sum\n",
    "\n",
    "l=[1,2,3,4]\n",
    "sum_of_cubes(l)"
   ]
  },
  {
   "cell_type": "markdown",
   "metadata": {},
   "source": [
    "### Q21 Write a code that filters out prime numbers from a given list."
   ]
  },
  {
   "cell_type": "code",
   "execution_count": 42,
   "metadata": {},
   "outputs": [
    {
     "data": {
      "text/plain": [
       "[2, 7, 23, 29]"
      ]
     },
     "execution_count": 42,
     "metadata": {},
     "output_type": "execute_result"
    }
   ],
   "source": [
    "\n",
    "def is_prime(num):\n",
    "    if num<=1:\n",
    "        return False\n",
    "    for i in range(2,int(num**0.5)+1):\n",
    "        if num%i==0:\n",
    "            return False\n",
    "    return True\n",
    "\n",
    "def filter_prime(l):\n",
    "    lis=[]\n",
    "    for i in l:\n",
    "        if is_prime(i):\n",
    "            lis.append(i)\n",
    "    return lis\n",
    "\n",
    "l=[2,4,7,22,23,29,30,8,10]\n",
    "filter_prime(l)\n",
    "    "
   ]
  },
  {
   "cell_type": "markdown",
   "metadata": {},
   "source": [
    "### Q22 Write a code that uses a lambda function to calculate the sum of two numbers."
   ]
  },
  {
   "cell_type": "code",
   "execution_count": 19,
   "metadata": {},
   "outputs": [
    {
     "name": "stdout",
     "output_type": "stream",
     "text": [
      "Sum of  4  and  5  is  9\n"
     ]
    }
   ],
   "source": [
    "\n",
    "x=lambda a,b:a+b\n",
    "n1=int(input(\"Enter first num:\"))\n",
    "n2=int(input(\"Enter Second num:\"))\n",
    "print(\"Sum of \",n1, \" and \",n2, \" is \",x(n1,n2))"
   ]
  },
  {
   "cell_type": "markdown",
   "metadata": {},
   "source": [
    "### Q23 Write a code that uses a lambda function to calculate the square of a given number."
   ]
  },
  {
   "cell_type": "code",
   "execution_count": 20,
   "metadata": {},
   "outputs": [
    {
     "name": "stdout",
     "output_type": "stream",
     "text": [
      "Square of  3 is 9\n"
     ]
    }
   ],
   "source": [
    "\n",
    "x=lambda a:a**2\n",
    "n=int(input(\"Enter value of n\"))\n",
    "print(\"Square of \",n,\"is\", x(n))"
   ]
  },
  {
   "cell_type": "markdown",
   "metadata": {},
   "source": [
    "### Q24 Write a code that uses a lambda function to check whether a given number is even or odd."
   ]
  },
  {
   "cell_type": "code",
   "execution_count": 21,
   "metadata": {},
   "outputs": [
    {
     "name": "stdout",
     "output_type": "stream",
     "text": [
      "5 is Odd\n"
     ]
    }
   ],
   "source": [
    "\n",
    "x=lambda a:\"Even\" if a%2==0 else \"Odd\"\n",
    "n=int(input(\"Enter value of n\"))\n",
    "print(n,\"is\",x(n))\n"
   ]
  },
  {
   "cell_type": "markdown",
   "metadata": {},
   "source": [
    "### Q25  Write a code that uses a lambda function to concatenate two strings."
   ]
  },
  {
   "cell_type": "code",
   "execution_count": 22,
   "metadata": {},
   "outputs": [
    {
     "name": "stdout",
     "output_type": "stream",
     "text": [
      "Concatenation of hii and hello is hii hello\n"
     ]
    }
   ],
   "source": [
    "\n",
    "x=lambda a,b:a+\" \"+b\n",
    "str1=str(input(\"Enter First String\"))\n",
    "str2=str(input(\"Enter Second String\"))\n",
    "\n",
    "print(\"Concatenation of\",str1,\"and\",str2,\"is\",x(str1,str2))"
   ]
  },
  {
   "cell_type": "markdown",
   "metadata": {},
   "source": [
    "### Q26 Write a code that uses a lambda function to find the maximum of three given numbers."
   ]
  },
  {
   "cell_type": "code",
   "execution_count": 23,
   "metadata": {},
   "outputs": [
    {
     "name": "stdout",
     "output_type": "stream",
     "text": [
      "Maximum of  4 5 2 is 5\n"
     ]
    }
   ],
   "source": [
    "\n",
    "x=lambda a,b,c: a if a>b and a>c else b if b>a and b>c else c\n",
    "n1=int(input(\"Enter value of n1\"))\n",
    "n2=int(input(\"Enter value of n2\"))\n",
    "n3=int(input(\"Enter value of n3\"))\n",
    "print(\"Maximum of \",n1,n2,n3,\"is\",x(n1,n2,n3))\n"
   ]
  },
  {
   "cell_type": "markdown",
   "metadata": {},
   "source": [
    "### Q27 What is encapsulation in OOP?\n",
    "'''Encapsulation is one of the four fundamental principles of object-oriented \n",
    "programming (OOP), alongside abstraction, inheritance, and polymorphism. \n",
    "It refers to the bundling of data (attributes) and methods (functions or procedures \n",
    "that operate on the data) that manipulate the data into a single unit, called a class. \n",
    "The data within a class is often referred to as \"attributes\" or \"properties,\" \n",
    "and the methods as \"behavior\" or \"functions.\"'''\n"
   ]
  },
  {
   "cell_type": "markdown",
   "metadata": {},
   "source": [
    "### Q28 Explain the use of access modifiers in Python classes."
   ]
  },
  {
   "cell_type": "code",
   "execution_count": 5,
   "metadata": {},
   "outputs": [
    {
     "name": "stdout",
     "output_type": "stream",
     "text": [
      "10\n",
      "This is a public method\n",
      "30\n",
      "This is a protected method\n"
     ]
    }
   ],
   "source": [
    "\n",
    "class MyClass:\n",
    "    def __init__(self):\n",
    "        self.public_attribute = 10           # Public attribute\n",
    "        self.__private_attribute = 20        # Private attribute\n",
    "        self._protected_attribute = 30       # Protected attribute\n",
    "\n",
    "    def public_method(self):\n",
    "        print(\"This is a public method\")\n",
    "\n",
    "    def __private_method(self):\n",
    "        print(\"This is a private method\")\n",
    "\n",
    "    def _protected_method(self):\n",
    "        print(\"This is a protected method\")\n",
    "\n",
    "# Creating an instance of MyClass\n",
    "obj = MyClass()\n",
    "\n",
    "# Accessing public attributes and methods (allowed)\n",
    "print(obj.public_attribute)     # Output: 10\n",
    "obj.public_method()              # Output: This is a public method\n",
    "\n",
    "# Accessing private attributes and methods (not allowed)\n",
    "# print(obj.__private_attribute)  # This will raise an AttributeError\n",
    "# obj.__private_method()          # This will raise an AttributeError\n",
    "\n",
    "# Accessing protected attributes and methods (allowed, but not recommended)\n",
    "print(obj._protected_attribute)    # Output: 30\n",
    "obj._protected_method()            # Output: This is a protected method\n"
   ]
  },
  {
   "cell_type": "markdown",
   "metadata": {},
   "source": [
    "### Q29 What is inheritance in OOP ?"
   ]
  },
  {
   "cell_type": "code",
   "execution_count": 6,
   "metadata": {},
   "outputs": [
    {
     "name": "stdout",
     "output_type": "stream",
     "text": [
      "sound\n"
     ]
    }
   ],
   "source": [
    "\n",
    "''' using properties of a class in another class is called inheritance'''\n",
    "#eg\n",
    "class Animal():\n",
    "    def make_sound():\n",
    "        print(\"sound\")\n",
    "class Dog(Animal):\n",
    "    pass\n",
    "\n",
    "d1=Dog\n",
    "d1.make_sound()"
   ]
  },
  {
   "cell_type": "markdown",
   "metadata": {},
   "source": [
    "### Q30 Define polymorphism in OOP .\n",
    "'''Polymorphism is one of the core principles of object-oriented programming (OOP) \n",
    "that allows objects of different classes to be treated as objects of a common superclass.\n",
    " It enables a single interface to represent multiple underlying forms (types) and behavior. \n",
    "The term \"polymorphism\" is derived from Greek, where \"poly\" means many and \"morph\" means form.'''"
   ]
  },
  {
   "cell_type": "markdown",
   "metadata": {},
   "source": [
    "### Q31 Explain method overriding in Python .\n",
    "'''Method overriding is a feature in object-oriented programming that allows a subclass to provide a specific \n",
    "implementation of a method that is already defined in its superclass. \n",
    "This allows the subclass to customize or extend the behavior of the inherited method without modifying the superclass itself.'''"
   ]
  },
  {
   "cell_type": "markdown",
   "metadata": {},
   "source": [
    "### Q32  Define a parent class Animal with a method make_sound that prints \"Generic animal sound\". Create a \n",
    "### child class Dog inheriting from Animal with a method make_sound that prints \"Woof!\""
   ]
  },
  {
   "cell_type": "code",
   "execution_count": 18,
   "metadata": {},
   "outputs": [
    {
     "name": "stdout",
     "output_type": "stream",
     "text": [
      "Woof!\n"
     ]
    }
   ],
   "source": [
    "\n",
    "class Animal1():\n",
    "    def make_sound():\n",
    "        print(\"Generic animal sound\")\n",
    "\n",
    "class Dog1(Animal1):\n",
    "    def make_sound():\n",
    "        print(\"Woof!\")\n",
    "\n",
    "d1=Dog1\n",
    "d1.make_sound()"
   ]
  },
  {
   "cell_type": "markdown",
   "metadata": {},
   "source": [
    "### Q33 Define a method move in the Animal class that prints \"Animal moves\". Override the move method in the \n",
    "### Dog class to print \"Dog runs!\""
   ]
  },
  {
   "cell_type": "code",
   "execution_count": 19,
   "metadata": {},
   "outputs": [
    {
     "name": "stdout",
     "output_type": "stream",
     "text": [
      "Dog runs!\n"
     ]
    }
   ],
   "source": [
    "\n",
    "\n",
    "class Animal():\n",
    "    def move():\n",
    "        print(\"Animal moves\")\n",
    "\n",
    "class Dog(Animal,Dog1):\n",
    "    def move():\n",
    "        print(\"Dog runs!\")\n",
    "\n",
    "d1=Dog\n",
    "d1.move()"
   ]
  },
  {
   "cell_type": "markdown",
   "metadata": {},
   "source": [
    "### Q34  Create a class Mammal with a method reproduce that prints \"Giving birth to live young.\" Create a class \n",
    "### DogMammal inheriting from both Dog and Mammal."
   ]
  },
  {
   "cell_type": "code",
   "execution_count": 16,
   "metadata": {},
   "outputs": [
    {
     "name": "stdout",
     "output_type": "stream",
     "text": [
      "Dog runs!\n",
      "Giving birth to live young\n"
     ]
    }
   ],
   "source": [
    "\n",
    "class Mammal():\n",
    "    def reproduce():\n",
    "        print(\"Giving birth to live young\")\n",
    "\n",
    "class DogMammal(Dog,Mammal):\n",
    "    pass\n",
    "\n",
    "d2=DogMammal\n",
    "d2.move()\n",
    "d2.reproduce()"
   ]
  },
  {
   "cell_type": "markdown",
   "metadata": {},
   "source": [
    "### Q35  Create a class GermanShepherd inheriting from Dog and override the make_sound method to print \"Bark!\"\n"
   ]
  },
  {
   "cell_type": "code",
   "execution_count": 21,
   "metadata": {},
   "outputs": [
    {
     "name": "stdout",
     "output_type": "stream",
     "text": [
      "Bark!\n"
     ]
    }
   ],
   "source": [
    "\n",
    "class GermanShepherd(Dog):\n",
    "    def make_sound():\n",
    "        print(\"Bark!\")\n",
    "\n",
    "d3=GermanShepherd\n",
    "d3.make_sound()\n",
    "    "
   ]
  },
  {
   "cell_type": "markdown",
   "metadata": {},
   "source": [
    "### Q36 Define constructors in both the Animal and Dog classes with different initialization parameters. "
   ]
  },
  {
   "cell_type": "code",
   "execution_count": 26,
   "metadata": {},
   "outputs": [
    {
     "name": "stdout",
     "output_type": "stream",
     "text": [
      "constructor with value  5\n",
      "Constructor with value 6\n"
     ]
    },
    {
     "data": {
      "text/plain": [
       "<__main__.Dog at 0x2669ec1cb90>"
      ]
     },
     "execution_count": 26,
     "metadata": {},
     "output_type": "execute_result"
    }
   ],
   "source": [
    "\n",
    "\n",
    "class Animal():\n",
    "    def __init__(self,a) -> None:\n",
    "        print(\"constructor with value \",a)\n",
    "class Dog():\n",
    "    def __init__(self,b) -> None:\n",
    "        print(\"Constructor with value\",b)\n",
    "\n",
    "Animal(5)\n",
    "\n",
    "Dog(6)\n"
   ]
  },
  {
   "cell_type": "markdown",
   "metadata": {},
   "source": [
    "### Q37 What is abstraction in Python? How is it implemented ."
   ]
  },
  {
   "cell_type": "code",
   "execution_count": 4,
   "metadata": {},
   "outputs": [
    {
     "name": "stdout",
     "output_type": "stream",
     "text": [
      "Woof!\n",
      "Meow!\n"
     ]
    }
   ],
   "source": [
    "\n",
    "'''abstraction refers to the process of hiding the complex implementation details\n",
    " and showing only the essential features of an object. It allows programmers to focus \n",
    " on what an object does rather than how it achieves its functionality. \n",
    "Abstraction is often implemented using abstract classes and methods.\n",
    "eg-'''\n",
    "from abc import ABC, abstractmethod\n",
    "\n",
    "class Animal(ABC):  # Abstract base class\n",
    "    @abstractmethod\n",
    "    def make_sound(self):\n",
    "        pass\n",
    "\n",
    "class Dog(Animal):  # Concrete subclass\n",
    "    def make_sound(self):\n",
    "        return \"Woof!\"\n",
    "\n",
    "class Cat(Animal):  # Concrete subclass\n",
    "    def make_sound(self):\n",
    "        return \"Meow!\"\n",
    "\n",
    "# Creating instances of concrete subclasses\n",
    "dog = Dog()\n",
    "cat = Cat()\n",
    "\n",
    "# Calling the common method\n",
    "print(dog.make_sound())  # Output: Woof!\n",
    "print(cat.make_sound())  # Output: Meow!\n"
   ]
  },
  {
   "cell_type": "markdown",
   "metadata": {},
   "source": [
    "### Q38 Explain the importance of abstraction in object-oriented programming .\n",
    "'''\n",
    "1. Simplicity and Manageability\n",
    "2. Code Reusability\n",
    "3. Encapsulation\n",
    "4. Flexibility and Extensibility\n",
    "5. Polymorphism'''"
   ]
  },
  {
   "cell_type": "markdown",
   "metadata": {},
   "source": [
    "### Q39 How are abstract methods different from regular methods in Python ."
   ]
  },
  {
   "cell_type": "code",
   "execution_count": 3,
   "metadata": {},
   "outputs": [
    {
     "name": "stdout",
     "output_type": "stream",
     "text": [
      "Abstract method implementation in SubClass\n",
      "Overridden regular method in SubClass\n"
     ]
    }
   ],
   "source": [
    "\n",
    "from abc import ABC, abstractmethod\n",
    "\n",
    "class BaseClass(ABC):\n",
    "    @abstractmethod\n",
    "    def abstract_method(self):\n",
    "        pass\n",
    "\n",
    "    def regular_method(self):\n",
    "        print(\"This is a regular method in BaseClass\")\n",
    "\n",
    "class SubClass(BaseClass):\n",
    "    def abstract_method(self):\n",
    "        print(\"Abstract method implementation in SubClass\")\n",
    "\n",
    "    # Regular method overridden from BaseClass\n",
    "    def regular_method(self):\n",
    "        print(\"Overridden regular method in SubClass\")\n",
    "\n",
    "# Instantiating SubClass\n",
    "subclass_instance = SubClass()\n",
    "\n",
    "# Calling methods\n",
    "subclass_instance.abstract_method()  # Output: Abstract method implementation in SubClass\n",
    "subclass_instance.regular_method()   # Output: Overridden regular method in SubClass\n"
   ]
  },
  {
   "cell_type": "markdown",
   "metadata": {},
   "source": [
    "### Q40  How can you achieve abstraction using interfaces in Python."
   ]
  },
  {
   "cell_type": "code",
   "execution_count": 2,
   "metadata": {},
   "outputs": [
    {
     "name": "stdout",
     "output_type": "stream",
     "text": [
      "Area of circle: 78.53981633974483\n",
      "Area of square: 16\n",
      "Area of triangle: 9.0\n"
     ]
    }
   ],
   "source": [
    "\n",
    "from abc import ABC, abstractmethod\n",
    "import math\n",
    "class Shape(ABC):\n",
    "    @abstractmethod\n",
    "    def calculate_area(self):\n",
    "        pass\n",
    "\n",
    "class Circle(Shape):\n",
    "    def __init__(self, radius):\n",
    "        self.radius = radius\n",
    "\n",
    "    def calculate_area(self):\n",
    "        return math.pi * self.radius**2\n",
    "\n",
    "class Square(Shape):\n",
    "    def __init__(self, side_length):\n",
    "        self.side_length = side_length\n",
    "\n",
    "    def calculate_area(self):\n",
    "        return self.side_length**2\n",
    "\n",
    "class Triangle(Shape):\n",
    "    def __init__(self, base, height):\n",
    "        self.base = base\n",
    "        self.height = height\n",
    "\n",
    "    def calculate_area(self):\n",
    "        return 0.5 * self.base * self.height\n",
    "\n",
    "# Create instances of different shapes\n",
    "circle = Circle(5)\n",
    "square = Square(4)\n",
    "triangle = Triangle(3, 6)\n",
    "\n",
    "# Calculate and print areas\n",
    "print(\"Area of circle:\", circle.calculate_area())\n",
    "print(\"Area of square:\", square.calculate_area())\n",
    "print(\"Area of triangle:\", triangle.calculate_area())\n"
   ]
  },
  {
   "cell_type": "markdown",
   "metadata": {},
   "source": [
    "### Q41  Can you provide an example of how abstraction can be utilized to create a common interface for a group \n",
    "### of related classes in Python.\n"
   ]
  },
  {
   "cell_type": "code",
   "execution_count": 1,
   "metadata": {},
   "outputs": [
    {
     "name": "stdout",
     "output_type": "stream",
     "text": [
      "Area of circle: 78.53981633974483\n",
      "Area of square: 16\n",
      "Area of triangle: 9.0\n"
     ]
    }
   ],
   "source": [
    "\n",
    "from abc import ABC, abstractmethod\n",
    "import math\n",
    "\n",
    "class Shape(ABC):\n",
    "    @abstractmethod\n",
    "    def calculate_area(self):\n",
    "        pass\n",
    "\n",
    "class Circle(Shape):\n",
    "    def __init__(self, radius):\n",
    "        self.radius = radius\n",
    "\n",
    "    def calculate_area(self):\n",
    "        return math.pi * self.radius**2\n",
    "\n",
    "class Square(Shape):\n",
    "    def __init__(self, side_length):\n",
    "        self.side_length = side_length\n",
    "\n",
    "    def calculate_area(self):\n",
    "        return self.side_length**2\n",
    "\n",
    "class Triangle(Shape):\n",
    "    def __init__(self, base, height):\n",
    "        self.base = base\n",
    "        self.height = height\n",
    "\n",
    "    def calculate_area(self):\n",
    "        return 0.5 * self.base * self.height\n",
    "\n",
    "# Create instances of different shapes\n",
    "circle = Circle(5)\n",
    "square = Square(4)\n",
    "triangle = Triangle(3, 6)\n",
    "\n",
    "# Calculate and print areas\n",
    "print(\"Area of circle:\", circle.calculate_area())\n",
    "print(\"Area of square:\", square.calculate_area())\n",
    "print(\"Area of triangle:\", triangle.calculate_area())\n"
   ]
  },
  {
   "cell_type": "markdown",
   "metadata": {},
   "source": [
    "### Q42  How does Python achieve polymorphism through method overriding."
   ]
  },
  {
   "cell_type": "code",
   "execution_count": 7,
   "metadata": {},
   "outputs": [
    {
     "name": "stdout",
     "output_type": "stream",
     "text": [
      "Woof!\n",
      "Meow!\n",
      "Woof!\n",
      "Meow!\n"
     ]
    }
   ],
   "source": [
    "\n",
    "class Animal:\n",
    "    def sound(self):\n",
    "        return \"Generic animal sound\"\n",
    "\n",
    "class Dog(Animal):\n",
    "    def sound(self):\n",
    "        return \"Woof!\"\n",
    "\n",
    "class Cat(Animal):\n",
    "    def sound(self):\n",
    "        return \"Meow!\"\n",
    "dog = Dog()\n",
    "cat = Cat()\n",
    "\n",
    "print(dog.sound())  \n",
    "print(cat.sound()) \n",
    "\n",
    "def make_sound(animal):\n",
    "    print(animal.sound())\n",
    "\n",
    "make_sound(dog)  \n",
    "make_sound(cat)  "
   ]
  },
  {
   "cell_type": "markdown",
   "metadata": {},
   "source": [
    "### Q43  Define a base class with a method and a subclass that overrides the method ."
   ]
  },
  {
   "cell_type": "code",
   "execution_count": 33,
   "metadata": {},
   "outputs": [
    {
     "name": "stdout",
     "output_type": "stream",
     "text": [
      "Base class function\n",
      "Sub class overwrite BaseClass function\n"
     ]
    }
   ],
   "source": [
    "\n",
    "class BaseClass():\n",
    "    def fun():\n",
    "        print(\"Base class function\")\n",
    "\n",
    "class SubClass(BaseClass):\n",
    "    def fun():\n",
    "        print(\"Sub class overwrite BaseClass function\")\n",
    "\n",
    "b1=BaseClass\n",
    "b1.fun()\n",
    "s1=SubClass\n",
    "s1.fun()"
   ]
  },
  {
   "cell_type": "markdown",
   "metadata": {},
   "source": [
    "### Q44  Define a base class and multiple subclasses with overridden methods."
   ]
  },
  {
   "cell_type": "code",
   "execution_count": 34,
   "metadata": {},
   "outputs": [
    {
     "name": "stdout",
     "output_type": "stream",
     "text": [
      "Base class function\n",
      "Subclass1 overwrite BaseClass1 function\n",
      "Subclass1 overwrite BaseClass1 function\n"
     ]
    }
   ],
   "source": [
    "\n",
    "class BaseClass1():\n",
    "    def fun():\n",
    "        print(\"Base class function\")\n",
    "\n",
    "class SubClass1(BaseClass1):\n",
    "    def fun():\n",
    "        print(\"Subclass1 overwrite BaseClass1 function\")\n",
    "\n",
    "class SubClass2(SubClass1):\n",
    "    def fun():\n",
    "        print(\"Subclass 2 overwrites subclass1 function\")\n",
    "b1=BaseClass1\n",
    "b1.fun()\n",
    "s1=SubClass1\n",
    "s1.fun()\n",
    "s2=SubClass2\n",
    "s1.fun()"
   ]
  },
  {
   "cell_type": "markdown",
   "metadata": {},
   "source": [
    "### Q45 How does polymorphism improve code readability and reusability .\n",
    "'''Polymorphism improves code readability and reusability in several ways:\n",
    "\n",
    "Clearer Intent\n",
    "Simplified Interfaces\n",
    "Code Reusability\n",
    "Flexible Design'''"
   ]
  },
  {
   "cell_type": "markdown",
   "metadata": {},
   "source": [
    "### Q46 Describe how Python supports polymorphism with duck typing."
   ]
  },
  {
   "cell_type": "code",
   "execution_count": 6,
   "metadata": {},
   "outputs": [
    {
     "name": "stdout",
     "output_type": "stream",
     "text": [
      "12\n",
      "78.5\n"
     ]
    }
   ],
   "source": [
    "\n",
    "'''Python supports polymorphism through duck typing, a concept that emphasizes the behavior of an object over its type. \n",
    "In Python, polymorphism allows objects of different types to be treated as if they were the same type if they support a \n",
    "common interface or behavior. Duck typing achieves this by not focusing on the type of an object but rather on whether an\n",
    " object supports the required methods or operations.\n",
    " \n",
    " eg-'''\n",
    "def area(shape):\n",
    "    return shape.area()\n",
    "\n",
    "class Rectangle:\n",
    "    def __init__(self, width, height):\n",
    "        self.width = width\n",
    "        self.height = height\n",
    "    def area(self):\n",
    "        return self.width * self.height\n",
    "\n",
    "class Circle:\n",
    "    def __init__(self, radius):\n",
    "        self.radius = radius\n",
    "    def area(self):\n",
    "        return 3.14 * self.radius ** 2\n",
    "\n",
    "rect = Rectangle(3, 4)\n",
    "circle = Circle(5)\n",
    "\n",
    "print(area(rect))    \n",
    "print(area(circle))  \n"
   ]
  },
  {
   "cell_type": "markdown",
   "metadata": {},
   "source": [
    "### Q47 How do you achieve encapsulation in Python .\n",
    "''' \n",
    "Encaplutation in python is achieved by using access modifiers like public, private, and protected\n",
    "'''"
   ]
  },
  {
   "cell_type": "markdown",
   "metadata": {},
   "source": [
    "### Q48  Can encapsulation be bypassed in Python? If so, how ?\n",
    "'''encapsulation can be bypassed to some extent due to its dynamic nature and the flexibility it offers. \n",
    "While Python provides mechanisms for encapsulation, such as using underscores to indicate private members or properties, \n",
    "these are conventions rather than strict rules enforced by the language itself. Here's how encapsulation can be bypassed in Python:\n",
    "1.Accessing Private Members\n",
    "2.Using Reflection\n",
    "3.Monkey Patching\n",
    "'''\n"
   ]
  },
  {
   "cell_type": "markdown",
   "metadata": {},
   "source": [
    "### Q49 Implement a class BankAccount with a private balance attribute. Include methods to deposit, withdraw, \n",
    "### and check the balance."
   ]
  },
  {
   "cell_type": "code",
   "execution_count": 48,
   "metadata": {},
   "outputs": [
    {
     "data": {
      "text/plain": [
       "150"
      ]
     },
     "execution_count": 48,
     "metadata": {},
     "output_type": "execute_result"
    }
   ],
   "source": [
    "\n",
    "class BankAccount:\n",
    "    def __init__(self,bal=0) -> None:\n",
    "        self.__balance=bal\n",
    "    def deposit(self,amt):\n",
    "        self.__balance+=amt\n",
    "    def withdraw(self,amt):\n",
    "        self.__balance-=amt\n",
    "    def showBalance(self):\n",
    "        return self.__balance\n",
    "\n",
    "b1=BankAccount(100)\n",
    "b1.deposit(100)\n",
    "b1.withdraw(50)\n",
    "b1.showBalance()"
   ]
  },
  {
   "cell_type": "markdown",
   "metadata": {},
   "source": [
    "### Q50 Develop a Person class with private attributes name and email, and methods to set and get the email ."
   ]
  },
  {
   "cell_type": "code",
   "execution_count": 51,
   "metadata": {},
   "outputs": [
    {
     "name": "stdout",
     "output_type": "stream",
     "text": [
      "abc@example.com\n",
      "updated email bcd@example.com\n"
     ]
    }
   ],
   "source": [
    "\n",
    "class Person:\n",
    "    def __init__(self,name,email) -> None:\n",
    "        self.__name=name\n",
    "        self.__email=email\n",
    "    def setEmail(self,email):\n",
    "        self.__email=email\n",
    "    def getEmail(self):\n",
    "        return self.__email\n",
    "p1=Person(\"Subhajit\",\"abc@example.com\")\n",
    "print(p1.getEmail())\n",
    "p1.setEmail(\"bcd@example.com\")\n",
    "print(\"updated email\",p1.getEmail())\n"
   ]
  },
  {
   "cell_type": "markdown",
   "metadata": {},
   "source": [
    "### Q51 Why is encapsulation considered a pillar of object-oriented programming (OOP)? \n",
    "'''There are several reasons why encapsulation is considered a pillar of OOP:\n",
    "\n",
    "1. Data Hiding: Encapsulation allows the internal state of an object to be hidden from the outside world. \n",
    "2. Abstraction: Encapsulation provides a way to abstract the behavior of an object from its implementation. \n",
    "3. Modularity: By encapsulating related data and methods within a class, encapsulation promotes modularity in code. \n",
    "4. Encapsulation and Information Hiding: Encapsulation is closely related to the concept of information hiding, where the implementation\n",
    "details of a class are hidden from the outside world. '''"
   ]
  },
  {
   "cell_type": "markdown",
   "metadata": {},
   "source": [
    "### Q52 Create a decorator in Python that adds functionality to a simple function by printing a message before \n",
    "### and after the function execution"
   ]
  },
  {
   "cell_type": "code",
   "execution_count": 4,
   "metadata": {},
   "outputs": [
    {
     "name": "stdout",
     "output_type": "stream",
     "text": [
      "before computation\n",
      "hello\n",
      "after computation\n"
     ]
    }
   ],
   "source": [
    "\n",
    "\n",
    "def my_decorator(func):\n",
    "    def wrapper():\n",
    "        print(\"before computation\")\n",
    "        func()\n",
    "        print(\"after computation\")\n",
    "    return wrapper\n",
    "\n",
    "@my_decorator\n",
    "def say_hello():\n",
    "    print(\"hello\")\n",
    "\n",
    "say_hello()"
   ]
  },
  {
   "cell_type": "markdown",
   "metadata": {},
   "source": [
    "### Q53 Modify the decorator to accept arguments and print the function name along with the message ."
   ]
  },
  {
   "cell_type": "code",
   "execution_count": 5,
   "metadata": {},
   "outputs": [
    {
     "name": "stdout",
     "output_type": "stream",
     "text": [
      "Function 'example_function' is executing with message: Hello, I'm a decorated function!\n",
      "This is an example function.\n"
     ]
    }
   ],
   "source": [
    "\n",
    "def custom_decorator_with_args(message):\n",
    "    def decorator(func):\n",
    "        def wrapper(*args, **kwargs):\n",
    "            print(f\"Function '{func.__name__}' is executing with message: {message}\")\n",
    "            return func(*args, **kwargs)\n",
    "        return wrapper\n",
    "    return decorator\n",
    "\n",
    "\n",
    "@custom_decorator_with_args(\"Hello, I'm a decorated function!\")\n",
    "def example_function():\n",
    "    print(\"This is an example function.\")\n",
    "\n",
    "example_function()"
   ]
  },
  {
   "cell_type": "markdown",
   "metadata": {},
   "source": [
    "### Q54 Create two decorators, and apply them to a single function. Ensure that they execute in the order they are applied .\n"
   ]
  },
  {
   "cell_type": "code",
   "execution_count": 2,
   "metadata": {},
   "outputs": [
    {
     "name": "stdout",
     "output_type": "stream",
     "text": [
      "decorator 1\n",
      "decorator 2\n",
      "hello\n",
      "decorator 2\n",
      "decorator 1\n"
     ]
    }
   ],
   "source": [
    "\n",
    "def decorator1(func):\n",
    "    def wrapper1():\n",
    "        print(\"decorator 1\")\n",
    "        func()\n",
    "        print(\"decorator 1\")\n",
    "    return wrapper1\n",
    "\n",
    "def decorator2(func):\n",
    "    def wrapper2():\n",
    "        print(\"decorator 2\")\n",
    "        func()\n",
    "        print(\"decorator 2\")\n",
    "    return wrapper2\n",
    "@decorator1\n",
    "@decorator2\n",
    "def say_hello():\n",
    "    print(\"hello\")\n",
    "\n",
    "say_hello()"
   ]
  },
  {
   "cell_type": "markdown",
   "metadata": {},
   "source": [
    "### Q55 Modify the decorator to accept and pass function arguments to the wrapped function ."
   ]
  },
  {
   "cell_type": "code",
   "execution_count": 1,
   "metadata": {},
   "outputs": [
    {
     "name": "stdout",
     "output_type": "stream",
     "text": [
      "Decorator arguments: arg1 arg2\n",
      "Calling wrapped function with arguments: (3, 5) {}\n",
      "Inside example_function\n"
     ]
    },
    {
     "data": {
      "text/plain": [
       "8"
      ]
     },
     "execution_count": 1,
     "metadata": {},
     "output_type": "execute_result"
    }
   ],
   "source": [
    "\n",
    "def decorator_with_arguments(arg1, arg2):\n",
    "    def decorator(func):\n",
    "        def wrapper(*args, **kwargs):\n",
    "            print(\"Decorator arguments:\", arg1, arg2)\n",
    "            print(\"Calling wrapped function with arguments:\", args, kwargs)\n",
    "            return func(*args, **kwargs)\n",
    "        return wrapper\n",
    "    return decorator\n",
    "\n",
    "@decorator_with_arguments(\"arg1\", \"arg2\")\n",
    "def example_function(a, b):\n",
    "    print(\"Inside example_function\")\n",
    "    return a + b\n",
    "\n",
    "example_function(3, 5)"
   ]
  },
  {
   "cell_type": "markdown",
   "metadata": {},
   "source": [
    "### Q56 Create a decorator that preserves the metadata of the original function ."
   ]
  },
  {
   "cell_type": "code",
   "execution_count": 2,
   "metadata": {},
   "outputs": [
    {
     "name": "stdout",
     "output_type": "stream",
     "text": [
      "Function name: example_function\n",
      "Function docstring: This is an example function.\n"
     ]
    }
   ],
   "source": [
    "\n",
    "from functools import wraps\n",
    "\n",
    "def decorator(func):\n",
    "    @wraps(func)\n",
    "    def wrapper(*args, **kwargs):\n",
    "        # Your decorator logic here\n",
    "        return func(*args, **kwargs)\n",
    "    return wrapper\n",
    "\n",
    "@decorator\n",
    "def example_function(a, b):\n",
    "    \"\"\"This is an example function.\"\"\"\n",
    "    return a + b\n",
    "\n",
    "print(\"Function name:\", example_function.__name__)\n",
    "print(\"Function docstring:\", example_function.__doc__)\n"
   ]
  },
  {
   "cell_type": "markdown",
   "metadata": {},
   "source": [
    "### Q57 Create a Python class `Calculator` with a static method `add` that takes in two numbers and returns their sum .\n"
   ]
  },
  {
   "cell_type": "code",
   "execution_count": 3,
   "metadata": {},
   "outputs": [
    {
     "name": "stdout",
     "output_type": "stream",
     "text": [
      "Result: 8\n"
     ]
    }
   ],
   "source": [
    "\n",
    "class Calculator:\n",
    "    @staticmethod\n",
    "    def add(a, b):\n",
    "        return a + b\n",
    "\n",
    "# Example usage:\n",
    "result = Calculator.add(3, 5)\n",
    "print(\"Result:\", result)  # Output: 8\n"
   ]
  },
  {
   "cell_type": "markdown",
   "metadata": {},
   "source": [
    "### Q58Create a Python class `Employee` with a class `method get_employee_count` that returns the total \n",
    "### number of employees created."
   ]
  },
  {
   "cell_type": "code",
   "execution_count": 4,
   "metadata": {},
   "outputs": [
    {
     "name": "stdout",
     "output_type": "stream",
     "text": [
      "Total number of employees: 3\n"
     ]
    }
   ],
   "source": [
    "\n",
    "class Employee:\n",
    "    employee_count = 0\n",
    "\n",
    "    def __init__(self, name):\n",
    "        self.name = name\n",
    "        Employee.employee_count += 1\n",
    "\n",
    "    @classmethod\n",
    "    def get_employee_count(cls):\n",
    "        return cls.employee_count\n",
    "\n",
    "\n",
    "emp1 = Employee(\"John\")\n",
    "emp2 = Employee(\"Alice\")\n",
    "emp3 = Employee(\"Bob\")\n",
    "\n",
    "print(\"Total number of employees:\", Employee.get_employee_count())  \n"
   ]
  },
  {
   "cell_type": "markdown",
   "metadata": {},
   "source": [
    "### Q59 Create a Python class `StringFormatter` with a static method `reverse_string` that takes a string as input \n",
    "### and returns its reverse."
   ]
  },
  {
   "cell_type": "code",
   "execution_count": 5,
   "metadata": {},
   "outputs": [
    {
     "name": "stdout",
     "output_type": "stream",
     "text": [
      "Reversed string: olleh\n"
     ]
    }
   ],
   "source": [
    "\n",
    "class StringFormatter:\n",
    "    @staticmethod\n",
    "    def reverse_string(input_string):\n",
    "        return input_string[::-1]\n",
    "\n",
    "\n",
    "reversed_string = StringFormatter.reverse_string(\"hello\")\n",
    "print(\"Reversed string:\", reversed_string)  \n"
   ]
  },
  {
   "cell_type": "markdown",
   "metadata": {},
   "source": [
    "### Q60 Create a Python class `Circle` with a class method `calculate_area` that calculates the area of a circle \n",
    "### given its radius."
   ]
  },
  {
   "cell_type": "code",
   "execution_count": 6,
   "metadata": {},
   "outputs": [
    {
     "name": "stdout",
     "output_type": "stream",
     "text": [
      "Area of the circle with radius 5 is: 78.53981633974483\n"
     ]
    }
   ],
   "source": [
    "\n",
    "import math\n",
    "\n",
    "class Circle:\n",
    "    @classmethod\n",
    "    def calculate_area(cls, radius):\n",
    "        return math.pi * radius**2\n",
    "\n",
    "\n",
    "radius = 5\n",
    "area = Circle.calculate_area(radius)\n",
    "print(\"Area of the circle with radius\", radius, \"is:\", area)\n"
   ]
  },
  {
   "cell_type": "markdown",
   "metadata": {},
   "source": [
    "### Q61 Create a Python class TemperatureConvertern with a static method celsius_to_ fahrenheit that converts \n",
    "### Celsius to Fahrenheit."
   ]
  },
  {
   "cell_type": "code",
   "execution_count": 7,
   "metadata": {},
   "outputs": [
    {
     "name": "stdout",
     "output_type": "stream",
     "text": [
      "30 Celsius is equal to 86.0 Fahrenheit\n"
     ]
    }
   ],
   "source": [
    "\n",
    "class TemperatureConverter:\n",
    "    @staticmethod\n",
    "    def celsius_to_fahrenheit(celsius):\n",
    "        return (celsius * 9/5) + 32\n",
    "\n",
    "\n",
    "celsius_temperature = 30\n",
    "fahrenheit_temperature = TemperatureConverter.celsius_to_fahrenheit(celsius_temperature)\n",
    "print(f\"{celsius_temperature} Celsius is equal to {fahrenheit_temperature} Fahrenheit\")\n"
   ]
  },
  {
   "cell_type": "markdown",
   "metadata": {},
   "source": [
    "### Q62  What is the purpose of the __str__() method in Python classes? Provide an example ."
   ]
  },
  {
   "cell_type": "code",
   "execution_count": 8,
   "metadata": {},
   "outputs": [
    {
     "name": "stdout",
     "output_type": "stream",
     "text": [
      "Toyota Corolla (2020)\n",
      "Toyota Corolla (2020)\n"
     ]
    }
   ],
   "source": [
    "\n",
    "'''The __str__() method in Python classes is used to define a string representation of an object. \n",
    "When you call the built-in str() function or use print() with an object, Python internally calls its __str__() method \n",
    "to convert the object into a string representation. \n",
    "This method allows you to define how an object should be represented as a string when it's printed or converted explicitly.'''\n",
    "class Car:\n",
    "    def __init__(self, brand, model, year):\n",
    "        self.brand = brand\n",
    "        self.model = model\n",
    "        self.year = year\n",
    "\n",
    "    def __str__(self):\n",
    "        return f\"{self.brand} {self.model} ({self.year})\"\n",
    "\n",
    "# Create an instance of the Car class\n",
    "my_car = Car(\"Toyota\", \"Corolla\", 2020)\n",
    "\n",
    "# When printing the object, Python internally calls its __str__() method\n",
    "print(my_car)  # Output: Toyota Corolla (2020)\n",
    "\n",
    "# Using str() function explicitly\n",
    "car_str = str(my_car)\n",
    "print(car_str) \n"
   ]
  },
  {
   "cell_type": "markdown",
   "metadata": {},
   "source": [
    "### Q63  How does the __len__() method work in Python? Provide an example ."
   ]
  },
  {
   "cell_type": "code",
   "execution_count": 9,
   "metadata": {},
   "outputs": [
    {
     "name": "stdout",
     "output_type": "stream",
     "text": [
      "Length of the list: 5\n"
     ]
    }
   ],
   "source": [
    "\n",
    "'''In Python, the __len__() method is used to define the length of an object. \n",
    "It allows objects to customize their behavior when the built-in len() function is called on them.\n",
    " This method should return the length of the object, typically an integer value.\n",
    "\n",
    "Here's an example to demonstrate how the __len__() method works:'''\n",
    "class MyList:\n",
    "    def __init__(self, data):\n",
    "        self.data = data\n",
    "\n",
    "    def __len__(self):\n",
    "        return len(self.data)\n",
    "\n",
    "# Create an instance of the MyList class\n",
    "my_list = MyList([1, 2, 3, 4, 5])\n",
    "\n",
    "# When calling len() on the object, Python internally calls its __len__() method\n",
    "length = len(my_list)\n",
    "print(\"Length of the list:\", length) \n"
   ]
  },
  {
   "cell_type": "markdown",
   "metadata": {},
   "source": [
    "### Q64  Explain the usage of the __add__() method in Python classes. Provide an example ."
   ]
  },
  {
   "cell_type": "code",
   "execution_count": 10,
   "metadata": {},
   "outputs": [
    {
     "name": "stdout",
     "output_type": "stream",
     "text": [
      "Resultant point: {'x': 4, 'y': 6}\n"
     ]
    }
   ],
   "source": [
    "\n",
    "'''In Python, the __add__() method is used to define the behavior of the addition operation (+) \n",
    "when applied to objects of a class. It allows objects to customize their behavior when the + operator \n",
    "is used with them. This method should return the result of the addition operation.\n",
    "\n",
    "Here's an example to illustrate the usage of the __add__() method:'''\n",
    "class Point:\n",
    "    def __init__(self, x, y):\n",
    "        self.x = x\n",
    "        self.y = y\n",
    "\n",
    "    def __add__(self, other):\n",
    "        if isinstance(other, Point):\n",
    "            return Point(self.x + other.x, self.y + other.y)\n",
    "        else:\n",
    "            raise TypeError(\"Unsupported operand type(s) for +: 'Point' and '{}'\".format(type(other)))\n",
    "\n",
    "# Create two Point objects\n",
    "point1 = Point(1, 2)\n",
    "point2 = Point(3, 4)\n",
    "\n",
    "result_point = point1 + point2\n",
    "print(\"Resultant point:\", result_point.__dict__)  \n"
   ]
  },
  {
   "cell_type": "markdown",
   "metadata": {},
   "source": [
    "### Q65 What is the purpose of the __getitem__() method in Python? Provide an example ."
   ]
  },
  {
   "cell_type": "code",
   "execution_count": 11,
   "metadata": {},
   "outputs": [
    {
     "name": "stdout",
     "output_type": "stream",
     "text": [
      "Element at index 2: 3\n",
      "Elements from index 1 to 3: [2, 3, 4]\n"
     ]
    }
   ],
   "source": [
    "\n",
    "'''\n",
    "In Python, the __getitem__() method is used to enable instances of a class to behave like sequences or mappings.\n",
    " It allows objects to support the indexing (using square brackets []) and slicing operations, similar to lists, \n",
    " tuples, dictionaries, etc. This method should return the value associated with the given index or key.\n",
    "\n",
    "Here's an example to illustrate the purpose of the __getitem__() method:\n",
    "\n",
    "'''\n",
    "class MyList:\n",
    "    def __init__(self, data):\n",
    "        self.data = data\n",
    "\n",
    "    def __getitem__(self, index):\n",
    "        return self.data[index]\n",
    "\n",
    "my_list = MyList([1, 2, 3, 4, 5])\n",
    "\n",
    "print(\"Element at index 2:\", my_list[2]) \n",
    "\n",
    "print(\"Elements from index 1 to 3:\", my_list[1:4])  \n"
   ]
  },
  {
   "cell_type": "markdown",
   "metadata": {},
   "source": [
    " ### Q66 Explain the usage of the __iter__() and __next__() methods in Python. Provide an example using \n",
    "### iterators ."
   ]
  },
  {
   "cell_type": "code",
   "execution_count": 12,
   "metadata": {},
   "outputs": [
    {
     "name": "stdout",
     "output_type": "stream",
     "text": [
      "1\n",
      "2\n",
      "3\n",
      "4\n",
      "5\n",
      "1\n",
      "2\n",
      "3\n",
      "4\n",
      "5\n"
     ]
    }
   ],
   "source": [
    "\n",
    "'''In Python, the __iter__() and __next__() methods are used to create custom iterators for objects.\n",
    "\n",
    "__iter__() method: This method is called when you use the iter() function on an object. It should return an iterator object.\n",
    "__next__() method: This method is called to retrieve the next item from the iterator. It should return the next item in the \n",
    "sequence or raise a StopIteration exception when there are no more items left.\n",
    "Here's an example to illustrate the usage of __iter__() and __next__() methods in Python:'''\n",
    "class MyIterator:\n",
    "    def __init__(self, data):\n",
    "        self.data = data\n",
    "        self.index = 0\n",
    "\n",
    "    def __iter__(self):\n",
    "        return self\n",
    "\n",
    "    def __next__(self):\n",
    "        if self.index < len(self.data):\n",
    "            value = self.data[self.index]\n",
    "            self.index += 1\n",
    "            return value\n",
    "        else:\n",
    "            raise StopIteration\n",
    "\n",
    "my_iterator = MyIterator([1, 2, 3, 4, 5])\n",
    "\n",
    "for item in my_iterator:\n",
    "    print(item)\n",
    "\n",
    "my_iterator = MyIterator([1, 2, 3, 4, 5])\n",
    "iterator_obj = iter(my_iterator)\n",
    "while True:\n",
    "    try:\n",
    "        item = next(iterator_obj)\n",
    "        print(item)\n",
    "    except StopIteration:\n",
    "        break\n"
   ]
  },
  {
   "cell_type": "markdown",
   "metadata": {},
   "source": [
    "### Q67  What is the purpose of a getter method in Python? Provide an example demonstrating the use of a getter \n",
    "###  method using property decorators."
   ]
  },
  {
   "cell_type": "code",
   "execution_count": 13,
   "metadata": {},
   "outputs": [
    {
     "name": "stdout",
     "output_type": "stream",
     "text": [
      "Radius of the circle: 5\n"
     ]
    }
   ],
   "source": [
    "\n",
    "'''In Python, a getter method is used to encapsulate the retrieval of an attribute value of an object. \n",
    "It allows controlled access to object attributes by providing a method through which the attribute value \n",
    "can be accessed without directly accessing the attribute itself. This helps in maintaining encapsulation \n",
    "and allows for better control over attribute access and manipulation.\n",
    "\n",
    "Property decorators in Python provide a way to define getter, setter, and deleter methods for class attributes. \n",
    "Here's an example demonstrating the use of a getter method using property decorators:'''\n",
    "class Circle:\n",
    "    def __init__(self, radius):\n",
    "        self._radius = radius  \n",
    "    @property\n",
    "    def radius(self):\n",
    "        return self._radius\n",
    "\n",
    "circle = Circle(5)\n",
    "\n",
    "print(\"Radius of the circle:\", circle.radius)  # Output: 5\n",
    "\n"
   ]
  },
  {
   "cell_type": "markdown",
   "metadata": {},
   "source": [
    "### Q68 Explain the role of setter methods in Python. Demonstrate how to use a setter method to modify a class \n",
    "### attribute using property decorators . "
   ]
  },
  {
   "cell_type": "code",
   "execution_count": 14,
   "metadata": {},
   "outputs": [
    {
     "name": "stdout",
     "output_type": "stream",
     "text": [
      "Radius of the circle: 5\n",
      "Modified radius of the circle: 10\n"
     ]
    }
   ],
   "source": [
    "\n",
    "'''In Python, setter methods play a crucial role in controlling the modification of class attributes. \n",
    "They allow us to define a method through which the value of an attribute can be modified. This helps in \n",
    "maintaining encapsulation and applying validation or custom logic before setting the attribute value.\n",
    "\n",
    "Property decorators in Python provide a way to define setter methods for class attributes. \n",
    "Here's an example demonstrating the use of a setter method to modify a class attribute using property decorators:'''\n",
    "class Circle:\n",
    "    def __init__(self, radius):\n",
    "        self._radius = radius  \n",
    "\n",
    "    @property\n",
    "    def radius(self):\n",
    "        return self._radius\n",
    "\n",
    "    @radius.setter\n",
    "    def radius(self, new_radius):\n",
    "        if new_radius <= 0:\n",
    "            raise ValueError(\"Radius must be positive\")\n",
    "        self._radius = new_radius\n",
    "\n",
    "circle = Circle(5)\n",
    "\n",
    "print(\"Radius of the circle:\", circle.radius)  \n",
    "\n",
    "circle.radius = 10\n",
    "\n",
    "print(\"Modified radius of the circle:\", circle.radius)  \n",
    "\n"
   ]
  },
  {
   "cell_type": "markdown",
   "metadata": {},
   "source": [
    "### Q69  What is the purpose of the @property decorator in Python? Provide an example illustrating its usage ."
   ]
  },
  {
   "cell_type": "code",
   "execution_count": 15,
   "metadata": {},
   "outputs": [
    {
     "name": "stdout",
     "output_type": "stream",
     "text": [
      "Radius of the circle: 5\n",
      "Modified radius of the circle: 10\n"
     ]
    }
   ],
   "source": [
    "\n",
    "'''In Python, the @property decorator is used to define properties for class attributes. \n",
    "It allows us to define getter, setter, and deleter methods for an attribute, providing \n",
    "controlled access and modification of that attribute. This helps in maintaining encapsulation \n",
    "and applying validation or custom logic when accessing or modifying attributes.\n",
    "\n",
    "Here's an example illustrating the usage of the @property decorator:'''\n",
    "class Circle:\n",
    "    def __init__(self, radius):\n",
    "        self._radius = radius  \n",
    "\n",
    "    @property\n",
    "    def radius(self):\n",
    "        return self._radius\n",
    "\n",
    "    @radius.setter\n",
    "    def radius(self, new_radius):\n",
    "        if new_radius <= 0:\n",
    "            raise ValueError(\"Radius must be positive\")\n",
    "        self._radius = new_radius\n",
    "\n",
    "\n",
    "circle = Circle(5)\n",
    "\n",
    "\n",
    "print(\"Radius of the circle:\", circle.radius) \n",
    "\n",
    "circle.radius = 10\n",
    "\n",
    "print(\"Modified radius of the circle:\", circle.radius)  \n",
    "\n"
   ]
  },
  {
   "cell_type": "markdown",
   "metadata": {},
   "source": [
    "### Q70 Explain the use of the @deleter decorator in Python property decorators. Provide a code example \n",
    "###  demonstrating its application ."
   ]
  },
  {
   "cell_type": "code",
   "execution_count": 16,
   "metadata": {},
   "outputs": [
    {
     "name": "stdout",
     "output_type": "stream",
     "text": [
      "Radius of the circle: 5\n",
      "Radius attribute deleted\n"
     ]
    }
   ],
   "source": [
    "\n",
    "'''In Python, the @deleter decorator is not a built-in decorator. Instead, you can use the @property \n",
    "decorator along with the @<property_name>.deleter decorator to define a deleter method for a property. \n",
    "This allows you to define custom behavior for deleting an attribute from an object.\n",
    "\n",
    "Here's how you can use the @deleter functionality using the @property decorator:'''\n",
    "class Circle:\n",
    "    def __init__(self, radius):\n",
    "        self._radius = radius  \n",
    "\n",
    "    @property\n",
    "    def radius(self):\n",
    "        return self._radius\n",
    "\n",
    "    @radius.setter\n",
    "    def radius(self, new_radius):\n",
    "        if new_radius <= 0:\n",
    "            raise ValueError(\"Radius must be positive\")\n",
    "        self._radius = new_radius\n",
    "\n",
    "    @radius.deleter\n",
    "    def radius(self):\n",
    "        del self._radius\n",
    "        print(\"Radius attribute deleted\")\n",
    "\n",
    "circle = Circle(5)\n",
    "\n",
    "print(\"Radius of the circle:\", circle.radius)  \n",
    "\n",
    "del circle.radius  \n",
    "\n"
   ]
  },
  {
   "cell_type": "markdown",
   "metadata": {},
   "source": [
    "### Q71  How does encapsulation relate to property decorators in Python? Provide an example showcasing \n",
    "### encapsulation using property decorators."
   ]
  },
  {
   "cell_type": "code",
   "execution_count": 17,
   "metadata": {},
   "outputs": [
    {
     "name": "stdout",
     "output_type": "stream",
     "text": [
      "Radius of the circle: 5\n",
      "Modified radius of the circle: 10\n",
      "Radius attribute deleted\n"
     ]
    }
   ],
   "source": [
    "\n",
    "'''Encapsulation is a fundamental principle of object-oriented programming that involves bundling data (attributes)\n",
    " and methods (functions) that operate on the data into a single unit (a class), and controlling access to that data \n",
    " and methods from outside the class. Property decorators in Python provide a mechanism to implement encapsulation by \n",
    " allowing controlled access to class attributes through getter, setter, and deleter methods.\n",
    "\n",
    "Here's an example showcasing encapsulation using property decorators:'''\n",
    "class Circle:\n",
    "    def __init__(self, radius):\n",
    "        self._radius = radius  \n",
    "\n",
    "    @property\n",
    "    def radius(self):\n",
    "        return self._radius\n",
    "\n",
    "    @radius.setter\n",
    "    def radius(self, new_radius):\n",
    "        if new_radius <= 0:\n",
    "            raise ValueError(\"Radius must be positive\")\n",
    "        self._radius = new_radius\n",
    "\n",
    "    @radius.deleter\n",
    "    def radius(self):\n",
    "        del self._radius\n",
    "        print(\"Radius attribute deleted\")\n",
    "\n",
    "circle = Circle(5)\n",
    "\n",
    "print(\"Radius of the circle:\", circle.radius)  \n",
    "circle.radius = 10\n",
    "print(\"Modified radius of the circle:\", circle.radius)  \n",
    "\n",
    "del circle.radius  \n"
   ]
  }
 ],
 "metadata": {
  "kernelspec": {
   "display_name": "Python [conda env:base] *",
   "language": "python",
   "name": "conda-base-py"
  },
  "language_info": {
   "codemirror_mode": {
    "name": "ipython",
    "version": 3
   },
   "file_extension": ".py",
   "mimetype": "text/x-python",
   "name": "python",
   "nbconvert_exporter": "python",
   "pygments_lexer": "ipython3",
   "version": "3.13.5"
  }
 },
 "nbformat": 4,
 "nbformat_minor": 4
}
