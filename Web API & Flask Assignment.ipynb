{
 "cells": [
  {
   "cell_type": "markdown",
   "id": "0e4c890e-f6bd-4719-afe5-5839755a165b",
   "metadata": {},
   "source": [
    "### 1. What is a Web API?\n",
    "\n",
    "An interface exposed over HTTP that lets software programs communicate by sending requests (e.g., GET/POST) and receiving structured responses (e.g., JSON). It abstracts a system’s data/functions so other apps can use them.\n"
   ]
  },
  {
   "cell_type": "markdown",
   "id": "eff2877c-ef30-40af-9fe4-441c4cf2b4e0",
   "metadata": {},
   "source": [
    "### 2. How does a Web API differ from a web service?\n",
    "\n",
    "“Web service” is an older, broader term (often SOAP/XML over HTTP). “Web API” commonly means RESTful/HTTP APIs using JSON. All REST APIs are web services, but not all web services are modern RESTful Web APIs.\n"
   ]
  },
  {
   "cell_type": "markdown",
   "id": "5a41ae68-5b52-42d3-8e93-59f199fe3647",
   "metadata": {},
   "source": [
    "### 3. What are the benefits of using Web APIs in software development?\n",
    "\n",
    "##### ● Reuse and integration of services/data\n",
    "##### ● Faster development via clear contracts\n",
    "##### ● Language/platform independence\n",
    "##### ● Scalability (clients/servers evolve independently)\n",
    "##### ● Ecosystem growth (partners, third-party apps)\n"
   ]
  },
  {
   "cell_type": "markdown",
   "id": "6ac35028-296e-4814-8a5d-a251433386c9",
   "metadata": {},
   "source": [
    "### 4. Explain the difference between SOAP and RESTful APIs.\n",
    "\n",
    "##### ● Protocol vs Style: SOAP is a protocol (strict XML, WSDL); REST is an architectural style (resources + HTTP).\n",
    "##### ● Format: SOAP = XML; REST = JSON/XML/others.\n",
    "##### ● Complexity: SOAP heavier (WS-*), REST is simpler.\n",
    "##### ● Use cases: SOAP favors enterprise, transactional, standardized security; REST suits web/mobile, high scale."
   ]
  },
  {
   "cell_type": "markdown",
   "id": "3d4a773c-246c-45d0-a28a-dd8fb4fd5f26",
   "metadata": {},
   "source": [
    "### 5. What is JSON and how is it commonly used in Web APIs?\n",
    "\n",
    "JavaScript Object Notation—lightweight text format for structured data. Most Web APIs serialize responses and accept requests in JSON because it’s compact and language-agnostic."
   ]
  },
  {
   "cell_type": "markdown",
   "id": "b11f074f-cbd1-4e6f-a3f2-b19017626bba",
   "metadata": {},
   "source": [
    "### 6. Can you name some popular Web API protocols other than REST?\n",
    "\n",
    "SOAP, GraphQL, gRPC, WebSockets (for realtime), XML-RPC, OData."
   ]
  },
  {
   "cell_type": "markdown",
   "id": "d463629a-53eb-41be-90ba-bbb959650a09",
   "metadata": {},
   "source": [
    "### 7. What role do HTTP methods (GET, POST, PUT, DELETE, etc.) play in Web API development?\n",
    "\n",
    "They map to actions on resources:\n",
    "\n",
    "● GET read, POST create/unsafe actions, PUT replace, PATCH partial update, DELETE remove, HEAD/OPTIONS metadata and capabilities."
   ]
  },
  {
   "cell_type": "markdown",
   "id": "eb7acd3a-be9f-44a3-826c-cd1e077781ba",
   "metadata": {},
   "source": [
    "### 8. What is the purpose of authentication and authorization in Web APIs?\n",
    "\n",
    "##### ● Authentication: verify who the caller is (identity).\n",
    "##### ● Authorization: verify what the caller is allowed to do (permissions). Protects data and enforces access control"
   ]
  },
  {
   "cell_type": "markdown",
   "id": "3ca0ff10-05ff-45d5-abab-353f78f784f3",
   "metadata": {},
   "source": [
    "### 9. How can you handle versioning in Web API development?\n",
    "\n",
    "####  ● URI versioning (/v1/…),\n",
    "##### ● Header versioning (Accept: application/vnd.example.v2+json),\n",
    "##### ● Query param versioning (less common). Keep versions parallel, document deprecations, minimize breaking changes."
   ]
  },
  {
   "cell_type": "markdown",
   "id": "670f1d31-1301-4955-b0f4-5daba19085ca",
   "metadata": {},
   "source": [
    "### 10. What are the main components of an HTTP request and response in the context of Web APIs?\n",
    "\n",
    "##### ● Request: method, URL, headers, body, query params, cookies.\n",
    "##### ● Response: status line (code + reason), headers, body (payload), cookies."
   ]
  },
  {
   "cell_type": "markdown",
   "id": "0ab50d3a-c0e5-4250-874a-d38966c81bad",
   "metadata": {},
   "source": [
    "### 11. Describe the concept of rate limiting in the context of Web APIs.\n",
    "\n",
    "Restrict how many requests a client can make in a time window (e.g., 100/minute) to protect availability, prevent abuse, and control costs. Communicate via headers like Retry-After, X-RateLimit-*."
   ]
  },
  {
   "cell_type": "markdown",
   "id": "82dcf097-dc50-4a5d-814a-f52d27c49d8f",
   "metadata": {},
   "source": [
    "### 12. How can you handle errors and exceptions in Web API responses?\n",
    "\n",
    "Use proper HTTP status codes, consistent error bodies (code, message, details, correlation id), don’t leak internals, log server-side, and return validation errors clearly (e.g., field-level messages)."
   ]
  },
  {
   "cell_type": "markdown",
   "id": "51a0af3d-ed8c-463a-b96e-59f6701c3f2d",
   "metadata": {},
   "source": [
    "### 13. Explain the concept of statelessness in RESTful Web APIs.\n",
    "\n",
    "Each request contains all information needed; the server stores no client session state. Benefits: scalability, reliability, easy load-balancing. Any state is kept client-side or in durable stores (e.g., DB, cache keyed by token)."
   ]
  },
  {
   "cell_type": "markdown",
   "id": "9b2c147d-e89e-4a71-a854-5dcc3477f46b",
   "metadata": {},
   "source": [
    "### 14. What are the best practices for designing and documenting Web APIs?\n",
    "\n",
    "Resource-oriented URIs, consistent naming, use correct methods/codes, pagination/filtering, idempotency for PUT/DELETE, versioning strategy, security (TLS/OAuth), good docs (OpenAPI/Swagger), examples, SDKs."
   ]
  },
  {
   "cell_type": "markdown",
   "id": "e707037b-31f3-4a7e-9312-a2200af92f1c",
   "metadata": {},
   "source": [
    "### 15. What role do API keys and tokens play in securing Web APIs?\n",
    "\n",
    "#### ● API keys: identify the calling app; basic access control/quotas.\n",
    "#### ● Tokens (e.g., OAuth 2.0 access tokens, JWTs): represent authenticated user/app with scopes/claims used for fine-grained authorization."
   ]
  },
  {
   "cell_type": "markdown",
   "id": "28c9a6b6-0957-4036-95e8-c05397838f93",
   "metadata": {},
   "source": [
    "### 16. What is REST, and what are its key principles?\n",
    "\n",
    "Representational State Transfer—an architectural style using HTTP for resource-based interactions. Principles: client-server, stateless, cacheable, uniform interface, layered system, (optionally) code-on-demand."
   ]
  },
  {
   "cell_type": "markdown",
   "id": "cf779fee-65a2-4322-bb12-bc036295d66f",
   "metadata": {},
   "source": [
    "### 17. Explain the difference between RESTful APIs and traditional web services.\n",
    "\n",
    "Traditional web services (often SOAP) are contract-heavy, XML-centric, rigid. RESTful APIs are resource-centric, leverage HTTP semantics, are lighter weight, and commonly use JSON"
   ]
  },
  {
   "cell_type": "markdown",
   "id": "f5c70d2e-abb9-44c9-a4ec-8aed212e574e",
   "metadata": {},
   "source": [
    "### 18. What are the main HTTP methods used in RESTful architecture, and what are their purposes?\n",
    "\n",
    "GET (read), POST (create/action), PUT (full replace), PATCH (partial update), DELETE (remove), HEAD (headers only), OPTIONS (capabilities)."
   ]
  },
  {
   "cell_type": "markdown",
   "id": "4b5b7ca5-c64f-4671-84a3-5f21e53dbd74",
   "metadata": {},
   "source": [
    "### 19. Describe the concept of statelessness in RESTful APIs.\n",
    "\n",
    "No server session; each request is self-contained. Enables horizontal scaling and failure isolation."
   ]
  },
  {
   "cell_type": "markdown",
   "id": "81bea0a7-d8e1-4c8b-b237-5877f0f74228",
   "metadata": {},
   "source": [
    "### 20. What is the significance of URIs (Uniform Resource Identifiers) in RESTful API design?\n",
    "\n",
    "URIs uniquely identify resources. Good design is hierarchical, noun-based, predictable, and avoids verbs (e.g., /users/{id}/orders)."
   ]
  },
  {
   "cell_type": "markdown",
   "id": "9430c9a2-34b6-435b-8e2d-4ca1991f8aad",
   "metadata": {},
   "source": [
    "### 21. Explain the role of hypermedia in RESTful APIs. How does it relate to HATEOAS?\n",
    "\n",
    "Responses include links that tell the client what it can do next (discoverability). Example: returning an order with links to cancel or pay. It decouples clients from hardcoded flows."
   ]
  },
  {
   "cell_type": "markdown",
   "id": "e99225c8-ae27-4ff2-81f4-9a6d48125547",
   "metadata": {},
   "source": [
    "### 22. What are the benefits of using RESTful APIs over other architectural styles?\n",
    "\n",
    "Simplicity, web-native semantics, caching, scalability, broad tooling, easier learning curve, flexibility in formats."
   ]
  },
  {
   "cell_type": "markdown",
   "id": "69edb4ec-6c71-4e89-b2f4-d65c3ed2a652",
   "metadata": {},
   "source": [
    "### 23. Discuss the concept of resource representations in RESTful APIs.\n",
    "\n",
    "The representation (JSON/XML/etc.) of a resource’s current state sent over the wire. The same resource can have multiple representations (full vs summary)."
   ]
  },
  {
   "cell_type": "markdown",
   "id": "45d38f96-d08c-4c6b-9bda-edd41cb823b4",
   "metadata": {},
   "source": [
    "### 24. How does REST handle communication between clients and servers?\n",
    "\n",
    "Via stateless HTTP requests/responses using standard methods, URIs, headers, status codes, and media types. Caching and proxies can be layered in."
   ]
  },
  {
   "cell_type": "markdown",
   "id": "efaf0e46-649b-4e89-976d-7fc48071d0ad",
   "metadata": {},
   "source": [
    "### 25. What are the common data formats used in RESTful API communication?\n",
    "\n",
    "JSON (dominant), XML, form-urlencoded, multipart/form-data (files), CSV, YAML (rare for payloads), protobuf/MessagePack (sometimes)."
   ]
  },
  {
   "cell_type": "markdown",
   "id": "8eceb016-4a2b-4988-a02c-b5c11ac908f4",
   "metadata": {},
   "source": [
    "### 26. Explain the importance of status codes in RESTful API responses.\n",
    "\n",
    "They communicate outcomes quickly to clients: 2xx success, 3xx redirection, 4xx client errors (bad input/auth), 5xx server errors. Enables robust, predictable handling."
   ]
  },
  {
   "cell_type": "markdown",
   "id": "7d9afc72-b27d-4bd8-860c-cc40a6a322b9",
   "metadata": {},
   "source": [
    "### 27. Describe the process of versioning in RESTful API development.\n",
    "\n",
    "Define policy (when to bump), choose strategy (URI/header), maintain changelog, support parallel versions, publish deprecation timelines, add tests for each version, provide migration guides."
   ]
  },
  {
   "cell_type": "markdown",
   "id": "32c06162-1142-4081-a48a-136fd675f92d",
   "metadata": {},
   "source": [
    "### 28. How can you ensure security in RESTful API development? What are common authentication methods?\n",
    "\n",
    "##### ● Always use HTTPS/TLS.\n",
    "##### ● AuthN/AuthZ: API keys, OAuth 2.0 (client credentials, auth code + PKCE), JWTs, mTLS.\n",
    "##### ● Additional: scopes/roles, input validation, rate limiting, CORS, CSRF defense (where relevant), logging/monitoring, secret rotation."
   ]
  },
  {
   "cell_type": "markdown",
   "id": "b7a14b87-4837-4c06-b93f-50d379fed13d",
   "metadata": {},
   "source": [
    "### 29. What are some best practices for documenting RESTful APIs?\n",
    "\n",
    "Use OpenAPI (Swagger), include request/response schemas,\n",
    "examples, error models, auth instructions, rate limits, pagination rules, webhooks, change log, and quick-start snippets/SDKs."
   ]
  },
  {
   "cell_type": "markdown",
   "id": "d793439c-5ded-49f1-bee5-ecb60f0c3238",
   "metadata": {},
   "source": [
    "### 30. What considerations should be made for error handling in RESTful APIs?\n",
    "\n",
    "Consistent schema, meaningful messages, localization where needed, unique error codes, mapping exceptions to correct HTTP codes, idempotent retries for safe ops, correlation IDs, and avoid sensitive data leakage."
   ]
  },
  {
   "cell_type": "markdown",
   "id": "2d357f83-37f2-48fa-b0df-3369664f6249",
   "metadata": {},
   "source": [
    "### 31. What is SOAP and how does it differ from REST?\n",
    "\n",
    "Simple Object Access Protocol—XML-based protocol with strict envelopes, actions, and optional WS-* standards. Differs by being heavier, contract-driven (WSDL), strongly standardized, and transport-agnostic (often HTTP)."
   ]
  },
  {
   "cell_type": "markdown",
   "id": "9c9f2d61-1989-4747-948b-6242a41a56ed",
   "metadata": {},
   "source": [
    "### 32. Describe the structure of a SOAP message.\n",
    "\n",
    "Envelope (root) → optional Header (metadata, security, transactions) → Body (request/response payload) → optional Fault (errors)."
   ]
  },
  {
   "cell_type": "markdown",
   "id": "bc561742-ae44-4867-9e7e-dce555b8a6fd",
   "metadata": {},
   "source": [
    "### 33. How does SOAP handles communication between clients and servers ? \n",
    "\n",
    "Exchanges XML envelopes over a transport (commonly HTTP). Uses SOAPAction, WSDL for contract, and WS-* standards for reliability, transactions, and security."
   ]
  },
  {
   "cell_type": "markdown",
   "id": "b15cd82a-3dd8-4359-b12e-88b239b36a70",
   "metadata": {},
   "source": [
    "### 34. What are the Advantages and disadvantages of using SOAP-based web services ?\n",
    "\n",
    "####  ● Pros: Strong contracts, built-in error model, WS-Security/reliability, good for enterprise transactions.\n",
    "##### ● Cons: Verbose XML, steeper learning curve, slower over networks, less friendly to browsers/mobile."
   ]
  },
  {
   "cell_type": "markdown",
   "id": "9a6b0d06-201f-4fcb-b51a-4fe88848edea",
   "metadata": {},
   "source": [
    "### 35. How does SOAP ensures security in web service communication ?\n",
    "\n",
    "WS-Security: message-level signing, encryption, timestamps, tokens (SAML), plus transport security (TLS). Supports end-to-end security across intermediaries."
   ]
  },
  {
   "cell_type": "markdown",
   "id": "271e6c0c-4d27-4dd7-9dab-8f3fe4b57df1",
   "metadata": {},
   "source": [
    "### 36. What is Flask, and what makes it different from other web frameworks?\n",
    "\n",
    "A lightweight (micro) Python web framework. Minimal core, Jinja2 templating, Werkzeug toolkit; add features via extensions. Great for APIs, prototypes, and microservices compared to heavyweight, batteries-included frameworks."
   ]
  },
  {
   "cell_type": "markdown",
   "id": "24081eae-4dd9-4d05-904b-a00adb774caf",
   "metadata": {},
   "source": [
    "### 37. Describe the basic structure of a Flask application .\n",
    "\n",
    "####  ● app.py (create Flask(__name__), define routes)\n",
    "##### ● templates/ (Jinja2 HTML files)\n",
    "####  ● static/ (CSS/JS/images)\n",
    "####  ● Optional: blueprints/, config.py, extensions/, tests/, requirements.txt."
   ]
  },
  {
   "cell_type": "markdown",
   "id": "c1968de2-b868-4ce5-b641-c48ceb834f06",
   "metadata": {},
   "source": [
    "### 38. How to install Flask on your local machine.\n",
    "\n",
    "Create/activate a virtual environment, then:\n",
    "##### pip install Flask\n",
    "Run a simple app with flask run or python app.py."
   ]
  },
  {
   "cell_type": "markdown",
   "id": "51b3753a-1569-4fdf-ba46-424c12e698a1",
   "metadata": {},
   "source": [
    "### 39. Explain the concept of routing in Flask.\n",
    "\n",
    "Mapping URLs to Python functions (view handlers) using decorators like\n",
    "#### @app.route(\"/users\", methods=[\"GET\"]).\n",
    "The function returns a response (string/JSON)."
   ]
  },
  {
   "cell_type": "markdown",
   "id": "3e89f0fc-bece-4fa8-a6e7-8c49d9deb97b",
   "metadata": {},
   "source": [
    "### 40. What are Flask templates, and how are they used in web development ?\n",
    "\n",
    "HTML files using Jinja2 syntax ({{ }} for variables, {% %} for logic). They render dynamic content server-side:\n",
    "#####  return render_template(\"profile.html\", user=user)"
   ]
  },
  {
   "cell_type": "code",
   "execution_count": null,
   "id": "56658249-1829-400e-8ec6-86d65180259b",
   "metadata": {},
   "outputs": [],
   "source": []
  }
 ],
 "metadata": {
  "kernelspec": {
   "display_name": "Python [conda env:base] *",
   "language": "python",
   "name": "conda-base-py"
  },
  "language_info": {
   "codemirror_mode": {
    "name": "ipython",
    "version": 3
   },
   "file_extension": ".py",
   "mimetype": "text/x-python",
   "name": "python",
   "nbconvert_exporter": "python",
   "pygments_lexer": "ipython3",
   "version": "3.13.5"
  }
 },
 "nbformat": 4,
 "nbformat_minor": 5
}
